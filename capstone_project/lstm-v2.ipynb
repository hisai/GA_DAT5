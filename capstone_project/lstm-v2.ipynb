{
 "cells": [
  {
   "cell_type": "markdown",
   "metadata": {},
   "source": [
    "# Data Exploration\n",
    "Download and explore the stocks data from Yahoo finance api"
   ]
  },
  {
   "cell_type": "code",
   "execution_count": 36,
   "metadata": {
    "collapsed": true
   },
   "outputs": [],
   "source": [
    "import pandas as pd\n",
    "import matplotlib.pyplot as plt\n",
    "from pandas_datareader import data\n",
    "%matplotlib inline"
   ]
  },
  {
   "cell_type": "code",
   "execution_count": 37,
   "metadata": {
    "collapsed": true
   },
   "outputs": [],
   "source": [
    "# Define the instruments to download.\n",
    "tickers = ['TSLA']\n",
    "\n",
    "# Define which online source one should use\n",
    "data_source = 'yahoo'\n",
    "\n",
    "# Download the data between start_date and end_date\n",
    "start_date = '2016-01-01'\n",
    "end_date = '2017-09-30'\n",
    "\n",
    "# User pandas_reader.data.DataReader to load the desired data. \n",
    "panel_data = data.DataReader(tickers, data_source, start_date, end_date)"
   ]
  },
  {
   "cell_type": "code",
   "execution_count": 38,
   "metadata": {
    "collapsed": true
   },
   "outputs": [],
   "source": [
    "df = panel_data.to_frame()\n",
    "df = df.sort_index(ascending=True)"
   ]
  },
  {
   "cell_type": "code",
   "execution_count": 39,
   "metadata": {},
   "outputs": [
    {
     "data": {
      "text/html": [
       "<div>\n",
       "<style>\n",
       "    .dataframe thead tr:only-child th {\n",
       "        text-align: right;\n",
       "    }\n",
       "\n",
       "    .dataframe thead th {\n",
       "        text-align: left;\n",
       "    }\n",
       "\n",
       "    .dataframe tbody tr th {\n",
       "        vertical-align: top;\n",
       "    }\n",
       "</style>\n",
       "<table border=\"1\" class=\"dataframe\">\n",
       "  <thead>\n",
       "    <tr style=\"text-align: right;\">\n",
       "      <th></th>\n",
       "      <th>Adj Close</th>\n",
       "      <th>Close</th>\n",
       "      <th>High</th>\n",
       "      <th>Low</th>\n",
       "      <th>Open</th>\n",
       "      <th>Volume</th>\n",
       "    </tr>\n",
       "  </thead>\n",
       "  <tbody>\n",
       "    <tr>\n",
       "      <th>count</th>\n",
       "      <td>441.000000</td>\n",
       "      <td>441.000000</td>\n",
       "      <td>441.000000</td>\n",
       "      <td>441.000000</td>\n",
       "      <td>441.000000</td>\n",
       "      <td>4.410000e+02</td>\n",
       "    </tr>\n",
       "    <tr>\n",
       "      <th>mean</th>\n",
       "      <td>252.700385</td>\n",
       "      <td>252.700385</td>\n",
       "      <td>256.542381</td>\n",
       "      <td>248.737846</td>\n",
       "      <td>252.845918</td>\n",
       "      <td>5.377715e+06</td>\n",
       "    </tr>\n",
       "    <tr>\n",
       "      <th>std</th>\n",
       "      <td>60.120320</td>\n",
       "      <td>60.120320</td>\n",
       "      <td>60.607241</td>\n",
       "      <td>59.490839</td>\n",
       "      <td>60.261009</td>\n",
       "      <td>2.866793e+06</td>\n",
       "    </tr>\n",
       "    <tr>\n",
       "      <th>min</th>\n",
       "      <td>143.669998</td>\n",
       "      <td>143.669998</td>\n",
       "      <td>154.970001</td>\n",
       "      <td>141.050003</td>\n",
       "      <td>142.320007</td>\n",
       "      <td>1.659500e+06</td>\n",
       "    </tr>\n",
       "    <tr>\n",
       "      <th>25%</th>\n",
       "      <td>205.399994</td>\n",
       "      <td>205.399994</td>\n",
       "      <td>209.470001</td>\n",
       "      <td>202.500000</td>\n",
       "      <td>206.399994</td>\n",
       "      <td>3.516700e+06</td>\n",
       "    </tr>\n",
       "    <tr>\n",
       "      <th>50%</th>\n",
       "      <td>229.729996</td>\n",
       "      <td>229.729996</td>\n",
       "      <td>232.000000</td>\n",
       "      <td>225.580002</td>\n",
       "      <td>229.339996</td>\n",
       "      <td>4.662900e+06</td>\n",
       "    </tr>\n",
       "    <tr>\n",
       "      <th>75%</th>\n",
       "      <td>307.190002</td>\n",
       "      <td>307.190002</td>\n",
       "      <td>310.730011</td>\n",
       "      <td>303.480011</td>\n",
       "      <td>307.440002</td>\n",
       "      <td>6.451900e+06</td>\n",
       "    </tr>\n",
       "    <tr>\n",
       "      <th>max</th>\n",
       "      <td>385.000000</td>\n",
       "      <td>385.000000</td>\n",
       "      <td>389.609985</td>\n",
       "      <td>379.350006</td>\n",
       "      <td>386.690002</td>\n",
       "      <td>2.374240e+07</td>\n",
       "    </tr>\n",
       "  </tbody>\n",
       "</table>\n",
       "</div>"
      ],
      "text/plain": [
       "        Adj Close       Close        High         Low        Open  \\\n",
       "count  441.000000  441.000000  441.000000  441.000000  441.000000   \n",
       "mean   252.700385  252.700385  256.542381  248.737846  252.845918   \n",
       "std     60.120320   60.120320   60.607241   59.490839   60.261009   \n",
       "min    143.669998  143.669998  154.970001  141.050003  142.320007   \n",
       "25%    205.399994  205.399994  209.470001  202.500000  206.399994   \n",
       "50%    229.729996  229.729996  232.000000  225.580002  229.339996   \n",
       "75%    307.190002  307.190002  310.730011  303.480011  307.440002   \n",
       "max    385.000000  385.000000  389.609985  379.350006  386.690002   \n",
       "\n",
       "             Volume  \n",
       "count  4.410000e+02  \n",
       "mean   5.377715e+06  \n",
       "std    2.866793e+06  \n",
       "min    1.659500e+06  \n",
       "25%    3.516700e+06  \n",
       "50%    4.662900e+06  \n",
       "75%    6.451900e+06  \n",
       "max    2.374240e+07  "
      ]
     },
     "execution_count": 39,
     "metadata": {},
     "output_type": "execute_result"
    }
   ],
   "source": [
    "df.describe()"
   ]
  },
  {
   "cell_type": "code",
   "execution_count": 40,
   "metadata": {
    "collapsed": true
   },
   "outputs": [],
   "source": [
    "# Drop 'Close' in favor or Adj Close\n",
    "df.drop('Close', axis=1, inplace=True)"
   ]
  },
  {
   "cell_type": "code",
   "execution_count": 35,
   "metadata": {},
   "outputs": [
    {
     "data": {
      "text/html": [
       "<div>\n",
       "<style>\n",
       "    .dataframe thead tr:only-child th {\n",
       "        text-align: right;\n",
       "    }\n",
       "\n",
       "    .dataframe thead th {\n",
       "        text-align: left;\n",
       "    }\n",
       "\n",
       "    .dataframe tbody tr th {\n",
       "        vertical-align: top;\n",
       "    }\n",
       "</style>\n",
       "<table border=\"1\" class=\"dataframe\">\n",
       "  <thead>\n",
       "    <tr style=\"text-align: right;\">\n",
       "      <th></th>\n",
       "      <th></th>\n",
       "      <th>Adj Close</th>\n",
       "      <th>High</th>\n",
       "      <th>Low</th>\n",
       "      <th>Volume</th>\n",
       "      <th>Open</th>\n",
       "    </tr>\n",
       "    <tr>\n",
       "      <th>Date</th>\n",
       "      <th>minor</th>\n",
       "      <th></th>\n",
       "      <th></th>\n",
       "      <th></th>\n",
       "      <th></th>\n",
       "      <th></th>\n",
       "    </tr>\n",
       "  </thead>\n",
       "  <tbody>\n",
       "    <tr>\n",
       "      <th>2015-12-31</th>\n",
       "      <th>TSLA</th>\n",
       "      <td>240.009995</td>\n",
       "      <td>243.449997</td>\n",
       "      <td>238.369995</td>\n",
       "      <td>2715000.0</td>\n",
       "      <td>238.509995</td>\n",
       "    </tr>\n",
       "    <tr>\n",
       "      <th>2016-01-04</th>\n",
       "      <th>TSLA</th>\n",
       "      <td>223.410004</td>\n",
       "      <td>231.380005</td>\n",
       "      <td>219.000000</td>\n",
       "      <td>6827100.0</td>\n",
       "      <td>230.720001</td>\n",
       "    </tr>\n",
       "    <tr>\n",
       "      <th>2016-01-05</th>\n",
       "      <th>TSLA</th>\n",
       "      <td>223.429993</td>\n",
       "      <td>226.889999</td>\n",
       "      <td>220.000000</td>\n",
       "      <td>3186800.0</td>\n",
       "      <td>226.360001</td>\n",
       "    </tr>\n",
       "    <tr>\n",
       "      <th>2016-01-06</th>\n",
       "      <th>TSLA</th>\n",
       "      <td>219.039993</td>\n",
       "      <td>220.050003</td>\n",
       "      <td>215.979996</td>\n",
       "      <td>3779100.0</td>\n",
       "      <td>220.000000</td>\n",
       "    </tr>\n",
       "    <tr>\n",
       "      <th>2016-01-07</th>\n",
       "      <th>TSLA</th>\n",
       "      <td>215.649994</td>\n",
       "      <td>218.440002</td>\n",
       "      <td>213.669998</td>\n",
       "      <td>3554300.0</td>\n",
       "      <td>214.190002</td>\n",
       "    </tr>\n",
       "  </tbody>\n",
       "</table>\n",
       "</div>"
      ],
      "text/plain": [
       "                   Adj Close        High         Low     Volume        Open\n",
       "Date       minor                                                           \n",
       "2015-12-31 TSLA   240.009995  243.449997  238.369995  2715000.0  238.509995\n",
       "2016-01-04 TSLA   223.410004  231.380005  219.000000  6827100.0  230.720001\n",
       "2016-01-05 TSLA   223.429993  226.889999  220.000000  3186800.0  226.360001\n",
       "2016-01-06 TSLA   219.039993  220.050003  215.979996  3779100.0  220.000000\n",
       "2016-01-07 TSLA   215.649994  218.440002  213.669998  3554300.0  214.190002"
      ]
     },
     "execution_count": 35,
     "metadata": {},
     "output_type": "execute_result"
    }
   ],
   "source": [
    "df.head()"
   ]
  },
  {
   "cell_type": "code",
   "execution_count": 111,
   "metadata": {},
   "outputs": [
    {
     "data": {
      "text/plain": [
       "Index(['Close', 'High', 'Low', 'Volume', 'Open'], dtype='object')"
      ]
     },
     "execution_count": 111,
     "metadata": {},
     "output_type": "execute_result"
    }
   ],
   "source": [
    "df.columns"
   ]
  },
  {
   "cell_type": "code",
   "execution_count": 45,
   "metadata": {
    "collapsed": true
   },
   "outputs": [],
   "source": [
    "# Move 'Open' column to the right most\n",
    "df = df [['Adj Close', 'High', 'Low', 'Volume','Open']]"
   ]
  },
  {
   "cell_type": "code",
   "execution_count": 46,
   "metadata": {},
   "outputs": [
    {
     "data": {
      "text/html": [
       "<div>\n",
       "<style>\n",
       "    .dataframe thead tr:only-child th {\n",
       "        text-align: right;\n",
       "    }\n",
       "\n",
       "    .dataframe thead th {\n",
       "        text-align: left;\n",
       "    }\n",
       "\n",
       "    .dataframe tbody tr th {\n",
       "        vertical-align: top;\n",
       "    }\n",
       "</style>\n",
       "<table border=\"1\" class=\"dataframe\">\n",
       "  <thead>\n",
       "    <tr style=\"text-align: right;\">\n",
       "      <th></th>\n",
       "      <th></th>\n",
       "      <th>Adj Close</th>\n",
       "      <th>High</th>\n",
       "      <th>Low</th>\n",
       "      <th>Volume</th>\n",
       "      <th>Open</th>\n",
       "    </tr>\n",
       "    <tr>\n",
       "      <th>Date</th>\n",
       "      <th>minor</th>\n",
       "      <th></th>\n",
       "      <th></th>\n",
       "      <th></th>\n",
       "      <th></th>\n",
       "      <th></th>\n",
       "    </tr>\n",
       "  </thead>\n",
       "  <tbody>\n",
       "    <tr>\n",
       "      <th>2015-12-31</th>\n",
       "      <th>TSLA</th>\n",
       "      <td>240.009995</td>\n",
       "      <td>243.449997</td>\n",
       "      <td>238.369995</td>\n",
       "      <td>2715000.0</td>\n",
       "      <td>238.509995</td>\n",
       "    </tr>\n",
       "    <tr>\n",
       "      <th>2016-01-04</th>\n",
       "      <th>TSLA</th>\n",
       "      <td>223.410004</td>\n",
       "      <td>231.380005</td>\n",
       "      <td>219.000000</td>\n",
       "      <td>6827100.0</td>\n",
       "      <td>230.720001</td>\n",
       "    </tr>\n",
       "    <tr>\n",
       "      <th>2016-01-05</th>\n",
       "      <th>TSLA</th>\n",
       "      <td>223.429993</td>\n",
       "      <td>226.889999</td>\n",
       "      <td>220.000000</td>\n",
       "      <td>3186800.0</td>\n",
       "      <td>226.360001</td>\n",
       "    </tr>\n",
       "    <tr>\n",
       "      <th>2016-01-06</th>\n",
       "      <th>TSLA</th>\n",
       "      <td>219.039993</td>\n",
       "      <td>220.050003</td>\n",
       "      <td>215.979996</td>\n",
       "      <td>3779100.0</td>\n",
       "      <td>220.000000</td>\n",
       "    </tr>\n",
       "    <tr>\n",
       "      <th>2016-01-07</th>\n",
       "      <th>TSLA</th>\n",
       "      <td>215.649994</td>\n",
       "      <td>218.440002</td>\n",
       "      <td>213.669998</td>\n",
       "      <td>3554300.0</td>\n",
       "      <td>214.190002</td>\n",
       "    </tr>\n",
       "  </tbody>\n",
       "</table>\n",
       "</div>"
      ],
      "text/plain": [
       "                   Adj Close        High         Low     Volume        Open\n",
       "Date       minor                                                           \n",
       "2015-12-31 TSLA   240.009995  243.449997  238.369995  2715000.0  238.509995\n",
       "2016-01-04 TSLA   223.410004  231.380005  219.000000  6827100.0  230.720001\n",
       "2016-01-05 TSLA   223.429993  226.889999  220.000000  3186800.0  226.360001\n",
       "2016-01-06 TSLA   219.039993  220.050003  215.979996  3779100.0  220.000000\n",
       "2016-01-07 TSLA   215.649994  218.440002  213.669998  3554300.0  214.190002"
      ]
     },
     "execution_count": 46,
     "metadata": {},
     "output_type": "execute_result"
    }
   ],
   "source": [
    "df.head()"
   ]
  },
  {
   "cell_type": "code",
   "execution_count": 47,
   "metadata": {},
   "outputs": [
    {
     "name": "stdout",
     "output_type": "stream",
     "text": [
      "<class 'pandas.core.frame.DataFrame'>\n",
      "MultiIndex: 441 entries, (2015-12-31 00:00:00, TSLA) to (2017-09-29 00:00:00, TSLA)\n",
      "Data columns (total 5 columns):\n",
      "Adj Close    441 non-null float64\n",
      "High         441 non-null float64\n",
      "Low          441 non-null float64\n",
      "Volume       441 non-null float64\n",
      "Open         441 non-null float64\n",
      "dtypes: float64(5)\n",
      "memory usage: 22.1+ KB\n"
     ]
    }
   ],
   "source": [
    "df.info()"
   ]
  },
  {
   "cell_type": "markdown",
   "metadata": {},
   "source": [
    "# LSTM \n",
    "## Import the required libraries for model."
   ]
  },
  {
   "cell_type": "code",
   "execution_count": 51,
   "metadata": {
    "scrolled": true
   },
   "outputs": [],
   "source": [
    "import numpy \n",
    "import matplotlib.pyplot as plt\n",
    "import pandas \n",
    "from pandas_datareader import data\n",
    "import math\n",
    "from keras.models import Sequential\n",
    "from keras.layers import Dense\n",
    "from keras.layers import LSTM\n",
    "from sklearn.preprocessing import MinMaxScaler\n",
    "from sklearn.metrics import mean_squared_error"
   ]
  },
  {
   "cell_type": "markdown",
   "metadata": {},
   "source": [
    "## Define function to download the data from Yahoo Finance"
   ]
  },
  {
   "cell_type": "code",
   "execution_count": 112,
   "metadata": {},
   "outputs": [],
   "source": [
    "def download_data_from_yahoo(tickers, start_date, end_date):\n",
    "    '''\n",
    "    Expect 3 arguments to this function\n",
    "    tickers => list of tickers e.g ['YHO', 'MSFT']\n",
    "    start_date => 'YYYY-MM-DD'\n",
    "    end_date => 'YYYY-MM-DD'\n",
    "    \n",
    "    '''\n",
    "    \n",
    "    # Define the instruments to download.\n",
    "    _tickers = tickers\n",
    "\n",
    "    # Define which online source one should use\n",
    "    _data_source = 'yahoo'\n",
    "\n",
    "    # Download the data between start_date and end_date\n",
    "    _start_date = start_date\n",
    "    _end_date = end_date\n",
    "\n",
    "    # User pandas_reader.data.DataReader to download the desired data. \n",
    "    panel_data = data.DataReader(_tickers, _data_source, _start_date, _end_date)\n",
    "    \n",
    "    # Convert to pandas dataframe\n",
    "    df = panel_data.to_frame()\n",
    "    \n",
    "    # Sort the data based on date in ascendating order i.e oldest date first\n",
    "    df = df.sort_index(ascending=True)\n",
    "    \n",
    "    # Drop 'Close' in favor or Adj Close\n",
    "    df.drop('Close', axis=1, inplace=True)\n",
    "    \n",
    "    # Rename 'Adj Close' => 'Close'\n",
    "    df = df.rename(columns={'Adj Close': 'Close'})\n",
    "    \n",
    "    # Move 'Open' column to the right most\n",
    "    df = df[['Close', 'High', 'Low', 'Volume','Open']]\n",
    "    \n",
    "    return df"
   ]
  },
  {
   "cell_type": "code",
   "execution_count": 113,
   "metadata": {},
   "outputs": [
    {
     "data": {
      "text/html": [
       "<div>\n",
       "<style>\n",
       "    .dataframe thead tr:only-child th {\n",
       "        text-align: right;\n",
       "    }\n",
       "\n",
       "    .dataframe thead th {\n",
       "        text-align: left;\n",
       "    }\n",
       "\n",
       "    .dataframe tbody tr th {\n",
       "        vertical-align: top;\n",
       "    }\n",
       "</style>\n",
       "<table border=\"1\" class=\"dataframe\">\n",
       "  <thead>\n",
       "    <tr style=\"text-align: right;\">\n",
       "      <th></th>\n",
       "      <th></th>\n",
       "      <th>Close</th>\n",
       "      <th>High</th>\n",
       "      <th>Low</th>\n",
       "      <th>Volume</th>\n",
       "      <th>Open</th>\n",
       "    </tr>\n",
       "    <tr>\n",
       "      <th>Date</th>\n",
       "      <th>minor</th>\n",
       "      <th></th>\n",
       "      <th></th>\n",
       "      <th></th>\n",
       "      <th></th>\n",
       "      <th></th>\n",
       "    </tr>\n",
       "  </thead>\n",
       "  <tbody>\n",
       "    <tr>\n",
       "      <th>2015-12-31</th>\n",
       "      <th>MSFT</th>\n",
       "      <td>53.084164</td>\n",
       "      <td>56.189999</td>\n",
       "      <td>55.419998</td>\n",
       "      <td>27334100.0</td>\n",
       "      <td>56.040001</td>\n",
       "    </tr>\n",
       "    <tr>\n",
       "      <th>2016-01-04</th>\n",
       "      <th>MSFT</th>\n",
       "      <td>52.433533</td>\n",
       "      <td>54.799999</td>\n",
       "      <td>53.389999</td>\n",
       "      <td>53778000.0</td>\n",
       "      <td>54.320000</td>\n",
       "    </tr>\n",
       "    <tr>\n",
       "      <th>2016-01-05</th>\n",
       "      <th>MSFT</th>\n",
       "      <td>52.672737</td>\n",
       "      <td>55.389999</td>\n",
       "      <td>54.540001</td>\n",
       "      <td>34079700.0</td>\n",
       "      <td>54.930000</td>\n",
       "    </tr>\n",
       "    <tr>\n",
       "      <th>2016-01-06</th>\n",
       "      <th>MSFT</th>\n",
       "      <td>51.715916</td>\n",
       "      <td>54.400002</td>\n",
       "      <td>53.639999</td>\n",
       "      <td>39518900.0</td>\n",
       "      <td>54.320000</td>\n",
       "    </tr>\n",
       "    <tr>\n",
       "      <th>2016-01-07</th>\n",
       "      <th>MSFT</th>\n",
       "      <td>49.917099</td>\n",
       "      <td>53.490002</td>\n",
       "      <td>52.070000</td>\n",
       "      <td>56564900.0</td>\n",
       "      <td>52.700001</td>\n",
       "    </tr>\n",
       "  </tbody>\n",
       "</table>\n",
       "</div>"
      ],
      "text/plain": [
       "                      Close       High        Low      Volume       Open\n",
       "Date       minor                                                        \n",
       "2015-12-31 MSFT   53.084164  56.189999  55.419998  27334100.0  56.040001\n",
       "2016-01-04 MSFT   52.433533  54.799999  53.389999  53778000.0  54.320000\n",
       "2016-01-05 MSFT   52.672737  55.389999  54.540001  34079700.0  54.930000\n",
       "2016-01-06 MSFT   51.715916  54.400002  53.639999  39518900.0  54.320000\n",
       "2016-01-07 MSFT   49.917099  53.490002  52.070000  56564900.0  52.700001"
      ]
     },
     "execution_count": 113,
     "metadata": {},
     "output_type": "execute_result"
    }
   ],
   "source": [
    "ticker='MSFT'\n",
    "df = download_data_from_yahoo([ticker], '2016-01-01','2017-09-30' )\n",
    "df.head()"
   ]
  },
  {
   "cell_type": "code",
   "execution_count": 59,
   "metadata": {},
   "outputs": [
    {
     "data": {
      "text/plain": [
       "<matplotlib.axes._subplots.AxesSubplot at 0x11bbf3860>"
      ]
     },
     "execution_count": 59,
     "metadata": {},
     "output_type": "execute_result"
    },
    {
     "data": {
      "image/png": "[encoded data removed]",
      "text/plain": [
       "<matplotlib.figure.Figure at 0x11bafc5c0>"
      ]
     },
     "metadata": {},
     "output_type": "display_data"
    }
   ],
   "source": [
    "df.Close.plot()"
   ]
  },
  {
   "cell_type": "code",
   "execution_count": 84,
   "metadata": {
    "collapsed": true
   },
   "outputs": [],
   "source": [
    "# fix random seed for reproducibility\n",
    "numpy.random.seed(7)"
   ]
  },
  {
   "cell_type": "code",
   "execution_count": 91,
   "metadata": {},
   "outputs": [
    {
     "name": "stdout",
     "output_type": "stream",
     "text": [
      "<class 'pandas.core.frame.DataFrame'>\n",
      "MultiIndex: 441 entries, (2015-12-31 00:00:00, MSFT) to (2017-09-29 00:00:00, MSFT)\n",
      "Data columns (total 5 columns):\n",
      "Close     441 non-null float64\n",
      "High      441 non-null float64\n",
      "Low       441 non-null float64\n",
      "Volume    441 non-null float64\n",
      "Open      441 non-null float64\n",
      "dtypes: float64(5)\n",
      "memory usage: 42.1+ KB\n"
     ]
    }
   ],
   "source": [
    "# load the dataset\n",
    "dataset = df.values\n",
    "df.info()"
   ]
  },
  {
   "cell_type": "markdown",
   "metadata": {},
   "source": [
    "## Normalize the dataset"
   ]
  },
  {
   "cell_type": "code",
   "execution_count": 110,
   "metadata": {},
   "outputs": [
    {
     "name": "stdout",
     "output_type": "stream",
     "text": [
      "Before normalizing the data.\n",
      " [[ 0.21399179  0.26249058  0.27333322  0.15128296  0.27596556]\n",
      " [ 0.19111628  0.21066358  0.19814807  0.36267621  0.21147358]\n",
      " [ 0.19952644  0.23266209  0.24074074  0.20520747  0.23434572]]\n",
      "\n",
      "After normalizing the data.\n",
      " [[ 0.21399179  0.26249058  0.27333322  0.15128296  0.27596556]\n",
      " [ 0.19111628  0.21066358  0.19814807  0.36267621  0.21147358]\n",
      " [ 0.19952644  0.23266209  0.24074074  0.20520747  0.23434572]]\n"
     ]
    }
   ],
   "source": [
    "print(\"Before normalizing the data.\\n\", dataset[:3])\n",
    "# normalize the dataset\n",
    "scaler = MinMaxScaler(feature_range=(0, 1))\n",
    "dataset = scaler.fit_transform(dataset)\n",
    "print(\"\\nAfter normalizing the data.\\n\", dataset[:3])"
   ]
  },
  {
   "cell_type": "code",
   "execution_count": 93,
   "metadata": {},
   "outputs": [
    {
     "name": "stdout",
     "output_type": "stream",
     "text": [
      "441 352 89\n"
     ]
    }
   ],
   "source": [
    "# Split data into train (80%) and test (20%) dataset \n",
    "train_size = int(len(dataset) * 0.80)\n",
    "test_size = len(dataset) - train_size\n",
    "train, test = dataset[0:train_size,:], dataset[train_size:len(dataset),:]\n",
    "print(len(dataset), len(train), len(test))"
   ]
  },
  {
   "cell_type": "code",
   "execution_count": 68,
   "metadata": {
    "collapsed": true
   },
   "outputs": [],
   "source": [
    "# convert an array of values into a dataset matrix\n",
    "def create_dataset(dataset, look_back=1):\n",
    "    dataX, dataY = [], []\n",
    "    for i in range(len(dataset)-look_back-1):\n",
    "        a = dataset[i:(i+look_back), 0:]\n",
    "        dataX.append(a)\n",
    "        dataY.append(dataset[i + look_back, 4])\n",
    "    return numpy.array(dataX), numpy.array(dataY)"
   ]
  },
  {
   "cell_type": "code",
   "execution_count": 69,
   "metadata": {
    "collapsed": true
   },
   "outputs": [],
   "source": [
    "# reshape into X=t and Y=t+1\n",
    "look_back = 1\n",
    "trainX, trainY = create_dataset(train, look_back)\n",
    "testX, testY = create_dataset(test, look_back)"
   ]
  },
  {
   "cell_type": "code",
   "execution_count": 70,
   "metadata": {},
   "outputs": [
    {
     "data": {
      "text/plain": [
       "((3, 1, 4), (3,))"
      ]
     },
     "execution_count": 70,
     "metadata": {},
     "output_type": "execute_result"
    }
   ],
   "source": [
    "trainX[:3].shape, trainY[:3].shape"
   ]
  },
  {
   "cell_type": "code",
   "execution_count": 71,
   "metadata": {
    "collapsed": true
   },
   "outputs": [],
   "source": [
    "trainX= trainX[:].reshape(len(trainX),4)"
   ]
  },
  {
   "cell_type": "code",
   "execution_count": 72,
   "metadata": {
    "collapsed": true
   },
   "outputs": [],
   "source": [
    "testX= testX[:].reshape(len(testX),4)"
   ]
  },
  {
   "cell_type": "code",
   "execution_count": 73,
   "metadata": {},
   "outputs": [
    {
     "data": {
      "text/plain": [
       "(350, 4)"
      ]
     },
     "execution_count": 73,
     "metadata": {},
     "output_type": "execute_result"
    }
   ],
   "source": [
    "trainX.shape"
   ]
  },
  {
   "cell_type": "code",
   "execution_count": 74,
   "metadata": {},
   "outputs": [
    {
     "data": {
      "text/plain": [
       "(87, 4)"
      ]
     },
     "execution_count": 74,
     "metadata": {},
     "output_type": "execute_result"
    }
   ],
   "source": [
    "testX.shape"
   ]
  },
  {
   "cell_type": "code",
   "execution_count": 75,
   "metadata": {},
   "outputs": [
    {
     "data": {
      "text/plain": [
       "array([[ 0.21399179,  0.26249058,  0.27333322,  0.15128296,  0.21147358],\n",
       "       [ 0.19111628,  0.21066358,  0.19814807,  0.36267621,  0.23434572],\n",
       "       [ 0.19952644,  0.23266209,  0.24074074,  0.20520747,  0.21147358]])"
      ]
     },
     "execution_count": 75,
     "metadata": {},
     "output_type": "execute_result"
    }
   ],
   "source": [
    "# A quick view of the X and Y\n",
    "numpy.hstack((trainX[:3], trainY[:3].reshape(3,1)))\n"
   ]
  },
  {
   "cell_type": "code",
   "execution_count": 76,
   "metadata": {},
   "outputs": [
    {
     "name": "stdout",
     "output_type": "stream",
     "text": [
      "[[ 0.21399179  0.26249058  0.27333322  0.15128296]\n",
      " [ 0.19111628  0.21066358  0.19814807  0.36267621]\n",
      " [ 0.19952644  0.23266209  0.24074074  0.20520747]]\n",
      "(350, 1, 4)\n",
      "(87, 1, 4)\n"
     ]
    }
   ],
   "source": [
    "# reshape input to be [samples, time steps, features]\n",
    "print(trainX[:3])\n",
    "trainX = numpy.reshape(trainX, (trainX.shape[0], 1, trainX.shape[1]))\n",
    "testX = numpy.reshape(testX, (testX.shape[0], 1, testX.shape[1]))\n",
    "print(trainX[:].shape)\n",
    "print(testX[:].shape)"
   ]
  },
  {
   "cell_type": "code",
   "execution_count": 77,
   "metadata": {},
   "outputs": [
    {
     "name": "stdout",
     "output_type": "stream",
     "text": [
      "Epoch 1/100\n",
      "2s - loss: 0.0774\n",
      "Epoch 2/100\n",
      "2s - loss: 0.0150\n",
      "Epoch 3/100\n",
      "2s - loss: 0.0039\n",
      "Epoch 4/100\n",
      "2s - loss: 8.7565e-04\n",
      "Epoch 5/100\n",
      "2s - loss: 6.3018e-04\n",
      "Epoch 6/100\n",
      "2s - loss: 5.9375e-04\n",
      "Epoch 7/100\n",
      "2s - loss: 5.5203e-04\n",
      "Epoch 8/100\n",
      "2s - loss: 5.1868e-04\n",
      "Epoch 9/100\n",
      "2s - loss: 4.9138e-04\n",
      "Epoch 10/100\n",
      "3s - loss: 4.6765e-04\n",
      "Epoch 11/100\n",
      "3s - loss: 4.6309e-04\n",
      "Epoch 12/100\n",
      "3s - loss: 4.3549e-04\n",
      "Epoch 13/100\n",
      "2s - loss: 4.4324e-04\n",
      "Epoch 14/100\n",
      "2s - loss: 4.2676e-04\n",
      "Epoch 15/100\n",
      "2s - loss: 3.9863e-04\n",
      "Epoch 16/100\n",
      "2s - loss: 4.3789e-04\n",
      "Epoch 17/100\n",
      "2s - loss: 4.2316e-04\n",
      "Epoch 18/100\n",
      "2s - loss: 4.2837e-04\n",
      "Epoch 19/100\n",
      "2s - loss: 4.3602e-04\n",
      "Epoch 20/100\n",
      "2s - loss: 4.1527e-04\n",
      "Epoch 21/100\n",
      "2s - loss: 4.2829e-04\n",
      "Epoch 22/100\n",
      "2s - loss: 4.2521e-04\n",
      "Epoch 23/100\n",
      "2s - loss: 4.2494e-04\n",
      "Epoch 24/100\n",
      "2s - loss: 4.2014e-04\n",
      "Epoch 25/100\n",
      "2s - loss: 4.2079e-04\n",
      "Epoch 26/100\n",
      "2s - loss: 4.2450e-04\n",
      "Epoch 27/100\n",
      "2s - loss: 4.0982e-04\n",
      "Epoch 28/100\n",
      "2s - loss: 4.2581e-04\n",
      "Epoch 29/100\n",
      "2s - loss: 4.1451e-04\n",
      "Epoch 30/100\n",
      "2s - loss: 4.1804e-04\n",
      "Epoch 31/100\n",
      "2s - loss: 4.1399e-04\n",
      "Epoch 32/100\n",
      "2s - loss: 4.1817e-04\n",
      "Epoch 33/100\n",
      "2s - loss: 4.3235e-04\n",
      "Epoch 34/100\n",
      "2s - loss: 4.2745e-04\n",
      "Epoch 35/100\n",
      "2s - loss: 4.1695e-04\n",
      "Epoch 36/100\n",
      "2s - loss: 4.0795e-04\n",
      "Epoch 37/100\n",
      "2s - loss: 4.1909e-04\n",
      "Epoch 38/100\n",
      "2s - loss: 4.0602e-04\n",
      "Epoch 39/100\n",
      "2s - loss: 4.1301e-04\n",
      "Epoch 40/100\n",
      "2s - loss: 4.0542e-04\n",
      "Epoch 41/100\n",
      "2s - loss: 4.1296e-04\n",
      "Epoch 42/100\n",
      "2s - loss: 4.2680e-04\n",
      "Epoch 43/100\n",
      "2s - loss: 4.2367e-04\n",
      "Epoch 44/100\n",
      "2s - loss: 4.1103e-04\n",
      "Epoch 45/100\n",
      "2s - loss: 4.3037e-04\n",
      "Epoch 46/100\n",
      "3s - loss: 4.1119e-04\n",
      "Epoch 47/100\n",
      "2s - loss: 3.9682e-04\n",
      "Epoch 48/100\n",
      "3s - loss: 4.1602e-04\n",
      "Epoch 49/100\n",
      "3s - loss: 4.1869e-04\n",
      "Epoch 50/100\n",
      "2s - loss: 4.1596e-04\n",
      "Epoch 51/100\n",
      "3s - loss: 4.0972e-04\n",
      "Epoch 52/100\n",
      "3s - loss: 4.0461e-04\n",
      "Epoch 53/100\n",
      "2s - loss: 4.0915e-04\n",
      "Epoch 54/100\n",
      "2s - loss: 4.1293e-04\n",
      "Epoch 55/100\n",
      "2s - loss: 4.1485e-04\n",
      "Epoch 56/100\n",
      "2s - loss: 4.0470e-04\n",
      "Epoch 57/100\n",
      "2s - loss: 4.2779e-04\n",
      "Epoch 58/100\n",
      "2s - loss: 4.1040e-04\n",
      "Epoch 59/100\n",
      "2s - loss: 4.2369e-04\n",
      "Epoch 60/100\n",
      "2s - loss: 4.0484e-04\n",
      "Epoch 61/100\n",
      "2s - loss: 4.2119e-04\n",
      "Epoch 62/100\n",
      "2s - loss: 4.0117e-04\n",
      "Epoch 63/100\n",
      "2s - loss: 3.8994e-04\n",
      "Epoch 64/100\n",
      "2s - loss: 4.1774e-04\n",
      "Epoch 65/100\n",
      "2s - loss: 4.1367e-04\n",
      "Epoch 66/100\n",
      "2s - loss: 4.1655e-04\n",
      "Epoch 67/100\n",
      "2s - loss: 4.1065e-04\n",
      "Epoch 68/100\n",
      "2s - loss: 4.0476e-04\n",
      "Epoch 69/100\n",
      "2s - loss: 4.1195e-04\n",
      "Epoch 70/100\n",
      "2s - loss: 4.0724e-04\n",
      "Epoch 71/100\n",
      "2s - loss: 4.1465e-04\n",
      "Epoch 72/100\n",
      "2s - loss: 4.1743e-04\n",
      "Epoch 73/100\n",
      "2s - loss: 4.1507e-04\n",
      "Epoch 74/100\n",
      "2s - loss: 4.1166e-04\n",
      "Epoch 75/100\n",
      "2s - loss: 4.0753e-04\n",
      "Epoch 76/100\n",
      "2s - loss: 4.0906e-04\n",
      "Epoch 77/100\n",
      "2s - loss: 3.9946e-04\n",
      "Epoch 78/100\n",
      "2s - loss: 4.0828e-04\n",
      "Epoch 79/100\n",
      "2s - loss: 4.0737e-04\n",
      "Epoch 80/100\n",
      "2s - loss: 4.0288e-04\n",
      "Epoch 81/100\n",
      "2s - loss: 4.0077e-04\n",
      "Epoch 82/100\n",
      "2s - loss: 4.2393e-04\n",
      "Epoch 83/100\n",
      "3s - loss: 4.1078e-04\n",
      "Epoch 84/100\n",
      "2s - loss: 4.0690e-04\n",
      "Epoch 85/100\n",
      "2s - loss: 4.0618e-04\n",
      "Epoch 86/100\n",
      "2s - loss: 4.0611e-04\n",
      "Epoch 87/100\n",
      "2s - loss: 4.1010e-04\n",
      "Epoch 88/100\n",
      "2s - loss: 4.0328e-04\n",
      "Epoch 89/100\n",
      "2s - loss: 4.0955e-04\n",
      "Epoch 90/100\n",
      "2s - loss: 3.9900e-04\n",
      "Epoch 91/100\n",
      "2s - loss: 4.1727e-04\n",
      "Epoch 92/100\n",
      "2s - loss: 3.9859e-04\n",
      "Epoch 93/100\n",
      "2s - loss: 4.1573e-04\n",
      "Epoch 94/100\n",
      "2s - loss: 3.9637e-04\n",
      "Epoch 95/100\n",
      "2s - loss: 3.9934e-04\n",
      "Epoch 96/100\n",
      "2s - loss: 4.0906e-04\n",
      "Epoch 97/100\n",
      "3s - loss: 4.0395e-04\n",
      "Epoch 98/100\n",
      "2s - loss: 4.1857e-04\n",
      "Epoch 99/100\n",
      "2s - loss: 4.1373e-04\n",
      "Epoch 100/100\n",
      "2s - loss: 4.1424e-04\n"
     ]
    },
    {
     "data": {
      "text/plain": [
       "<keras.callbacks.History at 0x11c3879b0>"
      ]
     },
     "execution_count": 77,
     "metadata": {},
     "output_type": "execute_result"
    }
   ],
   "source": [
    "# create and fit the LSTM network\n",
    "model = Sequential()\n",
    "model.add(LSTM(4, input_shape=(1, 4)))\n",
    "model.add(Dense(1))\n",
    "model.compile(loss='mean_squared_error', optimizer='adam')\n",
    "model.fit(trainX, trainY, epochs=100, batch_size=1, verbose=2)"
   ]
  },
  {
   "cell_type": "markdown",
   "metadata": {},
   "source": [
    "## Make prediction with test data"
   ]
  },
  {
   "cell_type": "code",
   "execution_count": 78,
   "metadata": {},
   "outputs": [
    {
     "name": "stdout",
     "output_type": "stream",
     "text": [
      "(87, 1, 4)\n"
     ]
    }
   ],
   "source": [
    "# make predictions\n",
    "trainPredict = model.predict(trainX)\n",
    "testPredict = model.predict(testX)\n",
    "print(testX.shape)"
   ]
  },
  {
   "cell_type": "markdown",
   "metadata": {},
   "source": [
    "## Reshape and invert the transformation"
   ]
  },
  {
   "cell_type": "code",
   "execution_count": 114,
   "metadata": {},
   "outputs": [
    {
     "name": "stdout",
     "output_type": "stream",
     "text": [
      "Train Score: 0.02 RMSE\n",
      "Test Score: 0.01 RMSE\n"
     ]
    }
   ],
   "source": [
    "# Reshape to (350,5) as this is the numpy array shape when we did the transformed earlier.\n",
    "trainPredict2 = numpy.hstack((trainX[:].reshape(len(trainX),4), trainPredict[:].reshape(len(trainPredict),1)))\n",
    "trainY2 = numpy.hstack((trainX[:].reshape(len(trainX),4), trainY[:].reshape(len(trainY),1)))\n",
    "testPredict2  = numpy.hstack((testX[:].reshape(len(testX),4), testPredict[:].reshape(len(testPredict),1)))\n",
    "testY2 = numpy.hstack((testX[:].reshape(len(testX),4), testY[:].reshape(len(testY),1)))\n",
    "\n",
    "#print(trainPredict2.shape)\n",
    "#print(trainY2.shape)\n",
    "#print(testPredict2.shape)\n",
    "#print(trainY2.shape)\n",
    "\n",
    "# Transform back to original matrixs\n",
    "trainPredict3 = scaler.inverse_transform(trainPredict2)\n",
    "trainY3 = scaler.inverse_transform(trainY2)\n",
    "testPredict3 = scaler.inverse_transform(testPredict2)\n",
    "testY3 = scaler.inverse_transform(testY2)\n",
    "\n",
    "\n",
    "# calculate root mean squared error\n",
    "trainScore = math.sqrt(mean_squared_error(trainY3[:,4], trainPredict3[:,4]))\n",
    "print('Train Score: %.2f RMSE' % (trainScore))\n",
    "testScore = math.sqrt(mean_squared_error(testY3[:,4], testPredict3[:,4]))\n",
    "print('Test Score: %.2f RMSE' % (testScore))\n"
   ]
  },
  {
   "cell_type": "code",
   "execution_count": 80,
   "metadata": {},
   "outputs": [
    {
     "data": {
      "text/plain": [
       "(87, 5)"
      ]
     },
     "execution_count": 80,
     "metadata": {},
     "output_type": "execute_result"
    }
   ],
   "source": [
    "testPredict3.shape"
   ]
  },
  {
   "cell_type": "code",
   "execution_count": 81,
   "metadata": {},
   "outputs": [
    {
     "data": {
      "text/plain": [
       "[<matplotlib.lines.Line2D at 0x11c462b38>]"
      ]
     },
     "execution_count": 81,
     "metadata": {},
     "output_type": "execute_result"
    },
    {
     "data": {
      "image/png": "[encoded data removed]",
      "text/plain": [
       "<matplotlib.figure.Figure at 0x11bb4cb38>"
      ]
     },
     "metadata": {},
     "output_type": "display_data"
    }
   ],
   "source": [
    "plt.plot(dataset[:,4])"
   ]
  },
  {
   "cell_type": "code",
   "execution_count": 106,
   "metadata": {},
   "outputs": [
    {
     "data": {
      "image/png": "[encoded data removed]",
      "text/plain": [
       "<matplotlib.figure.Figure at 0x11c4c35f8>"
      ]
     },
     "metadata": {},
     "output_type": "display_data"
    }
   ],
   "source": [
    "# shift train predictions for plotting\n",
    "dataset2 = scaler.inverse_transform(dataset)\n",
    "datasetplot= dataset2[:,4]\n",
    "datasetplot = datasetplot.reshape(len(datasetplot),1)\n",
    "#print(datasetplot.shape)\n",
    "#datasetplot.reshape(len(datasetplot,1))\n",
    "\n",
    "\n",
    "trainPredictPlot = numpy.empty_like(datasetplot)\n",
    "trainPredictPlot[:, :] = numpy.nan\n",
    "trainPredict4 = trainPredict3[:,4]\n",
    "trainPredict4 = trainPredict4.reshape(len(trainPredict4),1)\n",
    "#print(trainPredict4[:3])\n",
    "trainPredictPlot[look_back:len(trainPredict4)+look_back, :] = trainPredict4\n",
    "#print(trainPredictPlot.shape)\n",
    "\n",
    "#print(dataset.shape)\n",
    "#print(testPredict3.shape)\n",
    "# shift test predictions for plotting\n",
    "testPredictPlot = numpy.empty_like(datasetplot)\n",
    "testPredictPlot[:, :] = numpy.nan\n",
    "testPredict4 = testPredict3[:,4]\n",
    "testPredict4 = testPredict4.reshape(len(testPredict4),1)\n",
    "testPredictPlot[len(trainPredict4)+(look_back*2)+1:len(dataset)-1, :] = testPredict4\n",
    "# plot baseline and predictions\n",
    "plt.figure(figsize=(12,10))\n",
    "plt.plot(datasetplot, color='blue', label='Historic Data')\n",
    "plt.plot(trainPredictPlot, color='green', label='Training Data')\n",
    "plt.plot(testPredictPlot, color='red', label='Prediction Data')\n",
    "plt.title('Stock price prediction for %s' %ticker)\n",
    "plt.show()"
   ]
  },
  {
   "cell_type": "code",
   "execution_count": 109,
   "metadata": {},
   "outputs": [
    {
     "data": {
      "image/png": "[encoded data removed]",
      "text/plain": [
       "<matplotlib.figure.Figure at 0x11de7cf60>"
      ]
     },
     "metadata": {},
     "output_type": "display_data"
    }
   ],
   "source": [
    "plt.figure(figsize=(12,10))\n",
    "plt.plot(datasetplot[-60:], color='blue', label='Actual Data')\n",
    "plt.plot(testPredictPlot[-60:], color='red', label='Prediction Data')\n",
    "plt.title(\"Zoom in for the last 30 days - %s\" %ticker)\n",
    "plt.legend()\n",
    "plt.show()"
   ]
  }
 ],
 "metadata": {
  "kernelspec": {
   "display_name": "Python 3.5",
   "language": "python",
   "name": "python35"
  },
  "language_info": {
   "codemirror_mode": {
    "name": "ipython",
    "version": 3
   },
   "file_extension": ".py",
   "mimetype": "text/x-python",
   "name": "python",
   "nbconvert_exporter": "python",
   "pygments_lexer": "ipython3",
   "version": "3.5.4"
  }
 },
 "nbformat": 4,
 "nbformat_minor": 2
}
