{
 "cells": [
  {
   "cell_type": "markdown",
   "metadata": {},
   "source": [
    "# Data Exploration\n",
    "Checking the data format available from Yahoo finance api"
   ]
  },
  {
   "cell_type": "code",
   "execution_count": 1,
   "metadata": {
    "collapsed": true
   },
   "outputs": [],
   "source": [
    "import pandas as pd\n",
    "import matplotlib.pyplot as plt\n",
    "%matplotlib inline\n",
    "from pandas_datareader import data\n"
   ]
  },
  {
   "cell_type": "code",
   "execution_count": 2,
   "metadata": {
    "collapsed": true
   },
   "outputs": [],
   "source": [
    "# Define the instruments to download. We would like to see Apple, Microsoft and the S&P500 index.\n",
    "tickers = ['TSLA']\n",
    "\n",
    "# Define which online source one should use\n",
    "data_source = 'yahoo'\n",
    "\n",
    "# We would like all available data from 01/01/2000 until 12/31/2016.\n",
    "start_date = '2016-01-01'\n",
    "end_date = '2017-09-30'\n",
    "\n",
    "# User pandas_reader.data.DataReader to load the desired data. As simple as that.\n",
    "panel_data = data.DataReader(tickers, data_source, start_date, end_date)\n",
    "\n"
   ]
  },
  {
   "cell_type": "code",
   "execution_count": 3,
   "metadata": {
    "collapsed": true
   },
   "outputs": [],
   "source": [
    "df = panel_data.to_frame()\n",
    "df = df.sort_index(ascending=True)"
   ]
  },
  {
   "cell_type": "code",
   "execution_count": 4,
   "metadata": {},
   "outputs": [
    {
     "data": {
      "text/html": [
       "<div>\n",
       "<style>\n",
       "    .dataframe thead tr:only-child th {\n",
       "        text-align: right;\n",
       "    }\n",
       "\n",
       "    .dataframe thead th {\n",
       "        text-align: left;\n",
       "    }\n",
       "\n",
       "    .dataframe tbody tr th {\n",
       "        vertical-align: top;\n",
       "    }\n",
       "</style>\n",
       "<table border=\"1\" class=\"dataframe\">\n",
       "  <thead>\n",
       "    <tr style=\"text-align: right;\">\n",
       "      <th></th>\n",
       "      <th>Adj Close</th>\n",
       "      <th>Close</th>\n",
       "      <th>High</th>\n",
       "      <th>Low</th>\n",
       "      <th>Open</th>\n",
       "      <th>Volume</th>\n",
       "    </tr>\n",
       "  </thead>\n",
       "  <tbody>\n",
       "    <tr>\n",
       "      <th>count</th>\n",
       "      <td>441.000000</td>\n",
       "      <td>441.000000</td>\n",
       "      <td>441.000000</td>\n",
       "      <td>441.000000</td>\n",
       "      <td>441.000000</td>\n",
       "      <td>4.410000e+02</td>\n",
       "    </tr>\n",
       "    <tr>\n",
       "      <th>mean</th>\n",
       "      <td>252.700385</td>\n",
       "      <td>252.700385</td>\n",
       "      <td>256.542381</td>\n",
       "      <td>248.737846</td>\n",
       "      <td>252.845918</td>\n",
       "      <td>5.377715e+06</td>\n",
       "    </tr>\n",
       "    <tr>\n",
       "      <th>std</th>\n",
       "      <td>60.120320</td>\n",
       "      <td>60.120320</td>\n",
       "      <td>60.607241</td>\n",
       "      <td>59.490839</td>\n",
       "      <td>60.261009</td>\n",
       "      <td>2.866793e+06</td>\n",
       "    </tr>\n",
       "    <tr>\n",
       "      <th>min</th>\n",
       "      <td>143.669998</td>\n",
       "      <td>143.669998</td>\n",
       "      <td>154.970001</td>\n",
       "      <td>141.050003</td>\n",
       "      <td>142.320007</td>\n",
       "      <td>1.659500e+06</td>\n",
       "    </tr>\n",
       "    <tr>\n",
       "      <th>25%</th>\n",
       "      <td>205.399994</td>\n",
       "      <td>205.399994</td>\n",
       "      <td>209.470001</td>\n",
       "      <td>202.500000</td>\n",
       "      <td>206.399994</td>\n",
       "      <td>3.516700e+06</td>\n",
       "    </tr>\n",
       "    <tr>\n",
       "      <th>50%</th>\n",
       "      <td>229.729996</td>\n",
       "      <td>229.729996</td>\n",
       "      <td>232.000000</td>\n",
       "      <td>225.580002</td>\n",
       "      <td>229.339996</td>\n",
       "      <td>4.662900e+06</td>\n",
       "    </tr>\n",
       "    <tr>\n",
       "      <th>75%</th>\n",
       "      <td>307.190002</td>\n",
       "      <td>307.190002</td>\n",
       "      <td>310.730011</td>\n",
       "      <td>303.480011</td>\n",
       "      <td>307.440002</td>\n",
       "      <td>6.451900e+06</td>\n",
       "    </tr>\n",
       "    <tr>\n",
       "      <th>max</th>\n",
       "      <td>385.000000</td>\n",
       "      <td>385.000000</td>\n",
       "      <td>389.609985</td>\n",
       "      <td>379.350006</td>\n",
       "      <td>386.690002</td>\n",
       "      <td>2.374240e+07</td>\n",
       "    </tr>\n",
       "  </tbody>\n",
       "</table>\n",
       "</div>"
      ],
      "text/plain": [
       "        Adj Close       Close        High         Low        Open  \\\n",
       "count  441.000000  441.000000  441.000000  441.000000  441.000000   \n",
       "mean   252.700385  252.700385  256.542381  248.737846  252.845918   \n",
       "std     60.120320   60.120320   60.607241   59.490839   60.261009   \n",
       "min    143.669998  143.669998  154.970001  141.050003  142.320007   \n",
       "25%    205.399994  205.399994  209.470001  202.500000  206.399994   \n",
       "50%    229.729996  229.729996  232.000000  225.580002  229.339996   \n",
       "75%    307.190002  307.190002  310.730011  303.480011  307.440002   \n",
       "max    385.000000  385.000000  389.609985  379.350006  386.690002   \n",
       "\n",
       "             Volume  \n",
       "count  4.410000e+02  \n",
       "mean   5.377715e+06  \n",
       "std    2.866793e+06  \n",
       "min    1.659500e+06  \n",
       "25%    3.516700e+06  \n",
       "50%    4.662900e+06  \n",
       "75%    6.451900e+06  \n",
       "max    2.374240e+07  "
      ]
     },
     "execution_count": 4,
     "metadata": {},
     "output_type": "execute_result"
    }
   ],
   "source": [
    "df.describe()"
   ]
  },
  {
   "cell_type": "code",
   "execution_count": 5,
   "metadata": {
    "collapsed": true
   },
   "outputs": [],
   "source": [
    "df.drop('Close', axis=1, inplace=True)"
   ]
  },
  {
   "cell_type": "code",
   "execution_count": 6,
   "metadata": {},
   "outputs": [
    {
     "data": {
      "text/html": [
       "<div>\n",
       "<style>\n",
       "    .dataframe thead tr:only-child th {\n",
       "        text-align: right;\n",
       "    }\n",
       "\n",
       "    .dataframe thead th {\n",
       "        text-align: left;\n",
       "    }\n",
       "\n",
       "    .dataframe tbody tr th {\n",
       "        vertical-align: top;\n",
       "    }\n",
       "</style>\n",
       "<table border=\"1\" class=\"dataframe\">\n",
       "  <thead>\n",
       "    <tr style=\"text-align: right;\">\n",
       "      <th></th>\n",
       "      <th></th>\n",
       "      <th>Adj Close</th>\n",
       "      <th>High</th>\n",
       "      <th>Low</th>\n",
       "      <th>Open</th>\n",
       "      <th>Volume</th>\n",
       "    </tr>\n",
       "    <tr>\n",
       "      <th>Date</th>\n",
       "      <th>minor</th>\n",
       "      <th></th>\n",
       "      <th></th>\n",
       "      <th></th>\n",
       "      <th></th>\n",
       "      <th></th>\n",
       "    </tr>\n",
       "  </thead>\n",
       "  <tbody>\n",
       "    <tr>\n",
       "      <th>2015-12-31</th>\n",
       "      <th>TSLA</th>\n",
       "      <td>240.009995</td>\n",
       "      <td>243.449997</td>\n",
       "      <td>238.369995</td>\n",
       "      <td>238.509995</td>\n",
       "      <td>2715000.0</td>\n",
       "    </tr>\n",
       "    <tr>\n",
       "      <th>2016-01-04</th>\n",
       "      <th>TSLA</th>\n",
       "      <td>223.410004</td>\n",
       "      <td>231.380005</td>\n",
       "      <td>219.000000</td>\n",
       "      <td>230.720001</td>\n",
       "      <td>6827100.0</td>\n",
       "    </tr>\n",
       "    <tr>\n",
       "      <th>2016-01-05</th>\n",
       "      <th>TSLA</th>\n",
       "      <td>223.429993</td>\n",
       "      <td>226.889999</td>\n",
       "      <td>220.000000</td>\n",
       "      <td>226.360001</td>\n",
       "      <td>3186800.0</td>\n",
       "    </tr>\n",
       "    <tr>\n",
       "      <th>2016-01-06</th>\n",
       "      <th>TSLA</th>\n",
       "      <td>219.039993</td>\n",
       "      <td>220.050003</td>\n",
       "      <td>215.979996</td>\n",
       "      <td>220.000000</td>\n",
       "      <td>3779100.0</td>\n",
       "    </tr>\n",
       "    <tr>\n",
       "      <th>2016-01-07</th>\n",
       "      <th>TSLA</th>\n",
       "      <td>215.649994</td>\n",
       "      <td>218.440002</td>\n",
       "      <td>213.669998</td>\n",
       "      <td>214.190002</td>\n",
       "      <td>3554300.0</td>\n",
       "    </tr>\n",
       "  </tbody>\n",
       "</table>\n",
       "</div>"
      ],
      "text/plain": [
       "                   Adj Close        High         Low        Open     Volume\n",
       "Date       minor                                                           \n",
       "2015-12-31 TSLA   240.009995  243.449997  238.369995  238.509995  2715000.0\n",
       "2016-01-04 TSLA   223.410004  231.380005  219.000000  230.720001  6827100.0\n",
       "2016-01-05 TSLA   223.429993  226.889999  220.000000  226.360001  3186800.0\n",
       "2016-01-06 TSLA   219.039993  220.050003  215.979996  220.000000  3779100.0\n",
       "2016-01-07 TSLA   215.649994  218.440002  213.669998  214.190002  3554300.0"
      ]
     },
     "execution_count": 6,
     "metadata": {},
     "output_type": "execute_result"
    }
   ],
   "source": [
    "df.head()"
   ]
  },
  {
   "cell_type": "code",
   "execution_count": 7,
   "metadata": {},
   "outputs": [
    {
     "data": {
      "text/plain": [
       "Index(['Adj Close', 'High', 'Low', 'Open', 'Volume'], dtype='object')"
      ]
     },
     "execution_count": 7,
     "metadata": {},
     "output_type": "execute_result"
    }
   ],
   "source": [
    "df.columns"
   ]
  },
  {
   "cell_type": "code",
   "execution_count": 8,
   "metadata": {
    "collapsed": true
   },
   "outputs": [],
   "source": [
    "df = df [['Adj Close', 'High', 'Low', 'Volume','Open']]"
   ]
  },
  {
   "cell_type": "code",
   "execution_count": 9,
   "metadata": {},
   "outputs": [
    {
     "data": {
      "text/html": [
       "<div>\n",
       "<style>\n",
       "    .dataframe thead tr:only-child th {\n",
       "        text-align: right;\n",
       "    }\n",
       "\n",
       "    .dataframe thead th {\n",
       "        text-align: left;\n",
       "    }\n",
       "\n",
       "    .dataframe tbody tr th {\n",
       "        vertical-align: top;\n",
       "    }\n",
       "</style>\n",
       "<table border=\"1\" class=\"dataframe\">\n",
       "  <thead>\n",
       "    <tr style=\"text-align: right;\">\n",
       "      <th></th>\n",
       "      <th></th>\n",
       "      <th>Adj Close</th>\n",
       "      <th>High</th>\n",
       "      <th>Low</th>\n",
       "      <th>Volume</th>\n",
       "      <th>Open</th>\n",
       "    </tr>\n",
       "    <tr>\n",
       "      <th>Date</th>\n",
       "      <th>minor</th>\n",
       "      <th></th>\n",
       "      <th></th>\n",
       "      <th></th>\n",
       "      <th></th>\n",
       "      <th></th>\n",
       "    </tr>\n",
       "  </thead>\n",
       "  <tbody>\n",
       "    <tr>\n",
       "      <th>2015-12-31</th>\n",
       "      <th>TSLA</th>\n",
       "      <td>240.009995</td>\n",
       "      <td>243.449997</td>\n",
       "      <td>238.369995</td>\n",
       "      <td>2715000.0</td>\n",
       "      <td>238.509995</td>\n",
       "    </tr>\n",
       "    <tr>\n",
       "      <th>2016-01-04</th>\n",
       "      <th>TSLA</th>\n",
       "      <td>223.410004</td>\n",
       "      <td>231.380005</td>\n",
       "      <td>219.000000</td>\n",
       "      <td>6827100.0</td>\n",
       "      <td>230.720001</td>\n",
       "    </tr>\n",
       "    <tr>\n",
       "      <th>2016-01-05</th>\n",
       "      <th>TSLA</th>\n",
       "      <td>223.429993</td>\n",
       "      <td>226.889999</td>\n",
       "      <td>220.000000</td>\n",
       "      <td>3186800.0</td>\n",
       "      <td>226.360001</td>\n",
       "    </tr>\n",
       "    <tr>\n",
       "      <th>2016-01-06</th>\n",
       "      <th>TSLA</th>\n",
       "      <td>219.039993</td>\n",
       "      <td>220.050003</td>\n",
       "      <td>215.979996</td>\n",
       "      <td>3779100.0</td>\n",
       "      <td>220.000000</td>\n",
       "    </tr>\n",
       "    <tr>\n",
       "      <th>2016-01-07</th>\n",
       "      <th>TSLA</th>\n",
       "      <td>215.649994</td>\n",
       "      <td>218.440002</td>\n",
       "      <td>213.669998</td>\n",
       "      <td>3554300.0</td>\n",
       "      <td>214.190002</td>\n",
       "    </tr>\n",
       "  </tbody>\n",
       "</table>\n",
       "</div>"
      ],
      "text/plain": [
       "                   Adj Close        High         Low     Volume        Open\n",
       "Date       minor                                                           \n",
       "2015-12-31 TSLA   240.009995  243.449997  238.369995  2715000.0  238.509995\n",
       "2016-01-04 TSLA   223.410004  231.380005  219.000000  6827100.0  230.720001\n",
       "2016-01-05 TSLA   223.429993  226.889999  220.000000  3186800.0  226.360001\n",
       "2016-01-06 TSLA   219.039993  220.050003  215.979996  3779100.0  220.000000\n",
       "2016-01-07 TSLA   215.649994  218.440002  213.669998  3554300.0  214.190002"
      ]
     },
     "execution_count": 9,
     "metadata": {},
     "output_type": "execute_result"
    }
   ],
   "source": [
    "df.head()"
   ]
  },
  {
   "cell_type": "code",
   "execution_count": 10,
   "metadata": {},
   "outputs": [
    {
     "name": "stdout",
     "output_type": "stream",
     "text": [
      "<class 'pandas.core.frame.DataFrame'>\n",
      "MultiIndex: 441 entries, (2015-12-31 00:00:00, TSLA) to (2017-09-29 00:00:00, TSLA)\n",
      "Data columns (total 5 columns):\n",
      "Adj Close    441 non-null float64\n",
      "High         441 non-null float64\n",
      "Low          441 non-null float64\n",
      "Volume       441 non-null float64\n",
      "Open         441 non-null float64\n",
      "dtypes: float64(5)\n",
      "memory usage: 22.1+ KB\n"
     ]
    }
   ],
   "source": [
    "df.info()"
   ]
  },
  {
   "cell_type": "code",
   "execution_count": 11,
   "metadata": {
    "scrolled": true
   },
   "outputs": [
    {
     "name": "stderr",
     "output_type": "stream",
     "text": [
      "Using TensorFlow backend.\n"
     ]
    }
   ],
   "source": [
    "# Import the required library\n",
    "import numpy\n",
    "import matplotlib.pyplot as plt\n",
    "import pandas\n",
    "import math\n",
    "from keras.models import Sequential\n",
    "from keras.layers import Dense\n",
    "from keras.layers import LSTM\n",
    "from sklearn.preprocessing import MinMaxScaler\n",
    "from sklearn.metrics import mean_squared_error"
   ]
  },
  {
   "cell_type": "code",
   "execution_count": 12,
   "metadata": {
    "collapsed": true
   },
   "outputs": [],
   "source": [
    "# fix random seed for reproducibility\n",
    "numpy.random.seed(7)"
   ]
  },
  {
   "cell_type": "code",
   "execution_count": 13,
   "metadata": {},
   "outputs": [
    {
     "name": "stdout",
     "output_type": "stream",
     "text": [
      "<class 'pandas.core.frame.DataFrame'>\n",
      "MultiIndex: 441 entries, (2015-12-31 00:00:00, TSLA) to (2017-09-29 00:00:00, TSLA)\n",
      "Data columns (total 5 columns):\n",
      "Adj Close    441 non-null float64\n",
      "High         441 non-null float64\n",
      "Low          441 non-null float64\n",
      "Volume       441 non-null float64\n",
      "Open         441 non-null float64\n",
      "dtypes: float64(5)\n",
      "memory usage: 22.1+ KB\n"
     ]
    }
   ],
   "source": [
    "# load the dataset\n",
    "dataset = df.values\n",
    "df.info()"
   ]
  },
  {
   "cell_type": "code",
   "execution_count": 14,
   "metadata": {},
   "outputs": [
    {
     "name": "stdout",
     "output_type": "stream",
     "text": [
      "[[  2.40009995e+02   2.43449997e+02   2.38369995e+02   2.71500000e+06\n",
      "    2.38509995e+02]\n",
      " [  2.23410004e+02   2.31380005e+02   2.19000000e+02   6.82710000e+06\n",
      "    2.30720001e+02]\n",
      " [  2.23429993e+02   2.26889999e+02   2.20000000e+02   3.18680000e+06\n",
      "    2.26360001e+02]]\n"
     ]
    }
   ],
   "source": [
    "print(dataset[:3])\n",
    "# normalize the dataset\n",
    "scaler = MinMaxScaler(feature_range=(0, 1))\n",
    "dataset = scaler.fit_transform(dataset)"
   ]
  },
  {
   "cell_type": "code",
   "execution_count": 15,
   "metadata": {},
   "outputs": [
    {
     "data": {
      "text/plain": [
       "array([[ 0.39920439,  0.37708831,  0.40839274,  0.04779716,  0.39362438],\n",
       "       [ 0.33041895,  0.32564784,  0.32710867,  0.23400912,  0.36174651],\n",
       "       [ 0.33050178,  0.30651212,  0.33130506,  0.06916211,  0.34390472],\n",
       "       ..., \n",
       "       [ 0.81755273,  0.83753837,  0.83697018,  0.19928542,  0.84944957],\n",
       "       [ 0.81187588,  0.80028986,  0.81556856,  0.16574363,  0.80844622],\n",
       "       [ 0.81809144,  0.80851519,  0.82899706,  0.1561208 ,  0.8165486 ]])"
      ]
     },
     "execution_count": 15,
     "metadata": {},
     "output_type": "execute_result"
    }
   ],
   "source": [
    "dataset"
   ]
  },
  {
   "cell_type": "code",
   "execution_count": 16,
   "metadata": {},
   "outputs": [
    {
     "name": "stdout",
     "output_type": "stream",
     "text": [
      "352 89\n"
     ]
    }
   ],
   "source": [
    "# split into train and test sets\n",
    "train_size = int(len(dataset) * 0.80)\n",
    "test_size = len(dataset) - train_size\n",
    "train, test = dataset[0:train_size,:], dataset[train_size:len(dataset),:]\n",
    "print(len(train), len(test))"
   ]
  },
  {
   "cell_type": "code",
   "execution_count": 17,
   "metadata": {},
   "outputs": [
    {
     "data": {
      "text/plain": [
       "array([[ 0.39920439,  0.37708831,  0.40839274,  0.04779716,  0.39362438],\n",
       "       [ 0.33041895,  0.32564784,  0.32710867,  0.23400912,  0.36174651],\n",
       "       [ 0.33050178,  0.30651212,  0.33130506,  0.06916211,  0.34390472]])"
      ]
     },
     "execution_count": 17,
     "metadata": {},
     "output_type": "execute_result"
    }
   ],
   "source": [
    "train[:3]"
   ]
  },
  {
   "cell_type": "code",
   "execution_count": 18,
   "metadata": {},
   "outputs": [
    {
     "data": {
      "text/plain": [
       "array([[ 0.39920439,  0.37708831,  0.40839274,  0.04779716],\n",
       "       [ 0.33041895,  0.32564784,  0.32710867,  0.23400912],\n",
       "       [ 0.33050178,  0.30651212,  0.33130506,  0.06916211]])"
      ]
     },
     "execution_count": 18,
     "metadata": {},
     "output_type": "execute_result"
    }
   ],
   "source": [
    "train[:3,0:4]"
   ]
  },
  {
   "cell_type": "code",
   "execution_count": 19,
   "metadata": {},
   "outputs": [
    {
     "data": {
      "text/plain": [
       "array([ 0.39362438,  0.36174651,  0.34390472])"
      ]
     },
     "execution_count": 19,
     "metadata": {},
     "output_type": "execute_result"
    }
   ],
   "source": [
    "train[:3,4]"
   ]
  },
  {
   "cell_type": "code",
   "execution_count": 20,
   "metadata": {
    "collapsed": true
   },
   "outputs": [],
   "source": [
    "# convert an array of values into a dataset matrix\n",
    "def create_dataset(dataset, look_back=1):\n",
    "\tdataX, dataY = [], []\n",
    "\tfor i in range(len(dataset)-look_back-1):\n",
    "\t\ta = dataset[i:(i+look_back), 0:4]\n",
    "\t\tdataX.append(a)\n",
    "\t\tdataY.append(dataset[i + look_back, 4])\n",
    "\treturn numpy.array(dataX), numpy.array(dataY)"
   ]
  },
  {
   "cell_type": "code",
   "execution_count": 21,
   "metadata": {
    "collapsed": true
   },
   "outputs": [],
   "source": [
    "# reshape into X=t and Y=t+1\n",
    "look_back = 1\n",
    "trainX, trainY = create_dataset(train, look_back)\n",
    "testX, testY = create_dataset(test, look_back)"
   ]
  },
  {
   "cell_type": "code",
   "execution_count": 22,
   "metadata": {},
   "outputs": [
    {
     "data": {
      "text/plain": [
       "((3, 1, 4), (3,))"
      ]
     },
     "execution_count": 22,
     "metadata": {},
     "output_type": "execute_result"
    }
   ],
   "source": [
    "trainX[:3].shape, trainY[:3].shape"
   ]
  },
  {
   "cell_type": "code",
   "execution_count": 23,
   "metadata": {
    "collapsed": true
   },
   "outputs": [],
   "source": [
    "trainX= trainX[:].reshape(len(trainX),4)"
   ]
  },
  {
   "cell_type": "code",
   "execution_count": 24,
   "metadata": {
    "collapsed": true
   },
   "outputs": [],
   "source": [
    "testX= testX[:].reshape(len(testX),4)"
   ]
  },
  {
   "cell_type": "code",
   "execution_count": 25,
   "metadata": {},
   "outputs": [
    {
     "data": {
      "text/plain": [
       "(350, 4)"
      ]
     },
     "execution_count": 25,
     "metadata": {},
     "output_type": "execute_result"
    }
   ],
   "source": [
    "trainX.shape"
   ]
  },
  {
   "cell_type": "code",
   "execution_count": 26,
   "metadata": {},
   "outputs": [
    {
     "data": {
      "text/plain": [
       "(87, 4)"
      ]
     },
     "execution_count": 26,
     "metadata": {},
     "output_type": "execute_result"
    }
   ],
   "source": [
    "testX.shape"
   ]
  },
  {
   "cell_type": "code",
   "execution_count": 27,
   "metadata": {},
   "outputs": [
    {
     "data": {
      "text/plain": [
       "array([[ 0.39920439,  0.37708831,  0.40839274,  0.04779716,  0.36174651],\n",
       "       [ 0.33041895,  0.32564784,  0.32710867,  0.23400912,  0.34390472],\n",
       "       [ 0.33050178,  0.30651212,  0.33130506,  0.06916211,  0.3178786 ]])"
      ]
     },
     "execution_count": 27,
     "metadata": {},
     "output_type": "execute_result"
    }
   ],
   "source": [
    "# A quick view of the X and Y\n",
    "numpy.hstack((trainX[:3], trainY[:3].reshape(3,1)))\n"
   ]
  },
  {
   "cell_type": "code",
   "execution_count": 28,
   "metadata": {},
   "outputs": [
    {
     "name": "stdout",
     "output_type": "stream",
     "text": [
      "[[ 0.39920439  0.37708831  0.40839274  0.04779716]\n",
      " [ 0.33041895  0.32564784  0.32710867  0.23400912]\n",
      " [ 0.33050178  0.30651212  0.33130506  0.06916211]]\n",
      "(350, 1, 4)\n",
      "(87, 1, 4)\n"
     ]
    }
   ],
   "source": [
    "# reshape input to be [samples, time steps, features]\n",
    "print(trainX[:3])\n",
    "trainX = numpy.reshape(trainX, (trainX.shape[0], 1, trainX.shape[1]))\n",
    "testX = numpy.reshape(testX, (testX.shape[0], 1, testX.shape[1]))\n",
    "print(trainX[:].shape)\n",
    "print(testX[:].shape)"
   ]
  },
  {
   "cell_type": "code",
   "execution_count": 29,
   "metadata": {},
   "outputs": [
    {
     "name": "stdout",
     "output_type": "stream",
     "text": [
      "Epoch 1/100\n",
      "2s - loss: 0.0549\n",
      "Epoch 2/100\n",
      "2s - loss: 0.0100\n",
      "Epoch 3/100\n",
      "2s - loss: 0.0048\n",
      "Epoch 4/100\n",
      "2s - loss: 0.0016\n",
      "Epoch 5/100\n",
      "2s - loss: 5.2208e-04\n",
      "Epoch 6/100\n",
      "2s - loss: 3.4819e-04\n",
      "Epoch 7/100\n",
      "2s - loss: 3.2323e-04\n",
      "Epoch 8/100\n",
      "2s - loss: 3.0031e-04\n",
      "Epoch 9/100\n",
      "2s - loss: 2.9105e-04\n",
      "Epoch 10/100\n",
      "2s - loss: 2.7395e-04\n",
      "Epoch 11/100\n",
      "2s - loss: 2.6740e-04\n",
      "Epoch 12/100\n",
      "2s - loss: 2.5430e-04\n",
      "Epoch 13/100\n",
      "2s - loss: 2.3751e-04\n",
      "Epoch 14/100\n",
      "2s - loss: 2.4414e-04\n",
      "Epoch 15/100\n",
      "2s - loss: 2.2791e-04\n",
      "Epoch 16/100\n",
      "2s - loss: 2.1998e-04\n",
      "Epoch 17/100\n",
      "2s - loss: 2.1881e-04\n",
      "Epoch 18/100\n",
      "2s - loss: 2.1092e-04\n",
      "Epoch 19/100\n",
      "2s - loss: 2.1464e-04\n",
      "Epoch 20/100\n",
      "2s - loss: 2.0461e-04\n",
      "Epoch 21/100\n",
      "2s - loss: 2.0389e-04\n",
      "Epoch 22/100\n",
      "2s - loss: 2.0771e-04\n",
      "Epoch 23/100\n",
      "2s - loss: 2.0445e-04\n",
      "Epoch 24/100\n",
      "2s - loss: 2.0500e-04\n",
      "Epoch 25/100\n",
      "2s - loss: 2.1283e-04\n",
      "Epoch 26/100\n",
      "2s - loss: 2.1208e-04\n",
      "Epoch 27/100\n",
      "2s - loss: 2.0393e-04\n",
      "Epoch 28/100\n",
      "2s - loss: 1.9997e-04\n",
      "Epoch 29/100\n",
      "2s - loss: 2.0138e-04\n",
      "Epoch 30/100\n",
      "2s - loss: 1.9437e-04\n",
      "Epoch 31/100\n",
      "2s - loss: 2.0261e-04\n",
      "Epoch 32/100\n",
      "2s - loss: 1.9120e-04\n",
      "Epoch 33/100\n",
      "2s - loss: 2.0764e-04\n",
      "Epoch 34/100\n",
      "2s - loss: 2.0252e-04\n",
      "Epoch 35/100\n",
      "2s - loss: 2.0306e-04\n",
      "Epoch 36/100\n",
      "2s - loss: 2.0623e-04\n",
      "Epoch 37/100\n",
      "2s - loss: 2.0176e-04\n",
      "Epoch 38/100\n",
      "2s - loss: 2.0087e-04\n",
      "Epoch 39/100\n",
      "2s - loss: 2.0306e-04\n",
      "Epoch 40/100\n",
      "2s - loss: 1.9957e-04\n",
      "Epoch 41/100\n",
      "2s - loss: 1.9568e-04\n",
      "Epoch 42/100\n",
      "2s - loss: 1.9633e-04\n",
      "Epoch 43/100\n",
      "2s - loss: 1.9948e-04\n",
      "Epoch 44/100\n",
      "2s - loss: 2.0457e-04\n",
      "Epoch 45/100\n",
      "2s - loss: 1.8497e-04\n",
      "Epoch 46/100\n",
      "2s - loss: 1.9247e-04\n",
      "Epoch 47/100\n",
      "2s - loss: 1.9319e-04\n",
      "Epoch 48/100\n",
      "2s - loss: 1.9786e-04\n",
      "Epoch 49/100\n",
      "2s - loss: 1.8941e-04\n",
      "Epoch 50/100\n",
      "2s - loss: 1.8619e-04\n",
      "Epoch 51/100\n",
      "2s - loss: 2.0554e-04\n",
      "Epoch 52/100\n",
      "2s - loss: 1.9414e-04\n",
      "Epoch 53/100\n",
      "2s - loss: 1.9080e-04\n",
      "Epoch 54/100\n",
      "2s - loss: 2.0061e-04\n",
      "Epoch 55/100\n",
      "2s - loss: 1.9617e-04\n",
      "Epoch 56/100\n",
      "2s - loss: 1.9796e-04\n",
      "Epoch 57/100\n",
      "2s - loss: 1.8986e-04\n",
      "Epoch 58/100\n",
      "2s - loss: 1.9066e-04\n",
      "Epoch 59/100\n",
      "2s - loss: 1.9985e-04\n",
      "Epoch 60/100\n",
      "2s - loss: 1.8353e-04\n",
      "Epoch 61/100\n",
      "2s - loss: 1.9817e-04\n",
      "Epoch 62/100\n",
      "2s - loss: 1.8500e-04\n",
      "Epoch 63/100\n",
      "2s - loss: 1.9740e-04\n",
      "Epoch 64/100\n",
      "2s - loss: 1.9951e-04\n",
      "Epoch 65/100\n",
      "2s - loss: 1.9130e-04\n",
      "Epoch 66/100\n",
      "2s - loss: 1.9663e-04\n",
      "Epoch 67/100\n",
      "2s - loss: 1.8584e-04\n",
      "Epoch 68/100\n",
      "2s - loss: 1.9798e-04\n",
      "Epoch 69/100\n",
      "2s - loss: 1.9489e-04\n",
      "Epoch 70/100\n",
      "2s - loss: 1.9229e-04\n",
      "Epoch 71/100\n",
      "2s - loss: 1.8763e-04\n",
      "Epoch 72/100\n",
      "2s - loss: 1.9153e-04\n",
      "Epoch 73/100\n",
      "2s - loss: 1.9450e-04\n",
      "Epoch 74/100\n",
      "2s - loss: 1.8995e-04\n",
      "Epoch 75/100\n",
      "2s - loss: 1.9106e-04\n",
      "Epoch 76/100\n",
      "2s - loss: 1.9492e-04\n",
      "Epoch 77/100\n",
      "2s - loss: 1.8508e-04\n",
      "Epoch 78/100\n",
      "2s - loss: 1.9332e-04\n",
      "Epoch 79/100\n",
      "2s - loss: 1.9199e-04\n",
      "Epoch 80/100\n",
      "2s - loss: 1.8219e-04\n",
      "Epoch 81/100\n",
      "2s - loss: 1.9354e-04\n",
      "Epoch 82/100\n",
      "2s - loss: 1.9204e-04\n",
      "Epoch 83/100\n",
      "2s - loss: 1.8751e-04\n",
      "Epoch 84/100\n",
      "2s - loss: 1.8993e-04\n",
      "Epoch 85/100\n",
      "2s - loss: 1.8667e-04\n",
      "Epoch 86/100\n",
      "2s - loss: 1.8083e-04\n",
      "Epoch 87/100\n",
      "2s - loss: 1.8648e-04\n",
      "Epoch 88/100\n",
      "2s - loss: 1.9670e-04\n",
      "Epoch 89/100\n",
      "2s - loss: 1.8945e-04\n",
      "Epoch 90/100\n",
      "2s - loss: 1.9315e-04\n",
      "Epoch 91/100\n",
      "2s - loss: 1.8647e-04\n",
      "Epoch 92/100\n",
      "2s - loss: 1.7942e-04\n",
      "Epoch 93/100\n",
      "2s - loss: 1.8350e-04\n",
      "Epoch 94/100\n",
      "2s - loss: 1.8964e-04\n",
      "Epoch 95/100\n",
      "2s - loss: 1.8988e-04\n",
      "Epoch 96/100\n",
      "2s - loss: 1.6941e-04\n",
      "Epoch 97/100\n",
      "2s - loss: 1.8830e-04\n",
      "Epoch 98/100\n",
      "2s - loss: 1.8331e-04\n",
      "Epoch 99/100\n",
      "2s - loss: 1.8242e-04\n",
      "Epoch 100/100\n",
      "2s - loss: 1.8409e-04\n"
     ]
    },
    {
     "data": {
      "text/plain": [
       "<keras.callbacks.History at 0x125149a20>"
      ]
     },
     "execution_count": 29,
     "metadata": {},
     "output_type": "execute_result"
    }
   ],
   "source": [
    "# create and fit the LSTM network\n",
    "model = Sequential()\n",
    "model.add(LSTM(4, input_shape=(1, 4)))\n",
    "model.add(Dense(1))\n",
    "model.compile(loss='mean_squared_error', optimizer='adam')\n",
    "model.fit(trainX, trainY, epochs=100, batch_size=1, verbose=2)"
   ]
  },
  {
   "cell_type": "code",
   "execution_count": 30,
   "metadata": {},
   "outputs": [
    {
     "name": "stdout",
     "output_type": "stream",
     "text": [
      "(87, 1, 4)\n"
     ]
    }
   ],
   "source": [
    "# make predictions\n",
    "trainPredict = model.predict(trainX)\n",
    "testPredict = model.predict(testX)\n",
    "print(testX.shape)"
   ]
  },
  {
   "cell_type": "code",
   "execution_count": 31,
   "metadata": {},
   "outputs": [
    {
     "name": "stdout",
     "output_type": "stream",
     "text": [
      "(350, 5)\n",
      "(350, 5)\n",
      "(87, 5)\n",
      "(350, 5)\n",
      "Train Score: 3.22 RMSE\n",
      "Test Score: 6.33 RMSE\n"
     ]
    }
   ],
   "source": [
    "#print(trainX.shape)\n",
    "#print(trainPredict.shape)\n",
    "\n",
    "# Reshape to (350,5) as this is the shape we transferred earlier\n",
    "trainPredict2 = numpy.hstack((trainX[:].reshape(len(trainX),4), trainPredict[:].reshape(len(trainPredict),1)))\n",
    "trainY2 = numpy.hstack((trainX[:].reshape(len(trainX),4), trainY[:].reshape(len(trainY),1)))\n",
    "\n",
    "testPredict2  = numpy.hstack((testX[:].reshape(len(testX),4), testPredict[:].reshape(len(testPredict),1)))\n",
    "testY2 = numpy.hstack((testX[:].reshape(len(testX),4), testY[:].reshape(len(testY),1)))\n",
    "\n",
    "print(trainPredict2.shape)\n",
    "print(trainY2.shape)\n",
    "\n",
    "print(testPredict2.shape)\n",
    "print(trainY2.shape)\n",
    "# invert predictions\n",
    "trainPredict3 = scaler.inverse_transform(trainPredict2)\n",
    "trainY3 = scaler.inverse_transform(trainY2)\n",
    "testPredict3 = scaler.inverse_transform(testPredict2)\n",
    "testY3 = scaler.inverse_transform(testY2)\n",
    "# calculate root mean squared error\n",
    "trainScore = math.sqrt(mean_squared_error(trainY3[:,4], trainPredict3[:,4]))\n",
    "print('Train Score: %.2f RMSE' % (trainScore))\n",
    "testScore = math.sqrt(mean_squared_error(testY3[:,4], testPredict3[:,4]))\n",
    "print('Test Score: %.2f RMSE' % (testScore))\n"
   ]
  },
  {
   "cell_type": "code",
   "execution_count": 32,
   "metadata": {},
   "outputs": [
    {
     "data": {
      "text/plain": [
       "(87, 5)"
      ]
     },
     "execution_count": 32,
     "metadata": {},
     "output_type": "execute_result"
    }
   ],
   "source": [
    "testPredict3.shape"
   ]
  },
  {
   "cell_type": "code",
   "execution_count": 33,
   "metadata": {},
   "outputs": [
    {
     "data": {
      "text/plain": [
       "[<matplotlib.lines.Line2D at 0x1252596d8>]"
      ]
     },
     "execution_count": 33,
     "metadata": {},
     "output_type": "execute_result"
    },
    {
     "data": {
      "image/png": "[encoded data removed]",
      "text/plain": [
       "<matplotlib.figure.Figure at 0x12294b4e0>"
      ]
     },
     "metadata": {},
     "output_type": "display_data"
    }
   ],
   "source": [
    "plt.plot(dataset[:,4])"
   ]
  },
  {
   "cell_type": "code",
   "execution_count": 38,
   "metadata": {},
   "outputs": [
    {
     "name": "stdout",
     "output_type": "stream",
     "text": [
      "(441, 1)\n",
      "[[ 239.7750124 ]\n",
      " [ 223.09036583]\n",
      " [ 222.74634124]]\n",
      "(441, 1)\n"
     ]
    },
    {
     "data": {
      "image/png": "[encoded data removed]",
      "text/plain": [
       "<matplotlib.figure.Figure at 0x10c298240>"
      ]
     },
     "metadata": {},
     "output_type": "display_data"
    }
   ],
   "source": [
    "# shift train predictions for plotting\n",
    "dataset2 = scaler.inverse_transform(dataset)\n",
    "datasetplot= dataset2[:,4]\n",
    "datasetplot = datasetplot.reshape(len(datasetplot),1)\n",
    "print(datasetplot.shape)\n",
    "#datasetplot.reshape(len(datasetplot,1))\n",
    "\n",
    "\n",
    "trainPredictPlot = numpy.empty_like(datasetplot)\n",
    "trainPredictPlot[:, :] = numpy.nan\n",
    "trainPredict4 = trainPredict3[:,4]\n",
    "trainPredict4 = trainPredict4.reshape(len(trainPredict4),1)\n",
    "print(trainPredict4[:3])\n",
    "trainPredictPlot[look_back:len(trainPredict4)+look_back, :] = trainPredict4\n",
    "print(trainPredictPlot.shape)\n",
    "\n",
    "#print(dataset.shape)\n",
    "#print(testPredict3.shape)\n",
    "# shift test predictions for plotting\n",
    "testPredictPlot = numpy.empty_like(datasetplot)\n",
    "testPredictPlot[:, :] = numpy.nan\n",
    "testPredict4 = testPredict3[:,4]\n",
    "testPredict4 = testPredict4.reshape(len(testPredict4),1)\n",
    "testPredictPlot[len(trainPredict4)+(look_back*2)+1:len(dataset)-1, :] = testPredict4\n",
    "# plot baseline and predictions\n",
    "plt.figure(figsize=(12,10))\n",
    "plt.plot(datasetplot, color='blue')\n",
    "plt.plot(trainPredictPlot, color='green')\n",
    "plt.plot(testPredictPlot, color='red')\n",
    "plt.show()"
   ]
  },
  {
   "cell_type": "code",
   "execution_count": 46,
   "metadata": {},
   "outputs": [
    {
     "name": "stdout",
     "output_type": "stream",
     "text": [
      "[[ 198.970001             nan]\n",
      " [ 208.710007             nan]\n",
      " [ 199.399994             nan]\n",
      " [ 201.550003             nan]\n",
      " [ 204.800003             nan]\n",
      " [ 200.059998             nan]\n",
      " [ 196.699997             nan]\n",
      " [ 192.380005             nan]\n",
      " [ 190.789993             nan]\n",
      " [ 189.949997             nan]\n",
      " [ 188.759995             nan]\n",
      " [ 192.419998             nan]\n",
      " [ 183.589996             nan]\n",
      " [ 170.699997             nan]\n",
      " [ 171.300003             nan]\n",
      " [ 157.100006             nan]\n",
      " [ 142.320007             nan]\n",
      " [ 150.5                  nan]\n",
      " [ 152.                   nan]\n",
      " [ 155.                   nan]\n",
      " [ 158.699997             nan]\n",
      " [ 159.                   nan]\n",
      " [ 172.419998             nan]\n",
      " [ 163.660004             nan]\n",
      " [ 170.119995             nan]\n",
      " [ 176.160004             nan]\n",
      " [ 172.75                 nan]\n",
      " [ 178.649994             nan]\n",
      " [ 188.699997             nan]\n",
      " [ 192.399994             nan]\n",
      " [ 194.25                 nan]\n",
      " [ 183.729996             nan]\n",
      " [ 188.279999             nan]\n",
      " [ 198.                   nan]\n",
      " [ 197.679993             nan]\n",
      " [ 203.5                  nan]\n",
      " [ 204.520004             nan]\n",
      " [ 210.                   nan]\n",
      " [ 207.929993             nan]\n",
      " [ 212.649994             nan]\n",
      " [ 214.270004             nan]\n",
      " [ 218.                   nan]\n",
      " [ 221.470001             nan]\n",
      " [ 229.100006             nan]\n",
      " [ 235.339996             nan]\n",
      " [ 237.210007             nan]\n",
      " [ 232.369995             nan]\n",
      " [ 215.779999             nan]\n",
      " [ 231.610001             nan]\n",
      " [ 229.889999             nan]\n",
      " [ 235.089996             nan]\n",
      " [ 229.339996             nan]\n",
      " [ 244.830002             nan]\n",
      " [ 249.119995             nan]\n",
      " [ 240.5                  nan]\n",
      " [ 253.970001             nan]\n",
      " [ 266.450012             nan]\n",
      " [ 260.5                  nan]\n",
      " [ 251.                   nan]\n",
      " [ 249.5                  nan]\n",
      " [ 248.509995             nan]\n",
      " [ 253.                   nan]\n",
      " [ 251.309998             nan]\n",
      " [ 252.229996             nan]\n",
      " [ 253.119995             nan]\n",
      " [ 246.259995             nan]\n",
      " [ 248.990005             nan]\n",
      " [ 248.889999             nan]\n",
      " [ 253.009995             nan]\n",
      " [ 252.050003             nan]\n",
      " [ 252.75                 nan]\n",
      " [ 249.850006             nan]\n",
      " [ 248.139999             nan]\n",
      " [ 241.5                  nan]\n",
      " [ 237.360001             nan]\n",
      " [ 230.289993             nan]\n",
      " [ 228.460007             nan]\n",
      " [ 210.869995             nan]\n",
      " [ 215.720001             nan]\n",
      " [ 207.550003             nan]\n",
      " [ 207.589996             nan]\n",
      " [ 211.440002             nan]\n",
      " [ 207.779999             nan]\n",
      " [ 208.149994             nan]\n",
      " [ 209.050003             nan]\n",
      " [ 209.149994             nan]\n",
      " [ 213.619995             nan]\n",
      " [ 216.990005             nan]\n",
      " [ 219.869995             nan]\n",
      " [ 216.600006             nan]\n",
      " [ 217.910004             nan]\n",
      " [ 220.5                  nan]\n",
      " [ 224.990005             nan]\n",
      " [ 223.039993             nan]\n",
      " [ 221.479996             nan]\n",
      " [ 219.589996             nan]\n",
      " [ 220.                   nan]\n",
      " [ 218.                   nan]\n",
      " [ 222.240005             nan]\n",
      " [ 233.800003             nan]\n",
      " [ 234.979996             nan]\n",
      " [ 227.389999             nan]\n",
      " [ 219.5                  nan]\n",
      " [ 218.880005             nan]\n",
      " [ 216.949997             nan]\n",
      " [ 217.419998             nan]\n",
      " [ 217.809998             nan]\n",
      " [ 219.5                  nan]\n",
      " [ 220.679993             nan]\n",
      " [ 199.470001             nan]\n",
      " [ 195.690002             nan]\n",
      " [ 190.050003             nan]\n",
      " [ 190.860001             nan]\n",
      " [ 201.889999             nan]\n",
      " [ 205.130005             nan]\n",
      " [ 212.970001             nan]\n",
      " [ 206.139999             nan]\n",
      " [ 209.729996             nan]\n",
      " [ 210.                   nan]\n",
      " [ 213.100006             nan]\n",
      " [ 217.800003             nan]\n",
      " [ 219.960007             nan]\n",
      " [ 224.100006             nan]\n",
      " [ 225.5                  nan]\n",
      " [ 223.119995             nan]\n",
      " [ 222.520004             nan]\n",
      " [ 219.639999             nan]\n",
      " [ 225.                   nan]\n",
      " [ 226.470001             nan]\n",
      " [ 226.                   nan]\n",
      " [ 221.990005             nan]\n",
      " [ 222.270004             nan]\n",
      " [ 227.690002             nan]\n",
      " [ 229.339996             nan]\n",
      " [ 227.949997             nan]\n",
      " [ 230.699997             nan]\n",
      " [ 235.5                  nan]\n",
      " [ 229.369995             nan]\n",
      " [ 227.369995             nan]\n",
      " [ 225.690002             nan]\n",
      " [ 230.                   nan]\n",
      " [ 228.                   nan]\n",
      " [ 226.820007             nan]\n",
      " [ 228.240005             nan]\n",
      " [ 226.169998             nan]\n",
      " [ 225.410004             nan]\n",
      " [ 226.020004             nan]\n",
      " [ 225.490005             nan]\n",
      " [ 224.330002             nan]\n",
      " [ 223.820007             nan]\n",
      " [ 223.539993             nan]\n",
      " [ 224.169998             nan]\n",
      " [ 224.320007             nan]\n",
      " [ 227.050003             nan]\n",
      " [ 223.110001             nan]\n",
      " [ 222.139999             nan]\n",
      " [ 220.149994             nan]\n",
      " [ 216.110001             nan]\n",
      " [ 210.429993             nan]\n",
      " [ 209.009995             nan]\n",
      " [ 202.330002             nan]\n",
      " [ 199.020004             nan]\n",
      " [ 205.5                  nan]\n",
      " [ 199.550003             nan]\n",
      " [ 199.089996             nan]\n",
      " [ 195.                   nan]\n",
      " [ 197.059998             nan]\n",
      " [ 195.75                 nan]\n",
      " [ 196.490005             nan]\n",
      " [ 200.419998             nan]\n",
      " [ 207.                   nan]\n",
      " [ 206.850006             nan]\n",
      " [ 206.369995             nan]\n",
      " [ 206.399994             nan]\n",
      " [ 205.990005             nan]\n",
      " [ 206.5                  nan]\n",
      " [ 209.649994             nan]\n",
      " [ 207.509995             nan]\n",
      " [ 205.600006             nan]\n",
      " [ 202.210007             nan]\n",
      " [ 212.300003             nan]\n",
      " [ 213.100006             nan]\n",
      " [ 212.240005             nan]\n",
      " [ 202.460007             nan]\n",
      " [ 201.                   nan]\n",
      " [ 201.350006             nan]\n",
      " [ 201.850006             nan]\n",
      " [ 200.949997             nan]\n",
      " [ 200.5                  nan]\n",
      " [ 200.660004             nan]\n",
      " [ 197.050003             nan]\n",
      " [ 195.990005             nan]\n",
      " [ 199.740005             nan]\n",
      " [ 202.119995             nan]\n",
      " [ 198.600006             nan]\n",
      " [ 201.                   nan]\n",
      " [ 202.899994             nan]\n",
      " [ 201.                   nan]\n",
      " [ 211.339996             nan]\n",
      " [ 204.                   nan]\n",
      " [ 202.490005             nan]\n",
      " [ 198.039993             nan]\n",
      " [ 190.050003             nan]\n",
      " [ 189.                   nan]\n",
      " [ 189.                   nan]\n",
      " [ 193.589996             nan]\n",
      " [ 193.789993             nan]\n",
      " [ 186.880005             nan]\n",
      " [ 191.050003             nan]\n",
      " [ 184.240005             nan]\n",
      " [ 188.                   nan]\n",
      " [ 182.779999             nan]\n",
      " [ 182.649994             nan]\n",
      " [ 183.490005             nan]\n",
      " [ 190.649994             nan]\n",
      " [ 185.039993             nan]\n",
      " [ 185.839996             nan]\n",
      " [ 190.610001             nan]\n",
      " [ 193.639999             nan]\n",
      " [ 195.479996             nan]\n",
      " [ 195.559998             nan]\n",
      " [ 191.                   nan]\n",
      " [ 188.25                 nan]\n",
      " [ 182.880005             nan]\n",
      " [ 182.509995             nan]\n",
      " [ 185.520004             nan]\n",
      " [ 186.149994             nan]\n",
      " [ 192.050003             nan]\n",
      " [ 190.869995             nan]\n",
      " [ 192.800003             nan]\n",
      " [ 193.179993             nan]\n",
      " [ 198.740005             nan]\n",
      " [ 198.410004             nan]\n",
      " [ 198.080002             nan]\n",
      " [ 202.490005             nan]\n",
      " [ 203.050003             nan]\n",
      " [ 208.449997             nan]\n",
      " [ 208.220001             nan]\n",
      " [ 208.                   nan]\n",
      " [ 214.880005             nan]\n",
      " [ 221.529999             nan]\n",
      " [ 218.559998             nan]\n",
      " [ 216.300003             nan]\n",
      " [ 214.860001             nan]\n",
      " [ 214.75                 nan]\n",
      " [ 226.419998             nan]\n",
      " [ 226.929993             nan]\n",
      " [ 228.970001             nan]\n",
      " [ 232.                   nan]\n",
      " [ 229.070007             nan]\n",
      " [ 229.059998             nan]\n",
      " [ 230.                   nan]\n",
      " [ 236.699997             nan]\n",
      " [ 236.649994             nan]\n",
      " [ 247.25                 nan]\n",
      " [ 245.460007             nan]\n",
      " [ 245.850006             nan]\n",
      " [ 250.                   nan]\n",
      " [ 257.309998             nan]\n",
      " [ 254.289993             nan]\n",
      " [ 251.380005             nan]\n",
      " [ 252.529999             nan]\n",
      " [ 249.240005             nan]\n",
      " [ 253.050003             nan]\n",
      " [ 248.339996             nan]\n",
      " [ 251.910004             nan]\n",
      " [ 251.                   nan]\n",
      " [ 258.190002             nan]\n",
      " [ 257.350006             nan]\n",
      " [ 266.25                 nan]\n",
      " [ 269.790009             nan]\n",
      " [ 270.73999              nan]\n",
      " [ 279.029999             nan]\n",
      " [ 280.                   nan]\n",
      " [ 277.600006             nan]\n",
      " [ 265.799988             nan]\n",
      " [ 275.450012             nan]\n",
      " [ 280.309998             nan]\n",
      " [ 264.                   nan]\n",
      " [ 252.660004             nan]\n",
      " [ 248.169998             nan]\n",
      " [ 244.190002             nan]\n",
      " [ 254.179993             nan]\n",
      " [ 249.710007             nan]\n",
      " [ 250.740005             nan]\n",
      " [ 247.910004             nan]\n",
      " [ 251.919998             nan]\n",
      " [ 247.                   nan]\n",
      " [ 247.630005             nan]\n",
      " [ 246.210007             nan]\n",
      " [ 244.820007             nan]\n",
      " [ 246.110001             nan]\n",
      " [ 257.                   nan]\n",
      " [ 262.399994             nan]\n",
      " [ 264.                   nan]\n",
      " [ 260.600006             nan]\n",
      " [ 262.829987             nan]\n",
      " [ 251.559998             nan]\n",
      " [ 255.389999             nan]\n",
      " [ 255.699997             nan]\n",
      " [ 260.600006             nan]\n",
      " [ 277.019989             nan]\n",
      " [ 278.339996             nan]\n",
      " [ 278.040009             nan]\n",
      " [ 278.730011             nan]\n",
      " [ 286.899994             nan]\n",
      " [ 296.890015             nan]\n",
      " [ 302.040009             nan]\n",
      " [ 296.880005             nan]\n",
      " [ 297.5                  nan]\n",
      " [ 309.149994             nan]\n",
      " [ 313.380005             nan]\n",
      " [ 306.339996             nan]\n",
      " [ 296.700012             nan]\n",
      " [ 302.700012             nan]\n",
      " [ 299.700012             nan]\n",
      " [ 302.459991             nan]\n",
      " [ 306.51001              nan]\n",
      " [ 302.                   nan]\n",
      " [ 309.220001             nan]\n",
      " [ 308.                   nan]\n",
      " [ 312.369995             nan]\n",
      " [ 311.690002             nan]\n",
      " [ 309.829987             nan]\n",
      " [ 314.880005             nan]\n",
      " [ 324.                   nan]\n",
      " [ 317.670013             nan]\n",
      " [ 307.440002             nan]\n",
      " [ 298.                   nan]\n",
      " [ 310.899994             nan]\n",
      " [ 309.380005             nan]\n",
      " [ 321.559998             nan]\n",
      " [ 323.399994             nan]\n",
      " [ 325.480011             nan]\n",
      " [ 318.380005             nan]\n",
      " [ 317.589996             nan]\n",
      " [ 314.390015             nan]\n",
      " [ 307.                   nan]\n",
      " [ 315.5                  nan]\n",
      " [ 312.799988             nan]\n",
      " [ 310.459991             nan]\n",
      " [ 306.51001              nan]\n",
      " [ 311.019989             nan]\n",
      " [ 317.279999    314.304061  ]\n",
      " [ 326.          322.48109401]\n",
      " [ 337.690002    331.97546781]\n",
      " [ 344.          338.16150163]\n",
      " [ 339.769989    338.1483926 ]\n",
      " [ 338.5         337.09567939]\n",
      " [ 344.700012    342.83865719]\n",
      " [ 356.339996    349.44014524]\n",
      " [ 363.75        355.11920925]\n",
      " [ 374.420013    364.10260771]\n",
      " [ 357.98999     356.93333852]\n",
      " [ 367.619995    355.20517535]\n",
      " [ 381.089996    367.69133523]\n",
      " [ 372.5         370.81371637]\n",
      " [ 377.980011    367.74630576]\n",
      " [ 375.          366.79960088]\n",
      " [ 376.670013    365.34857713]\n",
      " [ 374.350006    367.52461753]\n",
      " [ 377.98999     369.19550881]\n",
      " [ 382.450012    373.3475167 ]\n",
      " [ 386.690002    374.38875224]\n",
      " [ 376.399994    371.46443395]\n",
      " [ 366.679993    360.29992628]\n",
      " [ 370.609985    364.73018058]\n",
      " [ 363.709991    357.6528785 ]\n",
      " [ 370.23999     357.5931596 ]\n",
      " [ 347.200012    352.24032103]\n",
      " [ 317.26001     329.82369368]\n",
      " [ 313.5         310.45195854]\n",
      " [ 312.899994    312.46129579]\n",
      " [ 316.          314.00336903]\n",
      " [ 330.399994    324.22771178]\n",
      " [ 330.109985    327.85917473]\n",
      " [ 323.190002    323.01824371]\n",
      " [ 325.540009    325.09331546]\n",
      " [ 317.5         319.04626647]\n",
      " [ 328.230011    325.02257041]\n",
      " [ 326.899994    324.36810947]\n",
      " [ 329.459991    327.08294548]\n",
      " [ 330.23999     326.44523496]\n",
      " [ 345.          338.58410756]\n",
      " [ 340.359985    337.43564018]\n",
      " [ 346.          340.26719024]\n",
      " [ 336.890015    333.88701172]\n",
      " [ 335.5         333.01068776]\n",
      " [ 323.          325.11126027]\n",
      " [ 318.940002    318.68793847]\n",
      " [ 345.329987    323.10013144]\n",
      " [ 347.          344.48598135]\n",
      " [ 357.350006    351.65393964]\n",
      " [ 357.529999    351.61803547]\n",
      " [ 361.          360.12375551]\n",
      " [ 361.600006    359.4575547 ]\n",
      " [ 356.970001    353.43066448]\n",
      " [ 364.630005    353.49382086]\n",
      " [ 365.200012    359.22092218]\n",
      " [ 363.          357.43427818]\n",
      " [ 361.209991    358.31208783]\n",
      " [ 352.910004    350.0930768 ]\n",
      " [ 345.820007    344.99212093]\n",
      " [ 341.130005    336.1010246 ]\n",
      " [ 338.98999     337.92926792]\n",
      " [ 352.519989    347.44014453]\n",
      " [ 354.23999     349.20313402]\n",
      " [ 347.279999    345.61414431]\n",
      " [ 339.480011    341.80798171]\n",
      " [ 349.670013    343.14689414]\n",
      " [ 353.549988    348.34675034]\n",
      " [ 356.119995    351.61925898]\n",
      " [ 353.799988    351.10513746]\n",
      " [ 349.5         346.44824264]\n",
      " [ 345.980011    342.01532283]\n",
      " [ 348.98999     346.31288464]\n",
      " [ 351.350006    341.04642   ]\n",
      " [ 364.48999     357.56018311]\n",
      " [ 363.820007    358.76656326]\n",
      " [ 364.329987    360.46914927]\n",
      " [ 374.51001     369.8965505 ]\n",
      " [ 380.25        372.0029237 ]\n",
      " [ 380.          375.19118498]\n",
      " [ 373.          369.79996609]\n",
      " [ 374.899994    368.22662054]\n",
      " [ 366.48999     362.83315856]\n",
      " [ 353.149994    351.15685986]\n",
      " [ 350.929993    344.07880038]\n",
      " [ 349.899994    342.78103573]\n",
      " [ 339.880005    339.97882076]\n",
      " [ 341.859985             nan]]\n"
     ]
    }
   ],
   "source": [
    "print(numpy.hstack((datasetplot[10:],testPredictPlot[10:])))"
   ]
  }
 ],
 "metadata": {
  "kernelspec": {
   "display_name": "Python 3.5",
   "language": "python",
   "name": "python35"
  },
  "language_info": {
   "codemirror_mode": {
    "name": "ipython",
    "version": 3
   },
   "file_extension": ".py",
   "mimetype": "text/x-python",
   "name": "python",
   "nbconvert_exporter": "python",
   "pygments_lexer": "ipython3",
   "version": "3.5.4"
  }
 },
 "nbformat": 4,
 "nbformat_minor": 2
}
