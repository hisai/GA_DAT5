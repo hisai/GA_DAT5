{
 "cells": [
  {
   "cell_type": "markdown",
   "metadata": {},
   "source": [
    "# Data Exploration\n",
    "Download and explore the stocks data from Yahoo finance api"
   ]
  },
  {
   "cell_type": "markdown",
   "metadata": {},
   "source": [
    "# LSTM \n",
    "## Import the required libraries for model."
   ]
  },
  {
   "cell_type": "code",
   "execution_count": 1,
   "metadata": {
    "scrolled": true
   },
   "outputs": [
    {
     "name": "stderr",
     "output_type": "stream",
     "text": [
      "Using TensorFlow backend.\n"
     ]
    }
   ],
   "source": [
    "import numpy \n",
    "import matplotlib.pyplot as plt\n",
    "import pandas \n",
    "from pandas_datareader import data\n",
    "import math\n",
    "from keras.models import Sequential\n",
    "from keras.layers import Dense\n",
    "from keras.layers import LSTM\n",
    "from sklearn.preprocessing import MinMaxScaler\n",
    "from sklearn.metrics import mean_squared_error\n",
    "%matplotlib inline"
   ]
  },
  {
   "cell_type": "markdown",
   "metadata": {},
   "source": [
    "## Define function to download the data from Yahoo Finance"
   ]
  },
  {
   "cell_type": "code",
   "execution_count": 2,
   "metadata": {},
   "outputs": [],
   "source": [
    "def download_data_from_yahoo(tickers, start_date, end_date):\n",
    "    '''\n",
    "    Expect 3 arguments to this function\n",
    "    tickers => list of tickers e.g ['YHO', 'MSFT']\n",
    "    start_date => 'YYYY-MM-DD'\n",
    "    end_date => 'YYYY-MM-DD'\n",
    "    \n",
    "    '''\n",
    "    \n",
    "    # Define the instruments to download.\n",
    "    _tickers = tickers\n",
    "\n",
    "    # Define which online source one should use\n",
    "    _data_source = 'yahoo'\n",
    "\n",
    "    # Download the data between start_date and end_date\n",
    "    _start_date = start_date\n",
    "    _end_date = end_date\n",
    "\n",
    "    # User pandas_reader.data.DataReader to download the desired data. \n",
    "    panel_data = data.DataReader(_tickers, _data_source, _start_date, _end_date)\n",
    "    \n",
    "    # Convert to pandas dataframe\n",
    "    df = panel_data.to_frame()\n",
    "    \n",
    "    # Sort the data based on date in ascendating order i.e oldest date first\n",
    "    df = df.sort_index(ascending=True)\n",
    "    \n",
    "    # Drop 'Close' in favor or Adj Close\n",
    "    df.drop('Close', axis=1, inplace=True)\n",
    "    \n",
    "    # Rename 'Adj Close' => 'Close'\n",
    "    df = df.rename(columns={'Adj Close': 'Close'})\n",
    "    \n",
    "    # Move 'Open' column to the right most\n",
    "    df = df[['Close', 'High', 'Low', 'Volume','Open']]\n",
    "    \n",
    "    return df"
   ]
  },
  {
   "cell_type": "code",
   "execution_count": 3,
   "metadata": {},
   "outputs": [
    {
     "data": {
      "text/html": [
       "<div>\n",
       "<style>\n",
       "    .dataframe thead tr:only-child th {\n",
       "        text-align: right;\n",
       "    }\n",
       "\n",
       "    .dataframe thead th {\n",
       "        text-align: left;\n",
       "    }\n",
       "\n",
       "    .dataframe tbody tr th {\n",
       "        vertical-align: top;\n",
       "    }\n",
       "</style>\n",
       "<table border=\"1\" class=\"dataframe\">\n",
       "  <thead>\n",
       "    <tr style=\"text-align: right;\">\n",
       "      <th></th>\n",
       "      <th></th>\n",
       "      <th>Close</th>\n",
       "      <th>High</th>\n",
       "      <th>Low</th>\n",
       "      <th>Volume</th>\n",
       "      <th>Open</th>\n",
       "    </tr>\n",
       "    <tr>\n",
       "      <th>Date</th>\n",
       "      <th>minor</th>\n",
       "      <th></th>\n",
       "      <th></th>\n",
       "      <th></th>\n",
       "      <th></th>\n",
       "      <th></th>\n",
       "    </tr>\n",
       "  </thead>\n",
       "  <tbody>\n",
       "    <tr>\n",
       "      <th>2015-12-31</th>\n",
       "      <th>TSLA</th>\n",
       "      <td>240.009995</td>\n",
       "      <td>243.449997</td>\n",
       "      <td>238.369995</td>\n",
       "      <td>2715000.0</td>\n",
       "      <td>238.509995</td>\n",
       "    </tr>\n",
       "    <tr>\n",
       "      <th>2016-01-04</th>\n",
       "      <th>TSLA</th>\n",
       "      <td>223.410004</td>\n",
       "      <td>231.380005</td>\n",
       "      <td>219.000000</td>\n",
       "      <td>6827100.0</td>\n",
       "      <td>230.720001</td>\n",
       "    </tr>\n",
       "    <tr>\n",
       "      <th>2016-01-05</th>\n",
       "      <th>TSLA</th>\n",
       "      <td>223.429993</td>\n",
       "      <td>226.889999</td>\n",
       "      <td>220.000000</td>\n",
       "      <td>3186800.0</td>\n",
       "      <td>226.360001</td>\n",
       "    </tr>\n",
       "    <tr>\n",
       "      <th>2016-01-06</th>\n",
       "      <th>TSLA</th>\n",
       "      <td>219.039993</td>\n",
       "      <td>220.050003</td>\n",
       "      <td>215.979996</td>\n",
       "      <td>3779100.0</td>\n",
       "      <td>220.000000</td>\n",
       "    </tr>\n",
       "    <tr>\n",
       "      <th>2016-01-07</th>\n",
       "      <th>TSLA</th>\n",
       "      <td>215.649994</td>\n",
       "      <td>218.440002</td>\n",
       "      <td>213.669998</td>\n",
       "      <td>3554300.0</td>\n",
       "      <td>214.190002</td>\n",
       "    </tr>\n",
       "  </tbody>\n",
       "</table>\n",
       "</div>"
      ],
      "text/plain": [
       "                       Close        High         Low     Volume        Open\n",
       "Date       minor                                                           \n",
       "2015-12-31 TSLA   240.009995  243.449997  238.369995  2715000.0  238.509995\n",
       "2016-01-04 TSLA   223.410004  231.380005  219.000000  6827100.0  230.720001\n",
       "2016-01-05 TSLA   223.429993  226.889999  220.000000  3186800.0  226.360001\n",
       "2016-01-06 TSLA   219.039993  220.050003  215.979996  3779100.0  220.000000\n",
       "2016-01-07 TSLA   215.649994  218.440002  213.669998  3554300.0  214.190002"
      ]
     },
     "execution_count": 3,
     "metadata": {},
     "output_type": "execute_result"
    }
   ],
   "source": [
    "ticker='TSLA'\n",
    "df = download_data_from_yahoo([ticker], '2016-01-01','2017-09-30' )\n",
    "df.head()"
   ]
  },
  {
   "cell_type": "code",
   "execution_count": 4,
   "metadata": {},
   "outputs": [
    {
     "data": {
      "text/plain": [
       "<matplotlib.axes._subplots.AxesSubplot at 0x1189cecf8>"
      ]
     },
     "execution_count": 4,
     "metadata": {},
     "output_type": "execute_result"
    },
    {
     "data": {
      "image/png": "[encoded data removed]",
      "text/plain": [
       "<matplotlib.figure.Figure at 0x1189ce320>"
      ]
     },
     "metadata": {},
     "output_type": "display_data"
    }
   ],
   "source": [
    "df.Close.plot()"
   ]
  },
  {
   "cell_type": "code",
   "execution_count": 5,
   "metadata": {},
   "outputs": [],
   "source": [
    "#df.info()"
   ]
  },
  {
   "cell_type": "code",
   "execution_count": 6,
   "metadata": {
    "collapsed": true
   },
   "outputs": [],
   "source": [
    "# fix random seed for reproducibility\n",
    "numpy.random.seed(7)"
   ]
  },
  {
   "cell_type": "code",
   "execution_count": 7,
   "metadata": {},
   "outputs": [
    {
     "name": "stdout",
     "output_type": "stream",
     "text": [
      "<class 'pandas.core.frame.DataFrame'>\n",
      "MultiIndex: 441 entries, (2015-12-31 00:00:00, TSLA) to (2017-09-29 00:00:00, TSLA)\n",
      "Data columns (total 5 columns):\n",
      "Close     441 non-null float64\n",
      "High      441 non-null float64\n",
      "Low       441 non-null float64\n",
      "Volume    441 non-null float64\n",
      "Open      441 non-null float64\n",
      "dtypes: float64(5)\n",
      "memory usage: 22.1+ KB\n"
     ]
    }
   ],
   "source": [
    "# load the dataset\n",
    "dataset = df.values\n",
    "df.info()"
   ]
  },
  {
   "cell_type": "code",
   "execution_count": 8,
   "metadata": {},
   "outputs": [
    {
     "data": {
      "text/plain": [
       "array([[  2.40009995e+02,   2.43449997e+02,   2.38369995e+02,\n",
       "          2.71500000e+06,   2.38509995e+02],\n",
       "       [  2.23410004e+02,   2.31380005e+02,   2.19000000e+02,\n",
       "          6.82710000e+06,   2.30720001e+02],\n",
       "       [  2.23429993e+02,   2.26889999e+02,   2.20000000e+02,\n",
       "          3.18680000e+06,   2.26360001e+02],\n",
       "       [  2.19039993e+02,   2.20050003e+02,   2.15979996e+02,\n",
       "          3.77910000e+06,   2.20000000e+02],\n",
       "       [  2.15649994e+02,   2.18440002e+02,   2.13669998e+02,\n",
       "          3.55430000e+06,   2.14190002e+02],\n",
       "       [  2.11000000e+02,   2.20440002e+02,   2.10770004e+02,\n",
       "          3.62810000e+06,   2.17860001e+02],\n",
       "       [  2.07850006e+02,   2.14449997e+02,   2.03000000e+02,\n",
       "          4.08970000e+06,   2.14009995e+02],\n",
       "       [  2.09970001e+02,   2.13740005e+02,   2.05309998e+02,\n",
       "          3.09190000e+06,   2.11600006e+02],\n",
       "       [  2.00309998e+02,   2.12649994e+02,   2.00000000e+02,\n",
       "          4.12640000e+06,   2.12009995e+02],\n",
       "       [  2.06179993e+02,   2.10000000e+02,   1.93380005e+02,\n",
       "          6.49070000e+06,   2.02210007e+02]])"
      ]
     },
     "execution_count": 8,
     "metadata": {},
     "output_type": "execute_result"
    }
   ],
   "source": [
    "dataset[:10]"
   ]
  },
  {
   "cell_type": "markdown",
   "metadata": {},
   "source": [
    "## Split data into train (80%) and test (20%) dataset "
   ]
  },
  {
   "cell_type": "code",
   "execution_count": 9,
   "metadata": {},
   "outputs": [
    {
     "name": "stdout",
     "output_type": "stream",
     "text": [
      "Total dataset 441 => 352 [train dataset] + 89 [test dataset]\n"
     ]
    }
   ],
   "source": [
    "train_size = int(len(dataset) * 0.80)\n",
    "test_size = len(dataset) - train_size\n",
    "train, test = dataset[0:train_size,:], dataset[train_size:len(dataset),:]\n",
    "print(\"Total dataset %s => %s [train dataset] + %s [test dataset]\" %(len(dataset), len(train), len(test)))"
   ]
  },
  {
   "cell_type": "code",
   "execution_count": 10,
   "metadata": {},
   "outputs": [
    {
     "name": "stdout",
     "output_type": "stream",
     "text": [
      "5\n"
     ]
    }
   ],
   "source": [
    "features = df.columns\n",
    "no_of_features = len(features)\n",
    "print(no_of_features)\n",
    "# Reshape the dataset into X=t and Y=t+1\n",
    "'''\n",
    "X include ['Close', 'High', 'Low', 'Volume'] from time t\n",
    "Y use 'Open' from the next day i.e time t+1 as the prediction price for next day\n",
    "'''\n",
    "def create_dataset(dataset, look_back=1):\n",
    "    dataX, dataY = [], []\n",
    "    for i in range(len(dataset)-look_back-1):\n",
    "        a = dataset[i:(i+look_back), 0:4]\n",
    "        dataX.append(a.ravel())  # flatten the [[]] double nested list into a [] list\n",
    "        dataY.append(dataset[i + look_back, 4]) # Take next day 'Open' price as Y value\n",
    "    return numpy.array(dataX), numpy.array(dataY)"
   ]
  },
  {
   "cell_type": "code",
   "execution_count": 11,
   "metadata": {
    "collapsed": true
   },
   "outputs": [],
   "source": [
    "look_back = 1\n",
    "trainX, trainY = create_dataset(train, look_back)\n",
    "testX, testY = create_dataset(test, look_back)"
   ]
  },
  {
   "cell_type": "code",
   "execution_count": 12,
   "metadata": {},
   "outputs": [
    {
     "name": "stdout",
     "output_type": "stream",
     "text": [
      "[[  2.40009995e+02   2.43449997e+02   2.38369995e+02   2.71500000e+06]\n",
      " [  2.23410004e+02   2.31380005e+02   2.19000000e+02   6.82710000e+06]\n",
      " [  2.23429993e+02   2.26889999e+02   2.20000000e+02   3.18680000e+06]]\n",
      "[ 230.720001  226.360001  220.      ]\n"
     ]
    }
   ],
   "source": [
    "print(trainX[:3])\n",
    "print(trainY[:3])"
   ]
  },
  {
   "cell_type": "markdown",
   "metadata": {},
   "source": [
    "## Normalize the dataset"
   ]
  },
  {
   "cell_type": "code",
   "execution_count": 13,
   "metadata": {},
   "outputs": [
    {
     "name": "stdout",
     "output_type": "stream",
     "text": [
      "Before normalizing the data.\n",
      " [[  2.40009995e+02   2.43449997e+02   2.38369995e+02   2.71500000e+06]\n",
      " [  2.23410004e+02   2.31380005e+02   2.19000000e+02   6.82710000e+06]\n",
      " [  2.23429993e+02   2.26889999e+02   2.20000000e+02   3.18680000e+06]]\n",
      "[ 230.720001  226.360001  220.      ]\n",
      "\n",
      "After normalizing the data.\n",
      " [[ 0.53065269  0.51236316  0.53922869  0.04779716]\n",
      " [ 0.43921787  0.44246918  0.43190381  0.23400912]\n",
      " [ 0.43932797  0.4164688   0.43744459  0.06916211]]\n",
      "[[ 0.48263809]\n",
      " [ 0.45883376]\n",
      " [ 0.42411002]]\n"
     ]
    }
   ],
   "source": [
    "print(\"Before normalizing the data.\\n\", trainX[:3])\n",
    "print(trainY[:3])\n",
    "# X and Y have different numpy shape and hence defining 2 scaler\n",
    "x_scaler = MinMaxScaler(feature_range=(0, 1))\n",
    "y_scaler = MinMaxScaler(feature_range=(0, 1))\n",
    "\n",
    "trainX = x_scaler.fit_transform(trainX)\n",
    "trainY = y_scaler.fit_transform(trainY.reshape(-1,1))\n",
    "\n",
    "testX = x_scaler.fit_transform(testX)\n",
    "testY = y_scaler.fit_transform(testY.reshape(-1,1))\n",
    "print(\"\\nAfter normalizing the data.\\n\", trainX[:3])\n",
    "print(trainY[:3])"
   ]
  },
  {
   "cell_type": "code",
   "execution_count": 14,
   "metadata": {},
   "outputs": [
    {
     "name": "stdout",
     "output_type": "stream",
     "text": [
      "[ 230.720001  226.360001  220.      ]\n",
      "[[ 1.        ]\n",
      " [ 0.59328362]\n",
      " [ 0.        ]]\n"
     ]
    }
   ],
   "source": [
    "test=numpy.array([ 230.720001,  226.360001, 220.])\n",
    "print(test)\n",
    "transformed_test = y_scaler.fit_transform(test.reshape(-1,1))\n",
    "print(transformed_test)\n",
    "#[ 230.720001  226.360001  220.      ]\n",
    "#test2 = y_scaler.inverse_transform(transformed_test)\n",
    "#print(test2)"
   ]
  },
  {
   "cell_type": "code",
   "execution_count": 15,
   "metadata": {},
   "outputs": [
    {
     "data": {
      "text/plain": [
       "((3, 4), (3, 1))"
      ]
     },
     "execution_count": 15,
     "metadata": {},
     "output_type": "execute_result"
    }
   ],
   "source": [
    "trainX[:3].shape, trainY[:3].shape"
   ]
  },
  {
   "cell_type": "code",
   "execution_count": 16,
   "metadata": {},
   "outputs": [
    {
     "data": {
      "text/plain": [
       "(array([[ 0.53065269,  0.51236316,  0.53922869,  0.04779716],\n",
       "        [ 0.43921787,  0.44246918,  0.43190381,  0.23400912],\n",
       "        [ 0.43932797,  0.4164688 ,  0.43744459,  0.06916211]]),\n",
       " array([[ 0.48263809],\n",
       "        [ 0.45883376],\n",
       "        [ 0.42411002]]))"
      ]
     },
     "execution_count": 16,
     "metadata": {},
     "output_type": "execute_result"
    }
   ],
   "source": [
    "trainX[:3], trainY[:3]"
   ]
  },
  {
   "cell_type": "code",
   "execution_count": 17,
   "metadata": {},
   "outputs": [],
   "source": [
    "# A quick view of the X and Y\n",
    "#numpy.hstack((trainX[:3], trainY[:3].reshape(3,1)))"
   ]
  },
  {
   "cell_type": "code",
   "execution_count": 18,
   "metadata": {},
   "outputs": [
    {
     "name": "stdout",
     "output_type": "stream",
     "text": [
      "[[ 0.53065269  0.51236316  0.53922869  0.04779716]\n",
      " [ 0.43921787  0.44246918  0.43190381  0.23400912]\n",
      " [ 0.43932797  0.4164688   0.43744459  0.06916211]]\n",
      "(350, 1, 4)\n",
      "(87, 1, 4)\n"
     ]
    }
   ],
   "source": [
    "# reshape input to be [samples, time steps, features]\n",
    "print(trainX[:3])\n",
    "trainX = numpy.reshape(trainX, (trainX.shape[0], 1, trainX.shape[1]))\n",
    "testX = numpy.reshape(testX, (testX.shape[0], 1, testX.shape[1]))\n",
    "print(trainX[:].shape)\n",
    "print(testX[:].shape)"
   ]
  },
  {
   "cell_type": "code",
   "execution_count": 19,
   "metadata": {},
   "outputs": [
    {
     "name": "stdout",
     "output_type": "stream",
     "text": [
      "Epoch 1/100\n",
      "2s - loss: 0.1090\n",
      "Epoch 2/100\n",
      "2s - loss: 0.0138\n",
      "Epoch 3/100\n",
      "2s - loss: 0.0065\n",
      "Epoch 4/100\n",
      "2s - loss: 0.0023\n",
      "Epoch 5/100\n",
      "2s - loss: 8.7423e-04\n",
      "Epoch 6/100\n",
      "2s - loss: 6.0541e-04\n",
      "Epoch 7/100\n",
      "2s - loss: 5.5043e-04\n",
      "Epoch 8/100\n",
      "2s - loss: 5.0323e-04\n",
      "Epoch 9/100\n",
      "2s - loss: 4.7756e-04\n",
      "Epoch 10/100\n",
      "3s - loss: 4.4526e-04\n",
      "Epoch 11/100\n",
      "2s - loss: 4.2644e-04\n",
      "Epoch 12/100\n",
      "2s - loss: 4.1058e-04\n",
      "Epoch 13/100\n",
      "2s - loss: 3.9035e-04\n",
      "Epoch 14/100\n",
      "2s - loss: 3.9993e-04\n",
      "Epoch 15/100\n",
      "3s - loss: 3.8447e-04\n",
      "Epoch 16/100\n",
      "3s - loss: 3.9241e-04\n",
      "Epoch 17/100\n",
      "3s - loss: 3.9386e-04\n",
      "Epoch 18/100\n",
      "2s - loss: 3.7428e-04\n",
      "Epoch 19/100\n",
      "2s - loss: 3.7468e-04\n",
      "Epoch 20/100\n",
      "2s - loss: 3.6709e-04\n",
      "Epoch 21/100\n",
      "2s - loss: 3.6534e-04\n",
      "Epoch 22/100\n",
      "2s - loss: 3.6609e-04\n",
      "Epoch 23/100\n",
      "2s - loss: 3.6949e-04\n",
      "Epoch 24/100\n",
      "2s - loss: 3.6828e-04\n",
      "Epoch 25/100\n",
      "2s - loss: 3.8223e-04\n",
      "Epoch 26/100\n",
      "2s - loss: 3.7107e-04\n",
      "Epoch 27/100\n",
      "2s - loss: 3.6777e-04\n",
      "Epoch 28/100\n",
      "2s - loss: 3.5536e-04\n",
      "Epoch 29/100\n",
      "2s - loss: 3.5727e-04\n",
      "Epoch 30/100\n",
      "2s - loss: 3.4337e-04\n",
      "Epoch 31/100\n",
      "2s - loss: 3.5537e-04\n",
      "Epoch 32/100\n",
      "2s - loss: 3.3689e-04\n",
      "Epoch 33/100\n",
      "2s - loss: 3.6351e-04\n",
      "Epoch 34/100\n",
      "2s - loss: 3.5775e-04\n",
      "Epoch 35/100\n",
      "2s - loss: 3.5643e-04\n",
      "Epoch 36/100\n",
      "2s - loss: 3.6794e-04\n",
      "Epoch 37/100\n",
      "2s - loss: 3.5284e-04\n",
      "Epoch 38/100\n",
      "2s - loss: 3.5244e-04\n",
      "Epoch 39/100\n",
      "2s - loss: 3.5654e-04\n",
      "Epoch 40/100\n",
      "2s - loss: 3.4775e-04\n",
      "Epoch 41/100\n",
      "2s - loss: 3.4158e-04\n",
      "Epoch 42/100\n",
      "2s - loss: 3.4565e-04\n",
      "Epoch 43/100\n",
      "2s - loss: 3.4883e-04\n",
      "Epoch 44/100\n",
      "2s - loss: 3.5648e-04\n",
      "Epoch 45/100\n",
      "2s - loss: 3.2748e-04\n",
      "Epoch 46/100\n",
      "2s - loss: 3.3736e-04\n",
      "Epoch 47/100\n",
      "2s - loss: 3.3859e-04\n",
      "Epoch 48/100\n",
      "2s - loss: 3.4442e-04\n",
      "Epoch 49/100\n",
      "2s - loss: 3.3093e-04\n",
      "Epoch 50/100\n",
      "2s - loss: 3.2448e-04\n",
      "Epoch 51/100\n",
      "2s - loss: 3.5758e-04\n",
      "Epoch 52/100\n",
      "2s - loss: 3.4049e-04\n",
      "Epoch 53/100\n",
      "2s - loss: 3.3390e-04\n",
      "Epoch 54/100\n",
      "2s - loss: 3.5046e-04\n",
      "Epoch 55/100\n",
      "2s - loss: 3.4128e-04\n",
      "Epoch 56/100\n",
      "2s - loss: 3.4419e-04\n",
      "Epoch 57/100\n",
      "2s - loss: 3.2875e-04\n",
      "Epoch 58/100\n",
      "2s - loss: 3.3366e-04\n",
      "Epoch 59/100\n",
      "2s - loss: 3.4666e-04\n",
      "Epoch 60/100\n",
      "2s - loss: 3.1890e-04\n",
      "Epoch 61/100\n",
      "2s - loss: 3.4649e-04\n",
      "Epoch 62/100\n",
      "2s - loss: 3.2384e-04\n",
      "Epoch 63/100\n",
      "2s - loss: 3.4247e-04\n",
      "Epoch 64/100\n",
      "2s - loss: 3.4552e-04\n",
      "Epoch 65/100\n",
      "2s - loss: 3.3159e-04\n",
      "Epoch 66/100\n",
      "2s - loss: 3.4103e-04\n",
      "Epoch 67/100\n",
      "2s - loss: 3.2285e-04\n",
      "Epoch 68/100\n",
      "2s - loss: 3.4621e-04\n",
      "Epoch 69/100\n",
      "2s - loss: 3.3684e-04\n",
      "Epoch 70/100\n",
      "2s - loss: 3.3411e-04\n",
      "Epoch 71/100\n",
      "2s - loss: 3.2802e-04\n",
      "Epoch 72/100\n",
      "2s - loss: 3.3158e-04\n",
      "Epoch 73/100\n",
      "2s - loss: 3.3586e-04\n",
      "Epoch 74/100\n",
      "2s - loss: 3.2768e-04\n",
      "Epoch 75/100\n",
      "2s - loss: 3.3256e-04\n",
      "Epoch 76/100\n",
      "2s - loss: 3.3641e-04\n",
      "Epoch 77/100\n",
      "2s - loss: 3.2192e-04\n",
      "Epoch 78/100\n",
      "2s - loss: 3.3555e-04\n",
      "Epoch 79/100\n",
      "2s - loss: 3.3199e-04\n",
      "Epoch 80/100\n",
      "2s - loss: 3.1711e-04\n",
      "Epoch 81/100\n",
      "2s - loss: 3.3770e-04\n",
      "Epoch 82/100\n",
      "2s - loss: 3.3390e-04\n",
      "Epoch 83/100\n",
      "2s - loss: 3.2437e-04\n",
      "Epoch 84/100\n",
      "2s - loss: 3.2626e-04\n",
      "Epoch 85/100\n",
      "2s - loss: 3.2344e-04\n",
      "Epoch 86/100\n",
      "2s - loss: 3.1570e-04\n",
      "Epoch 87/100\n",
      "2s - loss: 3.2077e-04\n",
      "Epoch 88/100\n",
      "2s - loss: 3.3922e-04\n",
      "Epoch 89/100\n",
      "2s - loss: 3.2917e-04\n",
      "Epoch 90/100\n",
      "2s - loss: 3.3513e-04\n",
      "Epoch 91/100\n",
      "2s - loss: 3.2400e-04\n",
      "Epoch 92/100\n",
      "2s - loss: 3.1024e-04\n",
      "Epoch 93/100\n",
      "2s - loss: 3.1895e-04\n",
      "Epoch 94/100\n",
      "2s - loss: 3.2807e-04\n",
      "Epoch 95/100\n",
      "2s - loss: 3.2639e-04\n",
      "Epoch 96/100\n",
      "2s - loss: 2.9485e-04\n",
      "Epoch 97/100\n",
      "2s - loss: 3.2596e-04\n",
      "Epoch 98/100\n",
      "2s - loss: 3.1852e-04\n",
      "Epoch 99/100\n",
      "2s - loss: 3.1577e-04\n",
      "Epoch 100/100\n",
      "2s - loss: 3.2071e-04\n"
     ]
    },
    {
     "data": {
      "text/plain": [
       "<keras.callbacks.History at 0x11bbe6400>"
      ]
     },
     "execution_count": 19,
     "metadata": {},
     "output_type": "execute_result"
    }
   ],
   "source": [
    "# create and fit the LSTM network\n",
    "model = Sequential()\n",
    "model.add(LSTM(4, input_shape=(1,4)))\n",
    "model.add(Dense(1))\n",
    "model.compile(loss='mean_squared_error', optimizer='adam')\n",
    "model.fit(trainX, trainY, epochs=100, batch_size=1, verbose=2)"
   ]
  },
  {
   "cell_type": "markdown",
   "metadata": {},
   "source": [
    "## Make prediction with test data"
   ]
  },
  {
   "cell_type": "code",
   "execution_count": 20,
   "metadata": {},
   "outputs": [
    {
     "name": "stdout",
     "output_type": "stream",
     "text": [
      "[[[ 0.53065269  0.51236316  0.53922869  0.04779716]]\n",
      "\n",
      " [[ 0.43921787  0.44246918  0.43190381  0.23400912]]\n",
      "\n",
      " [[ 0.43932797  0.4164688   0.43744459  0.06916211]]]\n"
     ]
    }
   ],
   "source": [
    "print(trainX[:3])"
   ]
  },
  {
   "cell_type": "code",
   "execution_count": 21,
   "metadata": {},
   "outputs": [],
   "source": [
    "# make predictions\n",
    "trainPredict = model.predict(trainX)\n",
    "testPredict = model.predict(testX)"
   ]
  },
  {
   "cell_type": "code",
   "execution_count": 22,
   "metadata": {},
   "outputs": [
    {
     "name": "stdout",
     "output_type": "stream",
     "text": [
      "Compare trainY and trainPredict\n",
      "(350, 1) (350, 1)\n",
      "[[ 0.48263809  0.53289986]\n",
      " [ 0.45883376  0.44255674]\n",
      " [ 0.42411002  0.44054258]\n",
      " [ 0.39238913  0.41394705]\n",
      " [ 0.41242625  0.39794594]]\n",
      "\n",
      "Compare testY and testPredict\n",
      "(87, 1) (87, 1)\n",
      "[[ 0.0593577   0.10342973]\n",
      " [ 0.17753089  0.19849274]\n",
      " [ 0.33595345  0.32785302]\n",
      " [ 0.42146636  0.41191578]\n",
      " [ 0.36414138  0.41619456]]\n"
     ]
    }
   ],
   "source": [
    "print('Compare trainY and trainPredict')\n",
    "print(trainY.shape, trainPredict.shape)\n",
    "print(numpy.hstack((trainY[:5],trainPredict[:5])))\n",
    "print('\\nCompare testY and testPredict')\n",
    "print(testY.shape, testPredict.shape)\n",
    "print(numpy.hstack((testY[:5],testPredict[:5])))\n"
   ]
  },
  {
   "cell_type": "markdown",
   "metadata": {},
   "source": [
    "## Reshape and invert the transformation"
   ]
  },
  {
   "cell_type": "code",
   "execution_count": 23,
   "metadata": {},
   "outputs": [
    {
     "name": "stdout",
     "output_type": "stream",
     "text": [
      "[[ 0.48263809]\n",
      " [ 0.45883376]\n",
      " [ 0.42411002]]\n"
     ]
    },
    {
     "data": {
      "text/plain": [
       "array([[ 225.17388078],\n",
       "       [ 224.91869841],\n",
       "       [ 224.54645984]])"
      ]
     },
     "execution_count": 23,
     "metadata": {},
     "output_type": "execute_result"
    }
   ],
   "source": [
    "print(trainY[:3])\n",
    "trainY2 = y_scaler.inverse_transform(trainY)\n",
    "trainY2[:3]"
   ]
  },
  {
   "cell_type": "code",
   "execution_count": 34,
   "metadata": {},
   "outputs": [
    {
     "name": "stdout",
     "output_type": "stream",
     "text": [
      "[[ 1.        ]\n",
      " [ 0.59328362]\n",
      " [ 0.        ]]\n",
      "[[ 230.720001]\n",
      " [ 226.360001]\n",
      " [ 220.      ]]\n"
     ]
    }
   ],
   "source": [
    "#[ 230.720001  226.360001  220. ]\n",
    "# This is to test that the y_scaler is inverse_transforming back correctly\n",
    "print(transformed_test)\n",
    "test2 = y_scaler.inverse_transform(transformed_test)\n",
    "print(test2)"
   ]
  },
  {
   "cell_type": "code",
   "execution_count": 25,
   "metadata": {
    "scrolled": true
   },
   "outputs": [
    {
     "name": "stdout",
     "output_type": "stream",
     "text": [
      "Train Score: 0.02 RMSE\n",
      "Test Score: 0.06 RMSE\n"
     ]
    }
   ],
   "source": [
    "# Reshape to (350,5) as this is the numpy array shape when we did the transformed earlier.\n",
    "#trainPredict2 = numpy.hstack((trainX[:].reshape(len(trainX),4), trainPredict[:].reshape(len(trainPredict),1)))\n",
    "#trainY2 = numpy.hstack((trainX[:].reshape(len(trainX),4), trainY[:].reshape(len(trainY),1)))\n",
    "#testPredict2  = numpy.hstack((testX[:].reshape(len(testX),4), testPredict[:].reshape(len(testPredict),1)))\n",
    "#testY2 = numpy.hstack((testX[:].reshape(len(testX),4), testY[:].reshape(len(testY),1)))\n",
    "\n",
    "#print(trainPredict2.shape)\n",
    "#print(trainY2.shape)\n",
    "#print(testPredict2.shape)\n",
    "#print(trainY2.shape)\n",
    "\n",
    "# Transform back to original matrixs\n",
    "trainPredict2 = y_scaler.inverse_transform(trainPredict)\n",
    "trainY2 = y_scaler.inverse_transform(trainY)\n",
    "testPredict2 = y_scaler.inverse_transform(testPredict)\n",
    "testY2 = y_scaler.inverse_transform(testY)\n",
    "\n",
    "# calculate root mean squared error\n",
    "trainScore = math.sqrt(mean_squared_error(trainY[:,0], trainPredict[:,0]))\n",
    "print('Train Score: %.2f RMSE' % (trainScore))\n",
    "testScore = math.sqrt(mean_squared_error(testY[:,0], testPredict[:,0]))\n",
    "print('Test Score: %.2f RMSE' % (testScore))"
   ]
  },
  {
   "cell_type": "code",
   "execution_count": 40,
   "metadata": {},
   "outputs": [
    {
     "data": {
      "text/plain": [
       "(350, 1)"
      ]
     },
     "execution_count": 40,
     "metadata": {},
     "output_type": "execute_result"
    }
   ],
   "source": [
    "trainY2.shape\n"
   ]
  },
  {
   "cell_type": "code",
   "execution_count": 49,
   "metadata": {},
   "outputs": [
    {
     "data": {
      "text/plain": [
       "(350, 1)"
      ]
     },
     "execution_count": 49,
     "metadata": {},
     "output_type": "execute_result"
    }
   ],
   "source": [
    "train[1:-1,4].reshape(-1,1).shape"
   ]
  },
  {
   "cell_type": "code",
   "execution_count": 44,
   "metadata": {},
   "outputs": [
    {
     "data": {
      "text/plain": [
       "(352, 1)"
      ]
     },
     "execution_count": 44,
     "metadata": {},
     "output_type": "execute_result"
    }
   ],
   "source": [
    "dataset[0:train_size,4].reshape(-1,1).shape"
   ]
  },
  {
   "cell_type": "code",
   "execution_count": 51,
   "metadata": {},
   "outputs": [
    {
     "name": "stdout",
     "output_type": "stream",
     "text": [
      "Compare trainY and trainPredict\n",
      "[[ 230.720001    225.17388078  225.71269226]\n",
      " [ 226.360001    224.91869841  224.74420166]\n",
      " [ 220.          224.54645984  224.72261047]\n",
      " ..., \n",
      " [ 315.5         230.13589025  229.89918518]\n",
      " [ 312.799988    229.97786376  229.86012268]\n",
      " [ 310.459991    229.84090826  229.79808044]]\n",
      "\n",
      "Compare testY and testPredict\n",
      "[[ 220.63631458  221.10876465]\n",
      " [ 221.90313135  222.12783813]\n",
      " [ 223.60142135  223.5145874 ]\n",
      " [ 224.51811979  224.41572571]\n",
      " [ 223.90359591  224.46160889]\n",
      " [ 223.71909554  224.35296631]\n",
      " [ 224.61981553  225.19642639]\n",
      " [ 226.31083906  226.1192627 ]\n",
      " [ 227.38734322  227.06471252]\n",
      " [ 228.93745214  228.46722412]\n",
      " [ 226.55054546  227.24661255]\n",
      " [ 227.94956501  227.04016113]\n",
      " [ 229.90644817  229.24734497]\n",
      " [ 228.65851815  230.03955078]\n",
      " [ 229.45463846  229.16960144]\n",
      " [ 229.02171099  228.88909912]\n",
      " [ 229.2643257   228.66725159]\n",
      " [ 228.92728173  228.99291992]\n",
      " [ 229.45608818  229.31825256]\n",
      " [ 230.1040274   230.20881653]\n",
      " [ 230.720001    230.40870667]\n",
      " [ 229.22509811  229.76049805]\n",
      " [ 227.81300421  227.83985901]\n",
      " [ 228.38394219  228.61035156]\n",
      " [ 227.38153083  227.4367981 ]\n",
      " [ 228.33019038  227.48605347]\n",
      " [ 224.98300837  226.57536316]\n",
      " [ 220.63341064  222.92732239]\n",
      " [ 220.08716715  220.28186035]\n",
      " [ 220.          220.64460754]\n",
      " [ 220.45035999  220.80239868]\n",
      " [ 222.54234987  222.2485199 ]\n",
      " [ 222.5002182   222.84640503]\n",
      " [ 221.49490289  222.1865387 ]\n",
      " [ 221.83630517  222.57208252]\n",
      " [ 220.6682757   221.58900452]\n",
      " [ 222.22710096  222.50671387]\n",
      " [ 222.0338799   222.45169067]\n",
      " [ 222.40578893  222.87779236]\n",
      " [ 222.51910495  222.79823303]\n",
      " [ 224.66339693  224.49563599]\n",
      " [ 223.98930884  224.35543823]\n",
      " [ 224.80867406  224.85539246]\n",
      " [ 223.48520153  223.74723816]\n",
      " [ 223.28326414  223.75401306]\n",
      " [ 221.46729994  222.45075989]\n",
      " [ 220.87747506  221.60900879]\n",
      " [ 224.71133649  222.03048706]\n",
      " [ 224.9539512   225.32263184]\n",
      " [ 226.45757042  226.52702332]\n",
      " [ 226.48371929  226.55854797]\n",
      " [ 226.9878311   227.86645508]\n",
      " [ 227.07499825  227.75473022]\n",
      " [ 226.40236438  226.78790283]\n",
      " [ 227.51518782  226.8894043 ]\n",
      " [ 227.59799681  227.76493835]\n",
      " [ 227.27838537  227.51914978]\n",
      " [ 227.01833799  227.64329529]\n",
      " [ 225.81253965  226.309021  ]\n",
      " [ 224.78252519  225.54537964]\n",
      " [ 224.10117514  224.15431213]\n",
      " [ 223.79027989  224.51802063]\n",
      " [ 225.75587939  225.95121765]\n",
      " [ 226.00575621  226.22213745]\n",
      " [ 224.99462865  225.6739502 ]\n",
      " [ 223.86146873  225.11384583]\n",
      " [ 225.34184304  225.3087616 ]\n",
      " [ 225.90551469  226.12979126]\n",
      " [ 226.27887795  226.60928345]\n",
      " [ 225.94183398  226.55046082]\n",
      " [ 225.31714404  225.80345154]\n",
      " [ 224.80577012  225.11871338]\n",
      " [ 225.24305124  225.79257202]\n",
      " [ 225.58590761  224.99160767]\n",
      " [ 227.49484685  227.48091125]\n",
      " [ 227.39751363  227.66197205]\n",
      " [ 227.47160207  227.97839355]\n",
      " [ 228.95052665  229.40155029]\n",
      " [ 229.78441596  229.78646851]\n",
      " [ 229.74809667  230.58053589]\n",
      " [ 228.73115672  229.4102478 ]\n",
      " [ 229.00718241  229.1477356 ]\n",
      " [ 227.78540112  228.29193115]\n",
      " [ 225.84740471  226.37287903]\n",
      " [ 225.52488932  225.32937622]\n",
      " [ 225.37525402  225.17127991]\n",
      " [ 223.91957872  224.74790955]]\n"
     ]
    }
   ],
   "source": [
    "print('Compare trainY and trainPredict')\n",
    "print(numpy.hstack((train[1:-1,4].reshape(-1,1),trainY2,trainPredict2)))\n",
    "print('\\nCompare testY and testPredict')\n",
    "print(numpy.hstack((testY2,testPredict2)))"
   ]
  },
  {
   "cell_type": "code",
   "execution_count": 38,
   "metadata": {},
   "outputs": [
    {
     "name": "stdout",
     "output_type": "stream",
     "text": [
      "[[  2.40009995e+02   2.43449997e+02   2.38369995e+02   2.71500000e+06\n",
      "    2.38509995e+02]\n",
      " [  2.23410004e+02   2.31380005e+02   2.19000000e+02   6.82710000e+06\n",
      "    2.30720001e+02]\n",
      " [  2.23429993e+02   2.26889999e+02   2.20000000e+02   3.18680000e+06\n",
      "    2.26360001e+02]]\n"
     ]
    }
   ],
   "source": [
    "print(dataset[:3])"
   ]
  },
  {
   "cell_type": "code",
   "execution_count": 36,
   "metadata": {},
   "outputs": [
    {
     "name": "stdout",
     "output_type": "stream",
     "text": [
      "[[ 238.509995]\n",
      " [ 230.720001]\n",
      " [ 226.360001]\n",
      " [ 220.      ]\n",
      " [ 214.190002]]\n",
      "(441, 1)\n",
      "(441, 1)\n",
      "[[          nan]\n",
      " [ 225.71269226]\n",
      " [ 224.74420166]\n",
      " [ 224.72261047]\n",
      " [ 224.4375    ]\n",
      " [ 224.26597595]\n",
      " [ 224.0749054 ]\n",
      " [ 223.82395935]\n",
      " [ 223.92697144]\n",
      " [ 223.4777832 ]]\n"
     ]
    },
    {
     "data": {
      "image/png": "[encoded data removed]",
      "text/plain": [
       "<matplotlib.figure.Figure at 0x11c6642b0>"
      ]
     },
     "metadata": {},
     "output_type": "display_data"
    }
   ],
   "source": [
    "# Extract the 'Open' price from the original dataset\n",
    "datasetPlot= dataset[:,4]\n",
    "datasetPlot = datasetPlot.reshape(len(datasetPlot),1)\n",
    "print(datasetPlot[:5])\n",
    "print(datasetPlot.shape)\n",
    "#datasetplot.reshape(len(datasetplot,1))\n",
    "\n",
    "#print(trainPredict[:3])\n",
    "trainPredictPlot = numpy.empty_like(datasetPlot)\n",
    "trainPredictPlot[:, :] = numpy.nan\n",
    "#print(trainPredict4[:3])\n",
    "trainPredictPlot[look_back:len(trainPredict2)+look_back, :] = trainPredict2\n",
    "print(trainPredictPlot.shape)\n",
    "print(trainPredictPlot[:10])\n",
    "\n",
    "#print(numpy.hstack((datasetPlot,trainPredict2)))\n",
    "\n",
    "#print(dataset.shape)\n",
    "#print(testPredict3.shape)\n",
    "# shift test predictions for plotting\n",
    "testPredictPlot = numpy.empty_like(datasetPlot)\n",
    "testPredictPlot[:, :] = numpy.nan\n",
    "testPredictPlot[len(trainPredict2)+(look_back*2)+1:len(dataset)-1, :] = testPredict2\n",
    "# plot baseline and predictions\n",
    "plt.figure(figsize=(12,10))\n",
    "plt.plot(datasetPlot, color='blue', label='Historic Data')\n",
    "plt.plot(trainPredictPlot, color='green', label='Training Data')\n",
    "plt.plot(testPredictPlot, color='red', label='Prediction Data')\n",
    "plt.title('Stock price prediction for %s' %ticker)\n",
    "plt.show()\n"
   ]
  },
  {
   "cell_type": "code",
   "execution_count": 32,
   "metadata": {},
   "outputs": [
    {
     "data": {
      "image/png": "[encoded data removed]",
      "text/plain": [
       "<matplotlib.figure.Figure at 0x11bce89b0>"
      ]
     },
     "metadata": {},
     "output_type": "display_data"
    }
   ],
   "source": [
    "plt.figure(figsize=(12,10))\n",
    "plt.plot(datasetPlot[-30:], color='blue', label='Historic Data')\n",
    "plt.plot(testPredictPlot[-30:], color='red', label='Prediction Data')\n",
    "plt.title(\"Zoom in for the last 30 days - %s\" %ticker)\n",
    "plt.show()"
   ]
  }
 ],
 "metadata": {
  "kernelspec": {
   "display_name": "Python 3.5",
   "language": "python",
   "name": "python35"
  },
  "language_info": {
   "codemirror_mode": {
    "name": "ipython",
    "version": 3
   },
   "file_extension": ".py",
   "mimetype": "text/x-python",
   "name": "python",
   "nbconvert_exporter": "python",
   "pygments_lexer": "ipython3",
   "version": "3.5.4"
  }
 },
 "nbformat": 4,
 "nbformat_minor": 2
}
