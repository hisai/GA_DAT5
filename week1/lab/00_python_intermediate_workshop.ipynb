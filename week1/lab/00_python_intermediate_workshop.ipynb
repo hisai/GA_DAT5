{
 "cells": [
  {
   "cell_type": "markdown",
   "metadata": {},
   "source": [
    "#List"
   ]
  },
  {
   "cell_type": "code",
   "execution_count": 25,
   "metadata": {
    "collapsed": false
   },
   "outputs": [
    {
     "name": "stdout",
     "output_type": "stream",
     "text": [
      "Lilly\n",
      "4\n"
     ]
    },
    {
     "data": {
      "text/plain": [
       "['John', 'Jack', 'Lilly', 'Alex2', 'michael']"
      ]
     },
     "execution_count": 25,
     "metadata": {},
     "output_type": "execute_result"
    }
   ],
   "source": [
    "'''\n",
    "EXERCISE:\n",
    "1. Create a list of the first names of your family members.\n",
    "2. Print the name of the last person in the list.\n",
    "3. Print the length of the name of the first person in the list.\n",
    "4. Change one of the names from their real name to their nickname.\n",
    "5. Append a new person to the list.\n",
    "6. Change the name of the new person to lowercase using the string method 'lower'.\n",
    "7. Sort the list in reverse alphabetical order.\n",
    "Bonus: Sort the list by the length of the names (shortest to longest).\n",
    "'''\n",
    "\n",
    "# list of names\n",
    "# last element\n",
    "# length of first string\n",
    "# overwrite existing element\n",
    "# append new element\n",
    "# change last string to be lowercase\n",
    "# sort the list in reverse order\n",
    "# sort the list by length\n",
    "\n",
    "family = ['John', 'Alex', 'Jack', 'Lilly']\n",
    "print(family[-1])\n",
    "print(len(family[0]))\n",
    "family[1] = 'Alex2'\n",
    "family.append(\"Michael\".lower())\n",
    "family.sort(reverse=True)\n",
    "family.sort(key=len)\n",
    "family\n",
    "#family=sorted(family,key=len, reverse=True)\n",
    "#print(family)\n",
    "\n",
    "\n",
    "\n"
   ]
  },
  {
   "cell_type": "code",
   "execution_count": null,
   "metadata": {
    "collapsed": true
   },
   "outputs": [],
   "source": []
  },
  {
   "cell_type": "code",
   "execution_count": 28,
   "metadata": {
    "collapsed": false
   },
   "outputs": [
    {
     "name": "stdout",
     "output_type": "stream",
     "text": [
      "['A', 'B', 'C']\n",
      "['A', 'B', 'C']\n",
      "['A', 'B', 'C']\n"
     ]
    }
   ],
   "source": [
    "\n",
    "'''\n",
    "EXERCISE 1:\n",
    "Given that: letters = ['a', 'b', 'c']\n",
    "Write a list comprehension that returns: ['A', 'B', 'C']\n",
    "\n",
    "EXERCISE 2 (BONUS):\n",
    "Given that: word = 'abc'\n",
    "Write a list comprehension that returns: ['A', 'B', 'C']\n",
    "\n",
    "EXERCISE 3 (BONUS):\n",
    "Given that: fruits = ['Apple', 'Banana', 'Cherry']\n",
    "Write a list comprehension that returns: ['A', 'B', 'C']\n",
    "'''\n",
    "\n",
    "letters = ['a', 'b', 'c']\n",
    "letters = [x.upper() for x in letters]\n",
    "print(letters)\n",
    "# iterate through a list of strings,\n",
    "# and each string has an 'upper' method\n",
    "word = 'abc'\n",
    "# iterate through each character\n",
    "words = [x.upper() for x in letters]\n",
    "print(words)\n",
    "\n",
    "fruits = ['Apple', 'Banana', 'Cherry']\n",
    "# slice the first character from each string\n",
    "fruits = [x[0] for x in fruits]\n",
    "print(fruits)\n"
   ]
  },
  {
   "cell_type": "code",
   "execution_count": 31,
   "metadata": {
    "collapsed": false
   },
   "outputs": [
    {
     "data": {
      "text/plain": [
       "[('dad', 'Homer'), ('kids', ['bart', 'lisa']), ('mom', 'Marge'), ('size', 2)]"
      ]
     },
     "execution_count": 31,
     "metadata": {},
     "output_type": "execute_result"
    }
   ],
   "source": [
    "\n",
    "'''\n",
    "DICTIONARIES\n",
    "'''\n",
    "\n",
    "# dictionaries are made of key-value pairs (like a real dictionary)\n",
    "family = {'dad':'Homer', 'mom':'Marge', 'size':2}\n",
    "\n",
    "# check the length\n",
    "len(family)         # returns 3 (number of key-value pairs)\n",
    "\n",
    "# use the key to look up a value (fast operation regardless of dictionary size)\n",
    "family['dad']       # returns 'Homer'\n",
    "\n",
    "# can't use a value to look up a key\n",
    "#family['Homer']     # error\n",
    "\n",
    "# dictionaries are unordered\n",
    "#family[0]           # error\n",
    "\n",
    "# add a new entry\n",
    "family['cat'] = 'snowball'\n",
    "\n",
    "# keys must be unique, so this edits an existing entry\n",
    "family['cat'] = 'snowball ii'\n",
    "\n",
    "# delete an entry\n",
    "del family['cat']\n",
    "\n",
    "# keys can be strings or numbers or tuples, values can be any type\n",
    "family['kids'] = ['bart', 'lisa']   # value can be a list\n",
    "\n",
    "# accessing a list element within a dictionary\n",
    "family['kids'][0]   # returns 'bart'\n",
    "\n",
    "# useful methods\n",
    "family.keys()       # returns list: ['dad', 'kids', 'mom', 'size']\n",
    "family.values()     # returns list: ['Homer', ['bart', 'lisa'], 'Marge', 2]\n",
    "family.items()      # returns list of tuples:\n",
    "                    # [('dad', 'Homer'), ('kids', ['bart', 'lisa']), ('mom', 'Marge'), ('size', 2)]\n",
    "\n",
    "\n"
   ]
  },
  {
   "cell_type": "code",
   "execution_count": 33,
   "metadata": {
    "collapsed": false
   },
   "outputs": [
    {
     "data": {
      "text/plain": [
       "{'dad': 'Homer', 'kids': ['Bart', 'Lisa', 'Maggie'], 'mom': 'Marge', 'size': 5}"
      ]
     },
     "execution_count": 33,
     "metadata": {},
     "output_type": "execute_result"
    }
   ],
   "source": [
    "'''\n",
    "EXERCISE:\n",
    "1. Print the name of the mom.\n",
    "2. Change the size to 5.\n",
    "3. Add 'Maggie' to the list of kids.\n",
    "4. Fix 'bart' and 'lisa' so that the first letter is capitalized.\n",
    "Bonus: Do this last step using a list comprehension.\n",
    "'''\n",
    "family = {'dad':'Homer', 'mom':'Marge', 'size':2}\n",
    "# keys must be unique, so this edits an existing entry\n",
    "family['cat'] = 'snowball ii'\n",
    "\n",
    "# delete an entry\n",
    "del family['cat']\n",
    "\n",
    "# keys can be strings or numbers or tuples, values can be any type\n",
    "family['kids'] = ['bart', 'lisa']   # value can be a list\n",
    "\n",
    "\n",
    "# returns 'Marge'\n",
    "family['mom']\n",
    "\n",
    "# replaces existing value for 'size'\n",
    "family['size'] = 5\n",
    "\n",
    "# access a list, then append 'Maggie' to it\n",
    "family['kids'] += ['Maggie']\n",
    "\n",
    "# capitalize names by overwriting them\n",
    "# or, capitalize using a list comprehension and the 'capitalize' string method\n",
    "# or, slice the string, uppercase the first letter, and concatenate with other letters\n",
    "family['kids'] = [name[0].upper() + name[1:].lower() for name in family['kids']]\n",
    "family"
   ]
  },
  {
   "cell_type": "code",
   "execution_count": null,
   "metadata": {
    "collapsed": true
   },
   "outputs": [],
   "source": [
    "\n",
    "\n",
    "'''\n",
    "REQUESTS\n",
    "'''\n",
    "\n",
    "# import module (make its functions available)\n",
    "import requests\n",
    "\n",
    "# use requests to talk to the web\n",
    "r = requests.get('http://www.google.com')\n",
    "type(r)         # special 'response' object\n",
    "r.text          # HTML of web page stored as string\n",
    "type(r.text)    # string is encoded as unicode\n",
    "r.text[0]       # string can be sliced like any string\n",
    "\n",
    "\n",
    "'''\n",
    "APIs\n",
    "\n",
    "What is an API?\n",
    "- Application Programming Interface\n",
    "- Structured way to expose specific functionality and data access to users\n",
    "- Web APIs usually follow the \"REST\" standard\n",
    "\n",
    "How to interact with a REST API:\n",
    "- Make a \"request\" to a specific URL (an \"endpoint\"), and get the data back in a \"response\"\n",
    "- Most relevant request method for us is GET (other methods: POST, PUT, DELETE)\n",
    "- Response is often JSON format\n",
    "- Web console is sometimes available (allows you to explore an API)\n",
    "\n",
    "API Providers: https://apigee.com/providers\n",
    "Echo Nest API Console: https://apigee.com/resources/nytimes\n",
    "'''\n",
    "\n",
    "# request data from the Echo Nest API\n",
    "r = requests.get('http://api.nytimes.com/svc/books/v3/lists/current/hardcover-fiction.json?api-key=d28cb3126eae332c6279f9dedf4bb830%3A10%3A64325990&format=json')\n",
    "r.text          # looks like a dictionary\n",
    "type(r.text)    # actually stored as a string\n",
    "r.json()        # decodes JSON\n",
    "type(r.json())  # JSON can be represented as a dictionary\n",
    "top = r.json()  # store that dictionary\n",
    "\n",
    "# store the book data\n",
    "books = top['results']['books']    # list of 15 dictionaries\n",
    "\n",
    "# create a list of book titles only\n",
    "titles = [book['title'] for book in books]  # can iterate through list to access dictionaries"
   ]
  }
 ],
 "metadata": {
  "anaconda-cloud": {},
  "kernelspec": {
   "display_name": "Python [conda root]",
   "language": "python",
   "name": "conda-root-py"
  },
  "language_info": {
   "codemirror_mode": {
    "name": "ipython",
    "version": 2
   },
   "file_extension": ".py",
   "mimetype": "text/x-python",
   "name": "python",
   "nbconvert_exporter": "python",
   "pygments_lexer": "ipython2",
   "version": "2.7.12"
  }
 },
 "nbformat": 4,
 "nbformat_minor": 1
}
