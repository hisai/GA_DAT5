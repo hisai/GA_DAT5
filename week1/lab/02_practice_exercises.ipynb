{
 "cells": [
  {
   "cell_type": "markdown",
   "metadata": {},
   "source": [
    "# This notebooks has a number of problems to help you get better at Python"
   ]
  },
  {
   "cell_type": "markdown",
   "metadata": {},
   "source": [
    "### Problem 1: Write a function to convert miles to Kilo Meters\n",
    "\n",
    "Hint: 1 mile = 1.6 km"
   ]
  },
  {
   "cell_type": "code",
   "execution_count": 1,
   "metadata": {
    "collapsed": false
   },
   "outputs": [],
   "source": [
    "# Code the following function\n",
    "def convert_to_km(miles):\n",
    "    '''Returns km value for miles.\n",
    "    '''\n",
    "    return miles * 1.6"
   ]
  },
  {
   "cell_type": "code",
   "execution_count": 2,
   "metadata": {
    "collapsed": false
   },
   "outputs": [],
   "source": [
    "# This is your scratch space to do what you want like test.  \n",
    "# To create more scratch space, just click on Insert -> Cell from the menu"
   ]
  },
  {
   "cell_type": "code",
   "execution_count": 6,
   "metadata": {
    "collapsed": false
   },
   "outputs": [],
   "source": [
    "# If your code is right, the following asserts would succeed, otherwise, you will get a Traceback error\n",
    "# If you get an error, go back to above code and modify and try again.\n",
    "assert(convert_to_km(0) == 0)\n",
    "assert(convert_to_km(1) == 1.6)\n",
    "assert(convert_to_km(2) == 3.2)\n",
    "assert(convert_to_km(1.25) == 2.0)"
   ]
  },
  {
   "cell_type": "markdown",
   "metadata": {},
   "source": [
    "### Problem 2: Write a function to compute powers of 2\n",
    "\n",
    "Hint: Powers of 2 are 1, 2, 4, 8, 16, 32 and so on for 2 to the power of 0, 1, 2, 3, 4, 5."
   ]
  },
  {
   "cell_type": "code",
   "execution_count": 9,
   "metadata": {
    "collapsed": false
   },
   "outputs": [],
   "source": [
    "# Code the following function\n",
    "def power_of_2(power):\n",
    "    '''Returns 2 to the power value.\n",
    "    '''\n",
    "    return 2 ** power"
   ]
  },
  {
   "cell_type": "code",
   "execution_count": null,
   "metadata": {
    "collapsed": false
   },
   "outputs": [],
   "source": [
    "# For example, you can test your code by typing power_of_2(1) and confirming the result."
   ]
  },
  {
   "cell_type": "code",
   "execution_count": 13,
   "metadata": {
    "collapsed": false
   },
   "outputs": [],
   "source": [
    "# If your code is right, the following asserts would succeed\n",
    "assert(power_of_2(0) == 1)\n",
    "assert(power_of_2(1) == 2)\n",
    "assert(power_of_2(2) == 4)\n",
    "assert(power_of_2(3) == 8)"
   ]
  },
  {
   "cell_type": "markdown",
   "metadata": {},
   "source": [
    " #### Problem 3: Write a function to check if the number is a power of 2\n",
    " \n",
    " If I pass in a value of 1, 2, 4, 8, 16 ... it should return True.  Otherwise, it should return False."
   ]
  },
  {
   "cell_type": "code",
   "execution_count": 23,
   "metadata": {
    "collapsed": false
   },
   "outputs": [],
   "source": [
    "def check_power_of_2(numb):\n",
    "    '''Returns True if numb is a power of 2, else returns False'''\n",
    "    import math\n",
    "    return math.log(numb,2).is_integer()"
   ]
  },
  {
   "cell_type": "code",
   "execution_count": 24,
   "metadata": {
    "collapsed": false
   },
   "outputs": [],
   "source": [
    "# If your code is right, the following asserts would succeed.\n",
    "assert(check_power_of_2(2) is True)\n",
    "assert(check_power_of_2(3) is False)\n",
    "assert(check_power_of_2(8) is True)\n",
    "assert(check_power_of_2(12) is False)"
   ]
  },
  {
   "cell_type": "markdown",
   "metadata": {},
   "source": [
    "### Problem 4: Write a function that returns the nth fibonaci sequence\n",
    "\n",
    "If I call with value of:\n",
    "    * 1, return the first fib sequence of 1\n",
    "    * 2, return 2nd number in fub seq of 1\n",
    "    * 3, return 1 + 1 = 2\n",
    "    * 4, return 1 + 2 = 3\n",
    "    * 5, return 2 + 3 = 5\n",
    "    * 6, return 3 + 5 = 8\n",
    "\n",
    "Ref: http://en.wikipedia.org/wiki/Fibonacci_number"
   ]
  },
  {
   "cell_type": "code",
   "execution_count": null,
   "metadata": {
    "collapsed": false
   },
   "outputs": [],
   "source": [
    "def fib_value(numb):\n",
    "    '''returns the nth numb in fibonaci sequence'''\n",
    "    pass"
   ]
  },
  {
   "cell_type": "code",
   "execution_count": null,
   "metadata": {
    "collapsed": false
   },
   "outputs": [],
   "source": [
    "# If your code is right, the following asserts would succeed. \n",
    "assert(fib_value(1) == 1)\n",
    "assert(fib_value(5) == 5)\n",
    "assert(fib_value(6) == 8)\n",
    "assert(fib_value(7) == 13)"
   ]
  },
  {
   "cell_type": "markdown",
   "metadata": {},
   "source": [
    "### Problem 5: Write a function to check if a number is a prime number"
   ]
  },
  {
   "cell_type": "code",
   "execution_count": 35,
   "metadata": {
    "collapsed": false
   },
   "outputs": [],
   "source": [
    "def is_prime(numb):\n",
    "    '''Returns True if the number is a prime number'''\n",
    "    import math\n",
    "    if numb < 2:\n",
    "        return False\n",
    "    \n",
    "    for x in range(2, int(math.sqrt(numb))+1):\n",
    "        print x\n",
    "        if numb % x == 0:\n",
    "            return False\n",
    "        \n",
    "    return True"
   ]
  },
  {
   "cell_type": "code",
   "execution_count": 36,
   "metadata": {
    "collapsed": false
   },
   "outputs": [
    {
     "name": "stdout",
     "output_type": "stream",
     "text": [
      "2\n",
      "3\n",
      "2\n",
      "2\n",
      "3\n"
     ]
    }
   ],
   "source": [
    "# If your code is right, the following asserts would succeed. \n",
    "assert(is_prime(2) is True)\n",
    "assert(is_prime(11) is True)\n",
    "assert(is_prime(12) is False)\n",
    "assert(is_prime(13) is True)"
   ]
  },
  {
   "cell_type": "markdown",
   "metadata": {},
   "source": [
    "### Problem 6: Write a function that returns the max number in a given sequence (list)\n",
    "\n",
    "Don't use the max function\n",
    "\n",
    "* For [1, 3, 2], return 3\n",
    "* For [3, 3, 4, 5, 1], return 5\n",
    "* For [], return None"
   ]
  },
  {
   "cell_type": "code",
   "execution_count": 38,
   "metadata": {
    "collapsed": false
   },
   "outputs": [],
   "source": [
    "def find_max(seq):\n",
    "    '''Returns max value in the seq (list).  If the seq is empty, return None'''\n",
    "    list_len= len(seq)\n",
    "    if list_len == 0:\n",
    "        return None\n",
    "    max = 0\n",
    "    for x in range(list_len):\n",
    "        if seq[x] > max:\n",
    "            max = seq[x]\n",
    "    return max"
   ]
  },
  {
   "cell_type": "code",
   "execution_count": 40,
   "metadata": {
    "collapsed": false
   },
   "outputs": [],
   "source": [
    "# If your code is right, the following asserts would succeed.\n",
    "assert(find_max([1, 3, 2]) == 3)\n",
    "assert(find_max([3, 3, 4, 5, 1]) == 5)\n",
    "assert(find_max([]) is None)"
   ]
  },
  {
   "cell_type": "markdown",
   "metadata": {},
   "source": [
    "### Problem 7: Find the most common (repeated) number in a sequence\n",
    "\n",
    "* For [1, 1, 3, 2], return 1 (most common or repeated value)\n",
    "* For [1, 2, 2, 2, 3], return 2\n",
    "* For empty list [], return None\n",
    "\n",
    "Hint: Creating a Dictionary of numbers with their counts might be useful"
   ]
  },
  {
   "cell_type": "code",
   "execution_count": 47,
   "metadata": {
    "collapsed": false
   },
   "outputs": [],
   "source": [
    "def most_common(seq):\n",
    "    '''Returns the most common number in the sequence, return None if seq is empty'''\n",
    "    my_dict={}\n",
    "    if len(seq) < 1:\n",
    "        return None\n",
    "    \n",
    "    for x in seq:\n",
    "        if my_dict.has_key(x):\n",
    "            my_dict[x] += 1\n",
    "        else:\n",
    "            my_dict[x] = 1\n",
    "    #print(my_dict)\n",
    "    \n",
    "    max = 0\n",
    "    most_common =\"\"\n",
    "        \n",
    "    for k in my_dict.keys():\n",
    "        v = my_dict[k]\n",
    "        if v > max:\n",
    "            max = v\n",
    "            most_common = k\n",
    "    return most_common"
   ]
  },
  {
   "cell_type": "code",
   "execution_count": 52,
   "metadata": {
    "collapsed": false
   },
   "outputs": [
    {
     "name": "stdout",
     "output_type": "stream",
     "text": [
      "{1: 2, 2: 1, 3: 1}\n",
      "{1: 1, 2: 3, 5: 1}\n"
     ]
    }
   ],
   "source": [
    "# If your code is right, the following asserts would succeed.\n",
    "assert(most_common([1, 1, 3, 2]) == 1)\n",
    "assert(most_common([1, 2, 2, 2, 5]) == 2)\n",
    "assert(most_common([]) is None)"
   ]
  },
  {
   "cell_type": "markdown",
   "metadata": {},
   "source": [
    "### Problem 8: Check if a string is a palindrome.\n",
    "\n",
    "Palindrome read the same backwards and forwards.\n",
    "\n",
    "Ref: http://en.wikipedia.org/wiki/Palindrome"
   ]
  },
  {
   "cell_type": "code",
   "execution_count": 53,
   "metadata": {
    "collapsed": false
   },
   "outputs": [],
   "source": [
    "def is_palindrome(seq):\n",
    "    '''Returns True if seq is a palindrome else return False'''\n",
    "    return seq == ''.join(reversed(seq))"
   ]
  },
  {
   "cell_type": "code",
   "execution_count": 54,
   "metadata": {
    "collapsed": false
   },
   "outputs": [],
   "source": [
    "# If your code is right, the following asserts would succeed.\n",
    "assert(is_palindrome('radar') is True)\n",
    "assert(is_palindrome('civic') is True)\n",
    "assert(is_palindrome('honda') is False)"
   ]
  },
  {
   "cell_type": "markdown",
   "metadata": {},
   "source": [
    "### Problem 9: Find the five most commonly used words in Gettysburg Address\n",
    "\n",
    "Hint: http://www.d.umn.edu/~rmaclin/gettysburg-address.html"
   ]
  },
  {
   "cell_type": "code",
   "execution_count": 142,
   "metadata": {
    "collapsed": false
   },
   "outputs": [
    {
     "name": "stdout",
     "output_type": "stream",
     "text": [
      "{'all': 1, 'far\\nabove': 1, 'years': 1, 'proposition': 1, 'hallow': 1, 'little\\nnote,': 1, 'before': 1, 'We': 1, 'unfinished': 1, 'have\\ndied': 1, 'to': 7, 'add': 1, 'field,': 1, 'dead,': 1, 'whether\\nthat': 1, 'might': 1, 'remaining': 1, 'gave': 2, 'do': 1, 'it,': 1, 'increased': 1, 'government': 1, 'far': 1, 'that\\ncause': 1, 'nation': 1, 'they': 3, 'altogether': 1, 'not': 4, 'world': 1, 'thus': 1, 'struggled': 1, 'nor': 1, 'resolve': 1, 'did': 1, 'these': 2, '\\non': 1, 'battle-field': 1, 'brave': 1, 'honored': 1, 'what': 2, 'fathers': 1, 'testing': 1, 'dead': 2, '19,': 1, 'full': 1, 'are': 3, 'measure': 1, 'proper': 1, 'our': 2, 'rather,': 1, 'Adddress': 1, 'advanced.': 1, 'for': 5, 'score': 1, 'new': 1, 'the\\npeople,': 1, 'forth': 1, 'we': 7, 'conceived': 2, 'perish': 1, 'power': 1, 'men': 1, 'here': 4, 'met': 1, 'that\\nfrom': 1, 'come': 1, 'by': 1, 'on': 1, 'great': 3, 'last': 1, 'created': 1, 'of': 7, 'larger': 1, 'dedicate': 2, 'new\\nbirth': 1, 'place': 1, 'here.': 1, 'here,': 2, 'war.\\nWe': 1, \"Lincoln's\": 1, 'civil': 1, 'live.': 1, 'vain': 1, 'dedicated': 1, 'highly': 1, 'brought': 1, 'that\\nnation': 1, 'war,': 1, 'detract.': 1, 'continent,': 1, 'sense,': 1, 'final\\nresting': 1, 'from': 1, 'to\\nbe': 1, 'long': 1, 'endure.': 1, 'their': 1, 'God,': 1, 'Dedication': 1, 'Lincoln': 1, 'be\\ndedicated': 1, 'dedicated,': 1, 'engaged': 1, 'under': 1, 'but': 1, '1863': 1, 'lives': 1, 'those': 1, 'bgcolor=\"white\"': 1, 'this': 3, 'Text': 1, 'work': 1, 'Gettysburg': 2, 'as': 1, 'us': 3, 'will': 1, 'people,': 2, 'can': 4, 'freedom': 1, 'say': 1, 'Delivered': 1, 'seven': 1, 'and\\ndedicated': 1, 'is': 3, 'Cemetery': 1, 'it': 1, 'we\\nshould': 1, 'at': 2, 'have': 4, 'in': 4, 'never\\nforget': 1, 'any': 1, 'living,': 1, 'devotion': 2, 'rather': 1, 'that': 8, 'fitting': 1, 'take': 1, 'which': 2, 'text=\"black\"': 1, 'men,\\nliving': 1, 'nation,': 3, 'poor': 1, 'shall': 3, 'who': 3, 'ground.': 1, 'fought\\nhere': 1, 'The': 2, 'nobly': 1, 'ago': 1, 'task': 1, 'consecrated': 1, 'remember': 1, 'not\\nconsecrate': 1, 'can\\nlong': 1, 'It': 3, 'or': 2, 'portion': 1, 'so': 2, 'Liberty,': 1}\n",
      "\n"
     ]
    },
    {
     "data": {
      "text/plain": [
       "[('that', 8), ('we', 7), ('to', 7), ('of', 7), ('for', 5)]"
      ]
     },
     "execution_count": 142,
     "metadata": {},
     "output_type": "execute_result"
    }
   ],
   "source": [
    "# If the following import gives error, go to command prompt and run \"conda install requests\"\n",
    "import requests\n",
    "\n",
    "url = 'http://www.d.umn.edu/~rmaclin/gettysburg-address.html'\n",
    "gettsburg = requests.get(url).text\n",
    "str_list = gettsburg.split(' ')\n",
    "\n",
    "\n",
    "def top_most_common(seq, top_range=5):\n",
    "    '''Returns the most common number in the sequence, return None if seq is empty'''\n",
    "    '''You can pass on the number of most frequent number of words e.g 10. Default is 5  '''\n",
    "    my_dict={}\n",
    "    if len(seq) < 1:\n",
    "        return None\n",
    "    \n",
    "    filter_list= [\"<\", \">\", \"--\"]\n",
    "    stop_words = [\"a\", \"the\", \"and\", \"etc\"]\n",
    "    for x in seq:\n",
    "        x = x.decode('utf-8','ignore').encode(\"utf-8\")\n",
    "        if not any( filter in x for filter in filter_list):\n",
    "            if not any (word == x for word in stop_words):\n",
    "                if len(x) > 0:\n",
    "                    if my_dict.has_key(x):\n",
    "                        my_dict[x] += 1\n",
    "                    else:\n",
    "                        my_dict[x] = 1\n",
    "    print(my_dict)\n",
    "    print(\"\")\n",
    "    word_frq_list=[]\n",
    "    for k in my_dict.keys():\n",
    "        word_frq_list.append([my_dict[k], k])\n",
    "    \n",
    "    word_frq_list.sort()\n",
    "    word_frq_list.reverse()\n",
    "    \n",
    "    #print(word_frq_list)\n",
    "    top_five = []\n",
    "    for x in range(top_range):\n",
    "        top_five.append((word_frq_list[x][1],word_frq_list[x][0]))\n",
    "    return top_five\n",
    "\n",
    "top_most_common(str_list, 5)"
   ]
  },
  {
   "cell_type": "code",
   "execution_count": null,
   "metadata": {
    "collapsed": false
   },
   "outputs": [],
   "source": [
    "# Now gettsburg has the text of Lincon's address.  Can you find the most commonly used words?"
   ]
  },
  {
   "cell_type": "markdown",
   "metadata": {},
   "source": [
    "# Problem 10: Do problem 9 excluding stop words like \"a, the, and etc.\""
   ]
  },
  {
   "cell_type": "code",
   "execution_count": null,
   "metadata": {
    "collapsed": false
   },
   "outputs": [],
   "source": []
  }
 ],
 "metadata": {
  "anaconda-cloud": {},
  "kernelspec": {
   "display_name": "Python [default]",
   "language": "python",
   "name": "python2"
  },
  "language_info": {
   "codemirror_mode": {
    "name": "ipython",
    "version": 2
   },
   "file_extension": ".py",
   "mimetype": "text/x-python",
   "name": "python",
   "nbconvert_exporter": "python",
   "pygments_lexer": "ipython2",
   "version": "2.7.12"
  }
 },
 "nbformat": 4,
 "nbformat_minor": 0
}
