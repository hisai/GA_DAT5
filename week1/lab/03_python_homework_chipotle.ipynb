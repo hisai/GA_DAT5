{
 "cells": [
  {
   "cell_type": "code",
   "execution_count": 5,
   "metadata": {
    "collapsed": false
   },
   "outputs": [
    {
     "name": "stdout",
     "output_type": "stream",
     "text": [
      "Average Price: $18.81\n"
     ]
    }
   ],
   "source": [
    "'''\n",
    "Python Homework with Chipotle data\n",
    "https://github.com/TheUpshot/chipotle\n",
    "'''\n",
    "\n",
    "'''\n",
    "BASIC LEVEL\n",
    "PART 1: Read in the file with csv.reader() and store it in an object called 'file_nested_list'.\n",
    "Hint: This is a TSV file, and csv.reader() needs to be told how to handle it.\n",
    "      https://docs.python.org/2/library/csv.html\n",
    "'''\n",
    "\n",
    "import csv\n",
    "\n",
    "# specify that the delimiter is a tab character\n",
    "# make 'file_nested_list' = list of rows\n",
    "\n",
    "with open('data/orders.tsv') as f:\n",
    "    file_nested_list = [row for row in csv.reader(f, dialect='excel-tab')]\n",
    "\n",
    "\n",
    "\n",
    "'''\n",
    "BASIC LEVEL\n",
    "PART 2: Separate 'file_nested_list' into the 'header' and the 'data'.\n",
    "'''\n",
    "header = file_nested_list[0]\n",
    "data = file_nested_list[1:]\n",
    "\n",
    "\n",
    "'''\n",
    "INTERMEDIATE LEVEL\n",
    "PART 3: Calculate the average price of an order.\n",
    "Hint: Examine the data to see if the 'quantity' column is relevant to this calculation.\n",
    "Hint: Think carefully about the simplest way to do this!\n",
    "'''\n",
    "\n",
    "# count the number of unique order_id's\n",
    "# note: you could assume this is 1834 since that's the maximum order_id, but it's best to check\n",
    "order_count = data[-1][0]\n",
    "\n",
    "# create a list of prices\n",
    "# note: ignore the 'quantity' column because the 'item_price' takes quantity into account\n",
    "# strip the dollar sign and trailing space\n",
    "price_list = [float(row[-1].strip().replace(\"$\",\"\")) for row in data ]\n",
    "\n",
    "# calculate the average price of an order and round to 2 digits\n",
    "# $18.81\n",
    "average_price = sum(price_list)/int(order_count)\n",
    "print(\"Average Price: $%.2f\" % average_price)\n"
   ]
  },
  {
   "cell_type": "code",
   "execution_count": 6,
   "metadata": {
    "collapsed": false
   },
   "outputs": [
    {
     "data": {
      "text/plain": [
       "{'Canned Soda', 'Canned Soft Drink'}"
      ]
     },
     "execution_count": 6,
     "metadata": {},
     "output_type": "execute_result"
    }
   ],
   "source": [
    "\n",
    "'''\n",
    "INTERMEDIATE LEVEL\n",
    "PART 4: Create a list (or set) of all unique sodas and soft drinks that they sell.\n",
    "Note: Just look for 'Canned Soda' and 'Canned Soft Drink', and ignore other drinks like 'Izze'.\n",
    "'''\n",
    "\n",
    "# if 'item_name' includes 'Canned', append 'choice_description' to 'sodas' list\n",
    "sodas = [order[2] for order in data if \"Canned\" in order[2]]\n",
    "\n",
    "\n",
    "# equivalent list comprehension (using an 'if' condition)\n",
    "unique_sodas = set(sodas)\n",
    "\n",
    "# create a set of unique sodas\n",
    "unique_sodas\n"
   ]
  },
  {
   "cell_type": "code",
   "execution_count": 8,
   "metadata": {
    "collapsed": false
   },
   "outputs": [
    {
     "name": "stdout",
     "output_type": "stream",
     "text": [
      "1172\n",
      "5151\n"
     ]
    },
    {
     "data": {
      "text/plain": [
       "4"
      ]
     },
     "execution_count": 8,
     "metadata": {},
     "output_type": "execute_result"
    }
   ],
   "source": [
    "\n",
    "\n",
    "'''\n",
    "ADVANCED LEVEL\n",
    "PART 5: Calculate the average number of toppings per burrito.\n",
    "Note: Let's ignore the 'quantity' column to simplify this task.\n",
    "Hint: Think carefully about the easiest way to count the number of toppings!\n",
    "'''\n",
    "\n",
    "# keep a running total of burritos and toppings\n",
    "burritos_order = [order[2-4] for order in data if \"Burrito\" in order[2]]\n",
    "total_burritos_order = len(burritos_order)\n",
    "print(total_burritos_order)\n",
    "\n",
    "# calculate number of toppings by counting the commas and adding 1\n",
    "# note: x += 1 is equivalent to x = x + 1\n",
    "count=0\n",
    "for order in burritos_order:\n",
    "    count += order.count(\",\")\n",
    "    #print(order)\n",
    "    #print(order.count(\",\"))\n",
    "print(count)\n",
    "\n",
    "# calculate the average topping count and round to 2 digits\n",
    "# 5.40\n",
    "average_topping = count/total_burritos_order\n",
    "average_topping"
   ]
  },
  {
   "cell_type": "code",
   "execution_count": 11,
   "metadata": {
    "collapsed": false
   },
   "outputs": [
    {
     "name": "stdout",
     "output_type": "stream",
     "text": [
      "('Chips and Roasted Chili-Corn Salsa', 18)\n",
      "('Chips and Tomatillo-Red Chili Salsa', 25)\n",
      "('Chips and Mild Fresh Tomato Salsa', 1)\n",
      "('Chips and Guacamole', 506)\n",
      "('Chips and Fresh Tomato Salsa', 130)\n",
      "('Chips and Tomatillo Red Chili Salsa', 50)\n",
      "('Chips and Tomatillo-Green Chili Salsa', 33)\n",
      "('Side of Chips', 110)\n",
      "('Chips and Roasted Chili Corn Salsa', 23)\n",
      "('Chips', 230)\n",
      "('Chips and Tomatillo Green Chili Salsa', 45)\n"
     ]
    },
    {
     "data": {
      "text/plain": [
       "'\\nBONUS: Think of a question about this data that interests you, and then answer it!\\n'"
      ]
     },
     "execution_count": 11,
     "metadata": {},
     "output_type": "execute_result"
    }
   ],
   "source": [
    "\n",
    "'''\n",
    "ADVANCED LEVEL\n",
    "PART 6: Create a dictionary in which the keys represent chip orders and\n",
    "  the values represent the total number of orders.\n",
    "Expected output: {'Chips and Roasted Chili-Corn Salsa': 18, ... }\n",
    "Note: Please take the 'quantity' column into account!\n",
    "Optional: Learn how to use 'defaultdict' to simplify your code.\n",
    "'''\n",
    "\n",
    "# start with an empty dictionary\n",
    "chips = {}\n",
    "\n",
    "# if chip order is not in dictionary, then add a new key/value pair\n",
    "# if chip order is already in dictionary, then update the value for that key\n",
    "for order in data:\n",
    "    if \"Chips\" in order[2]:\n",
    "        key = order[2]\n",
    "        value = int(order[1])\n",
    "\n",
    "        if chips.has_key(key):\n",
    "            chips[key] = chips[key] + value\n",
    "        else:\n",
    "            chips[key] = value\n",
    "    \n",
    "# defaultdict saves you the trouble of checking whether a key already exists\n",
    "\n",
    "for x in chips.items():\n",
    "    print(x)\n",
    "\n",
    "\n",
    "'''\n",
    "BONUS: Think of a question about this data that interests you, and then answer it!\n",
    "'''\n",
    "# We can figure out the best selling and least selling Chips"
   ]
  }
 ],
 "metadata": {
  "anaconda-cloud": {},
  "kernelspec": {
   "display_name": "Python [default]",
   "language": "python",
   "name": "python2"
  },
  "language_info": {
   "codemirror_mode": {
    "name": "ipython",
    "version": 2
   },
   "file_extension": ".py",
   "mimetype": "text/x-python",
   "name": "python",
   "nbconvert_exporter": "python",
   "pygments_lexer": "ipython2",
   "version": "2.7.12"
  }
 },
 "nbformat": 4,
 "nbformat_minor": 1
}
