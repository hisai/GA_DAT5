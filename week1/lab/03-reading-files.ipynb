{
 "cells": [
  {
   "cell_type": "code",
   "execution_count": 6,
   "metadata": {
    "collapsed": false
   },
   "outputs": [
    {
     "data": {
      "text/plain": [
       "['airline',\n",
       " 'avail_seat_km_per_week',\n",
       " 'incidents_85_99',\n",
       " 'fatal_accidents_85_99',\n",
       " 'fatalities_85_99',\n",
       " 'incidents_00_14',\n",
       " 'fatal_accidents_00_14',\n",
       " 'fatalities_00_14']"
      ]
     },
     "execution_count": 6,
     "metadata": {},
     "output_type": "execute_result"
    }
   ],
   "source": [
    "import csv\n",
    "with open('data/airline-safety.csv', mode='rU') as f:\n",
    "    file_nested_list = [row for row in csv.reader(f)]\n",
    "\n",
    "file_nested_list[0]\n",
    "\n",
    "header = file_nested_list[0]\n",
    "data = file_nested_list[1:]\n",
    "\n",
    "header\n",
    "#data\n",
    "\n",
    "'''\n",
    "EXERCISES:\n",
    "\n",
    "1. Create a list containing the average number of incidents per year for each airline.\n",
    "Example for Aer Lingus: (2 + 0)/30 = 0.07\n",
    "Expected output: [0.07, 2.73, 0.23, ...]\n",
    "\n",
    "2. Create a list of airline names (without the star).\n",
    "Expected output: ['Aer Lingus', 'Aeroflot', 'Aerolineas Argentinas', ...]\n",
    "\n",
    "3. Create a list (of the same length) that contains 1 if there's a star and 0 if not.\n",
    "Expected output: [0, 1, 0, ...]\n",
    "\n",
    "4. BONUS: Create a dictionary in which the key is the airline name (without the star)\n",
    "   and the value is the average number of incidents.\n",
    "Expected output: {'Aer Lingus': 0.07, 'Aeroflot': 2.73, ...}\n",
    "'''\n"
   ]
  }
 ],
 "metadata": {
  "kernelspec": {
   "display_name": "Python [conda root]",
   "language": "python",
   "name": "conda-root-py"
  },
  "language_info": {
   "codemirror_mode": {
    "name": "ipython",
    "version": 2
   },
   "file_extension": ".py",
   "mimetype": "text/x-python",
   "name": "python",
   "nbconvert_exporter": "python",
   "pygments_lexer": "ipython2",
   "version": "2.7.12"
  }
 },
 "nbformat": 4,
 "nbformat_minor": 1
}
