{
 "cells": [
  {
   "cell_type": "code",
   "execution_count": 8,
   "metadata": {
    "collapsed": false
   },
   "outputs": [
    {
     "name": "stdout",
     "output_type": "stream",
     "text": [
      "[0.07, 2.73, 0.23, 0.27, 0.13, 0.67, 0.2, 0.27, 0.33, 0.37, 0.33, 1.27, 0.07, 0.17, 0.33, 0.07, 0.47, 0.07, 0.1, 1.6, 0.4, 0.07, 1.0, 0.03, 0.47, 0.13, 0.03, 0.3, 0.1, 0.13, 0.27, 0.43, 0.1, 0.3, 0.2, 0.6, 0.3, 0.2, 0.27, 0.37, 0.6, 0.13, 0.1, 0.3, 0.2, 0.17, 0.13, 0.5, 0.0, 0.33, 0.53, 1.1, 0.9, 0.27, 0.03, 0.37]\n"
     ]
    }
   ],
   "source": [
    "import csv\n",
    "with open('data/airline-safety.csv', mode='rU') as f:\n",
    "    file_nested_list = [row for row in csv.reader(f)]\n",
    "\n",
    "file_nested_list[0]\n",
    "\n",
    "header = file_nested_list[0]\n",
    "data = file_nested_list[1:]\n",
    "\n",
    "header\n",
    "#data\n",
    "\n",
    "'''\n",
    "EXERCISES:\n",
    "\n",
    "1. Create a list containing the average number of incidents per year for each airline.\n",
    "Example for Aer Lingus: (2 + 0)/30 = 0.07\n",
    "Expected output: [0.07, 2.73, 0.23, ...]\n",
    "'''\n",
    "result = [ round((float(row[2]) + float(row[5]))/30,2) for row in data]\n",
    "print(result)\n"
   ]
  },
  {
   "cell_type": "code",
   "execution_count": 9,
   "metadata": {
    "collapsed": false
   },
   "outputs": [
    {
     "name": "stdout",
     "output_type": "stream",
     "text": [
      "['Aer Lingus', 'Aeroflot', 'Aerolineas Argentinas', 'Aeromexico', 'Air Canada', 'Air France', 'Air India', 'Air New Zealand', 'Alaska Airlines', 'Alitalia', 'All Nippon Airways', 'American', 'Austrian Airlines', 'Avianca', 'British Airways', 'Cathay Pacific', 'China Airlines', 'Condor', 'COPA', 'Delta / Northwest', 'Egyptair', 'El Al', 'Ethiopian Airlines', 'Finnair', 'Garuda Indonesia', 'Gulf Air', 'Hawaiian Airlines', 'Iberia', 'Japan Airlines', 'Kenya Airways', 'KLM', 'Korean Air', 'LAN Airlines', 'Lufthansa', 'Malaysia Airlines', 'Pakistan International', 'Philippine Airlines', 'Qantas', 'Royal Air Maroc', 'SAS', 'Saudi Arabian', 'Singapore Airlines', 'South African', 'Southwest Airlines', 'Sri Lankan / AirLanka', 'SWISS', 'TACA', 'TAM', 'TAP - Air Portugal', 'Thai Airways', 'Turkish Airlines', 'United / Continental', 'US Airways / America West', 'Vietnam Airlines', 'Virgin Atlantic', 'Xiamen Airlines']\n"
     ]
    }
   ],
   "source": [
    "'''\n",
    "2. Create a list of airline names (without the star).\n",
    "Expected output: ['Aer Lingus', 'Aeroflot', 'Aerolineas Argentinas', ...]\n",
    "\n",
    "'''\n",
    "airlines = [ row[0].replace(\"*\",\"\") for row in data]\n",
    "print(airlines)"
   ]
  },
  {
   "cell_type": "code",
   "execution_count": 10,
   "metadata": {
    "collapsed": false
   },
   "outputs": [
    {
     "name": "stdout",
     "output_type": "stream",
     "text": [
      "[0, 1, 0, 1, 0, 0, 1, 1, 1, 0, 0, 1, 0, 0, 1, 1, 0, 0, 0, 1, 0, 0, 0, 0, 0, 0, 0, 0, 0, 0, 1, 0, 0, 1, 0, 0, 0, 1, 0, 1, 0, 0, 0, 0, 0, 1, 0, 0, 0, 0, 0, 1, 1, 0, 0, 0]\n"
     ]
    }
   ],
   "source": [
    "'''\n",
    "3. Create a list (of the same length) that contains 1 if there's a star and 0 if not.\n",
    "Expected output: [0, 1, 0, ...]\n",
    "\n",
    "'''\n",
    "airlines = []\n",
    "for row in data:\n",
    "    if \"*\" in row[0]:\n",
    "        airlines.append(1)\n",
    "    else:\n",
    "        airlines.append(0)\n",
    "\n",
    "print(airlines)"
   ]
  },
  {
   "cell_type": "code",
   "execution_count": 15,
   "metadata": {
    "collapsed": false
   },
   "outputs": [
    {
     "name": "stdout",
     "output_type": "stream",
     "text": [
      "[('Aer Lingus', 0.07), ('Aeroflot', 2.73), ('Aerolineas Argentinas', 0.23), ('Aeromexico', 0.27), ('Air Canada', 0.13), ('Air France', 0.67), ('Air India', 0.2), ('Air New Zealand', 0.27), ('Alaska Airlines', 0.33), ('Alitalia', 0.37), ('All Nippon Airways', 0.33), ('American', 1.27), ('Austrian Airlines', 0.07), ('Avianca', 0.17), ('British Airways', 0.33), ('COPA', 0.1), ('Cathay Pacific', 0.07), ('China Airlines', 0.47), ('Condor', 0.07), ('Delta / Northwest', 1.6), ('Egyptair', 0.4), ('El Al', 0.07), ('Ethiopian Airlines', 1.0), ('Finnair', 0.03), ('Garuda Indonesia', 0.47), ('Gulf Air', 0.13), ('Hawaiian Airlines', 0.03), ('Iberia', 0.3), ('Japan Airlines', 0.1), ('KLM', 0.27), ('Kenya Airways', 0.13), ('Korean Air', 0.43), ('LAN Airlines', 0.1), ('Lufthansa', 0.3), ('Malaysia Airlines', 0.2), ('Pakistan International', 0.6), ('Philippine Airlines', 0.3), ('Qantas', 0.2), ('Royal Air Maroc', 0.27), ('SAS', 0.37), ('SWISS', 0.17), ('Saudi Arabian', 0.6), ('Singapore Airlines', 0.13), ('South African', 0.1), ('Southwest Airlines', 0.3), ('Sri Lankan / AirLanka', 0.2), ('TACA', 0.13), ('TAM', 0.5), ('TAP - Air Portugal', 0.0), ('Thai Airways', 0.33), ('Turkish Airlines', 0.53), ('US Airways / America West', 0.9), ('United / Continental', 1.1), ('Vietnam Airlines', 0.27), ('Virgin Atlantic', 0.03), ('Xiamen Airlines', 0.37)]\n"
     ]
    }
   ],
   "source": [
    "'''\n",
    "4. BONUS: Create a dictionary in which the key is the airline name (without the star)\n",
    "   and the value is the average number of incidents.\n",
    "Expected output: {'Aer Lingus': 0.07, 'Aeroflot': 2.73, ...}\n",
    "'''\n",
    "\n",
    "airline_dict = {}\n",
    "for row in data:\n",
    "    airline_dict[row[0].replace(\"*\",\"\")] = round((float(row[2])+float(row[5]))/30,2)\n",
    "print(sorted(airline_dict.items()))"
   ]
  }
 ],
 "metadata": {
  "kernelspec": {
   "display_name": "Python [conda root]",
   "language": "python",
   "name": "conda-root-py"
  },
  "language_info": {
   "codemirror_mode": {
    "name": "ipython",
    "version": 2
   },
   "file_extension": ".py",
   "mimetype": "text/x-python",
   "name": "python",
   "nbconvert_exporter": "python",
   "pygments_lexer": "ipython2",
   "version": "2.7.12"
  }
 },
 "nbformat": 4,
 "nbformat_minor": 1
}
