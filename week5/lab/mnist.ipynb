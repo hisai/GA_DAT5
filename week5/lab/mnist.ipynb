{
 "cells": [
  {
   "cell_type": "markdown",
   "metadata": {
    "collapsed": true
   },
   "source": [
    "# Handwritten Digit Recognition\n",
    "\n",
    "This tutorial guides you through a classic computer vision application: identify hand written digits with neural networks. \n",
    "\n",
    "## Load data\n",
    "\n",
    "We first fetch the [MNIST](http://yann.lecun.com/exdb/mnist/) dataset, which is a commonly used dataset for handwritten digit recognition. Each image in this dataset has been resized into 28x28 with grayscale value between 0 and 254. The following codes download and load the images and the according labels into `numpy`."
   ]
  },
  {
   "cell_type": "code",
   "execution_count": 1,
   "metadata": {},
   "outputs": [
    {
     "name": "stdout",
     "output_type": "stream",
     "text": [
      "[5 0 4 ..., 5 6 8]\n",
      "<class 'numpy.ndarray'>\n",
      "Image data\n",
      "28\n",
      "[0 0 0 0 0 0 0 0 0 0 0 0 0 0 0 0 0 0 0 0 0 0 0 0 0 0 0 0]\n",
      "[0 0 0 0 0 0 0 0 0 0 0 0 0 0 0 0 0 0 0 0 0 0 0 0 0 0 0 0]\n",
      "[0 0 0 0 0 0 0 0 0 0 0 0 0 0 0 0 0 0 0 0 0 0 0 0 0 0 0 0]\n",
      "[0 0 0 0 0 0 0 0 0 0 0 0 0 0 0 0 0 0 0 0 0 0 0 0 0 0 0 0]\n",
      "[0 0 0 0 0 0 0 0 0 0 0 0 0 0 0 0 0 0 0 0 0 0 0 0 0 0 0 0]\n",
      "[  0   0   0   0   0   0   0   0   0   0   0   0   3  18  18  18 126 136\n",
      " 175  26 166 255 247 127   0   0   0   0]\n",
      "[  0   0   0   0   0   0   0   0  30  36  94 154 170 253 253 253 253 253\n",
      " 225 172 253 242 195  64   0   0   0   0]\n",
      "[  0   0   0   0   0   0   0  49 238 253 253 253 253 253 253 253 253 251\n",
      "  93  82  82  56  39   0   0   0   0   0]\n",
      "[  0   0   0   0   0   0   0  18 219 253 253 253 253 253 198 182 247 241\n",
      "   0   0   0   0   0   0   0   0   0   0]\n",
      "[  0   0   0   0   0   0   0   0  80 156 107 253 253 205  11   0  43 154\n",
      "   0   0   0   0   0   0   0   0   0   0]\n",
      "[  0   0   0   0   0   0   0   0   0  14   1 154 253  90   0   0   0   0\n",
      "   0   0   0   0   0   0   0   0   0   0]\n",
      "[  0   0   0   0   0   0   0   0   0   0   0 139 253 190   2   0   0   0\n",
      "   0   0   0   0   0   0   0   0   0   0]\n",
      "[  0   0   0   0   0   0   0   0   0   0   0  11 190 253  70   0   0   0\n",
      "   0   0   0   0   0   0   0   0   0   0]\n",
      "[  0   0   0   0   0   0   0   0   0   0   0   0  35 241 225 160 108   1\n",
      "   0   0   0   0   0   0   0   0   0   0]\n",
      "[  0   0   0   0   0   0   0   0   0   0   0   0   0  81 240 253 253 119\n",
      "  25   0   0   0   0   0   0   0   0   0]\n",
      "[  0   0   0   0   0   0   0   0   0   0   0   0   0   0  45 186 253 253\n",
      " 150  27   0   0   0   0   0   0   0   0]\n",
      "[  0   0   0   0   0   0   0   0   0   0   0   0   0   0   0  16  93 252\n",
      " 253 187   0   0   0   0   0   0   0   0]\n",
      "[  0   0   0   0   0   0   0   0   0   0   0   0   0   0   0   0   0 249\n",
      " 253 249  64   0   0   0   0   0   0   0]\n",
      "[  0   0   0   0   0   0   0   0   0   0   0   0   0   0  46 130 183 253\n",
      " 253 207   2   0   0   0   0   0   0   0]\n",
      "[  0   0   0   0   0   0   0   0   0   0   0   0  39 148 229 253 253 253\n",
      " 250 182   0   0   0   0   0   0   0   0]\n",
      "[  0   0   0   0   0   0   0   0   0   0  24 114 221 253 253 253 253 201\n",
      "  78   0   0   0   0   0   0   0   0   0]\n",
      "[  0   0   0   0   0   0   0   0  23  66 213 253 253 253 253 198  81   2\n",
      "   0   0   0   0   0   0   0   0   0   0]\n",
      "[  0   0   0   0   0   0  18 171 219 253 253 253 253 195  80   9   0   0\n",
      "   0   0   0   0   0   0   0   0   0   0]\n",
      "[  0   0   0   0  55 172 226 253 253 253 253 244 133  11   0   0   0   0\n",
      "   0   0   0   0   0   0   0   0   0   0]\n",
      "[  0   0   0   0 136 253 253 253 212 135 132  16   0   0   0   0   0   0\n",
      "   0   0   0   0   0   0   0   0   0   0]\n",
      "[0 0 0 0 0 0 0 0 0 0 0 0 0 0 0 0 0 0 0 0 0 0 0 0 0 0 0 0]\n",
      "[0 0 0 0 0 0 0 0 0 0 0 0 0 0 0 0 0 0 0 0 0 0 0 0 0 0 0 0]\n",
      "[0 0 0 0 0 0 0 0 0 0 0 0 0 0 0 0 0 0 0 0 0 0 0 0 0 0 0 0]\n",
      "<class 'numpy.ndarray'>\n",
      "60000\n"
     ]
    }
   ],
   "source": [
    "import numpy as np\n",
    "import os\n",
    "import urllib\n",
    "import gzip\n",
    "import struct\n",
    "def download_data(url, force_download=False): \n",
    "    fname = url.split(\"/\")[-1]\n",
    "    #print(url, fname)\n",
    "    if force_download or not os.path.exists(fname):\n",
    "        urllib.urlretrieve(url, fname)\n",
    "        \n",
    "    return fname\n",
    "\n",
    "def read_data(label_url, image_url):\n",
    "    with gzip.open(download_data(label_url)) as flbl:\n",
    "        magic, num = struct.unpack(\">II\", flbl.read(8))\n",
    "        label = np.fromstring(flbl.read(), dtype=np.int8)\n",
    "    with gzip.open(download_data(image_url), 'rb') as fimg:\n",
    "        magic, num, rows, cols = struct.unpack(\">IIII\", fimg.read(16))\n",
    "        image = np.fromstring(fimg.read(), dtype=np.uint8).reshape(len(label), rows, cols)\n",
    "    return (label, image)\n",
    "\n",
    "path='http://yann.lecun.com/exdb/mnist/'\n",
    "(train_lbl, train_img) = read_data(\n",
    "    path+'train-labels-idx1-ubyte.gz', path+'train-images-idx3-ubyte.gz')\n",
    "(val_lbl, val_img) = read_data(\n",
    "    path+'t10k-labels-idx1-ubyte.gz', path+'t10k-images-idx3-ubyte.gz')\n",
    "print(train_lbl)\n",
    "print(type(train_lbl))\n",
    "print(\"Image data\")\n",
    "print(len(train_img[0:1][0:1][0]))\n",
    "for x in train_img[0]:\n",
    "    print(x)\n",
    "#print(train_img[0])\n",
    "print(type(train_img))\n",
    "print(len(train_img))"
   ]
  },
  {
   "cell_type": "code",
   "execution_count": 4,
   "metadata": {},
   "outputs": [
    {
     "name": "stdout",
     "output_type": "stream",
     "text": [
      "(60000, 28, 28)\n",
      "60000\n"
     ]
    }
   ],
   "source": [
    "print(train_img.shape)\n",
    "print(train_img.shape[0])"
   ]
  },
  {
   "cell_type": "code",
   "execution_count": null,
   "metadata": {},
   "outputs": [],
   "source": [
    "import matplotlib.pyplot as plt\n",
    "plt.imshow(train_img[1], cmap=\"Greys\")"
   ]
  },
  {
   "cell_type": "markdown",
   "metadata": {},
   "source": [
    "We plot the first 10 images and print their labels. "
   ]
  },
  {
   "cell_type": "code",
   "execution_count": 11,
   "metadata": {
    "scrolled": true
   },
   "outputs": [
    {
     "data": {
      "image/png": "[encoded data removed]",
      "text/plain": [
       "<matplotlib.figure.Figure at 0x12a2eeeb8>"
      ]
     },
     "metadata": {},
     "output_type": "display_data"
    },
    {
     "name": "stdout",
     "output_type": "stream",
     "text": [
      "label: [5 0 4 1 9 2 1 3 1 4]\n"
     ]
    }
   ],
   "source": [
    "%matplotlib inline\n",
    "import matplotlib.pyplot as plt\n",
    "for i in range(10):\n",
    "    plt.subplot(1,10,i+1)\n",
    "    plt.imshow(train_img[i], cmap='Greys_r')\n",
    "    plt.axis('off')\n",
    "plt.show()\n",
    "print('label: %s' % (train_lbl[0:10],))"
   ]
  },
  {
   "cell_type": "code",
   "execution_count": null,
   "metadata": {},
   "outputs": [],
   "source": [
    "import mxnet as mx\n"
   ]
  },
  {
   "cell_type": "markdown",
   "metadata": {},
   "source": [
    "Next we create data iterators for MXNet. The data iterator, which is similar the iterator, returns a batch of data in each `next()` call. A batch contains several images with its according labels. These images are stored in a 4-D matrix with shape `(batch_size, num_channels, width, height)`. For the MNIST dataset, there is only one color channel, and both width and height are 28. In addition, we often shuffle the images used for training, which accelerates the training progress."
   ]
  },
  {
   "cell_type": "code",
   "execution_count": 3,
   "metadata": {},
   "outputs": [
    {
     "name": "stdout",
     "output_type": "stream",
     "text": [
      "<mxnet.io.NDArrayIter object at 0x118e15be0>\n"
     ]
    }
   ],
   "source": [
    "\n",
    "import mxnet as mx\n",
    "\n",
    "def to4d(img):\n",
    "    return img.reshape(img.shape[0], 1, 28, 28).astype(np.float32)/255\n",
    "\n",
    "batch_size = 100\n",
    "train_iter = mx.io.NDArrayIter(to4d(train_img), train_lbl, batch_size, shuffle=True)\n",
    "val_iter = mx.io.NDArrayIter(to4d(val_img), val_lbl, batch_size)\n",
    "print(train_iter)\n"
   ]
  },
  {
   "cell_type": "markdown",
   "metadata": {},
   "source": [
    "## Multilayer Perceptron\n",
    "\n",
    "A multilayer perceptron contains several fully-connected layers. A fully-connected layer, with an *n x m* input matrix *X* outputs a matrix *Y* with size *n x k*, where *k* is often called as the hidden size. This layer has two parameters, the *m x k* weight matrix *W* and the *m x 1* bias vector *b*. It compute the outputs with\n",
    "\n",
    "$$Y = W X + b.$$\n",
    "\n",
    "The output of a fully-connected layer is often feed into an activation layer, which performs element-wise operations. Two common options are the sigmoid function, or the rectifier (or \"relu\") function, which outputs the max of 0 and the input.\n",
    "\n",
    "The last fully-connected layer often has the hidden size equals to the number of classes in the dataset. Then we stack a softmax layer, which map the input into a probability score. Again assume the input *X* has size *n x m*:\n",
    "\n",
    "$$ \\left[\\frac{\\exp(x_{i1})}{\\sum_{j=1}^m \\exp(x_{ij})},\\ldots, \\frac{\\exp(x_{im})}{\\sum_{j=1}^m \\exp(x_{ij})}\\right] $$\n",
    "\n",
    "Defining the multilayer perceptron in MXNet is straightforward, which has shown as following."
   ]
  },
  {
   "cell_type": "code",
   "execution_count": 6,
   "metadata": {},
   "outputs": [
    {
     "name": "stdout",
     "output_type": "stream",
     "text": [
      "<class 'mxnet.symbol.Symbol'>\n"
     ]
    },
    {
     "data": {
      "image/svg+xml": [
       "<?xml version=\"1.0\" encoding=\"UTF-8\" standalone=\"no\"?>\n",
       "<!DOCTYPE svg PUBLIC \"-//W3C//DTD SVG 1.1//EN\"\n",
       " \"http://www.w3.org/Graphics/SVG/1.1/DTD/svg11.dtd\">\n",
       "<!-- Generated by graphviz version 2.38.0 (20140413.2041)\n",
       " -->\n",
       "<!-- Title: plot Pages: 1 -->\n",
       "<svg width=\"214pt\" height=\"822pt\"\n",
       " viewBox=\"0.00 0.00 214.00 822.00\" xmlns=\"http://www.w3.org/2000/svg\" xmlns:xlink=\"http://www.w3.org/1999/xlink\">\n",
       "<g id=\"graph0\" class=\"graph\" transform=\"scale(1 1) rotate(0) translate(4 818)\">\n",
       "<title>plot</title>\n",
       "<polygon fill=\"white\" stroke=\"none\" points=\"-4,4 -4,-818 210,-818 210,4 -4,4\"/>\n",
       "<!-- data -->\n",
       "<g id=\"node1\" class=\"node\"><title>data</title>\n",
       "<ellipse fill=\"#8dd3c7\" stroke=\"black\" cx=\"47\" cy=\"-29\" rx=\"47\" ry=\"29\"/>\n",
       "<text text-anchor=\"middle\" x=\"47\" y=\"-24.8\" font-family=\"Times,serif\" font-size=\"14.00\">data</text>\n",
       "</g>\n",
       "<!-- flatten1 -->\n",
       "<g id=\"node2\" class=\"node\"><title>flatten1</title>\n",
       "<polygon fill=\"#fdb462\" stroke=\"black\" points=\"94,-166 -7.10543e-15,-166 -7.10543e-15,-108 94,-108 94,-166\"/>\n",
       "<text text-anchor=\"middle\" x=\"47\" y=\"-132.8\" font-family=\"Times,serif\" font-size=\"14.00\">flatten1</text>\n",
       "</g>\n",
       "<!-- flatten1&#45;&gt;data -->\n",
       "<g id=\"edge1\" class=\"edge\"><title>flatten1&#45;&gt;data</title>\n",
       "<path fill=\"none\" stroke=\"black\" d=\"M47,-97.7568C47,-84.7134 47,-70.3744 47,-58.2592\"/>\n",
       "<polygon fill=\"black\" stroke=\"black\" points=\"47,-107.872 42.5001,-97.8722 47,-102.872 47.0001,-97.8722 47.0001,-97.8722 47.0001,-97.8722 47,-102.872 51.5001,-97.8723 47,-107.872 47,-107.872\"/>\n",
       "<text text-anchor=\"middle\" x=\"71.5\" y=\"-78.8\" font-family=\"Times,serif\" font-size=\"14.00\">1x28x28</text>\n",
       "</g>\n",
       "<!-- fc1 -->\n",
       "<g id=\"node3\" class=\"node\"><title>fc1</title>\n",
       "<polygon fill=\"#fb8072\" stroke=\"black\" points=\"94,-274 -7.10543e-15,-274 -7.10543e-15,-216 94,-216 94,-274\"/>\n",
       "<text text-anchor=\"middle\" x=\"47\" y=\"-247.8\" font-family=\"Times,serif\" font-size=\"14.00\">FullyConnected</text>\n",
       "<text text-anchor=\"middle\" x=\"47\" y=\"-233.8\" font-family=\"Times,serif\" font-size=\"14.00\">128</text>\n",
       "</g>\n",
       "<!-- fc1&#45;&gt;flatten1 -->\n",
       "<g id=\"edge2\" class=\"edge\"><title>fc1&#45;&gt;flatten1</title>\n",
       "<path fill=\"none\" stroke=\"black\" d=\"M47,-205.757C47,-192.713 47,-178.374 47,-166.259\"/>\n",
       "<polygon fill=\"black\" stroke=\"black\" points=\"47,-215.872 42.5001,-205.872 47,-210.872 47.0001,-205.872 47.0001,-205.872 47.0001,-205.872 47,-210.872 51.5001,-205.872 47,-215.872 47,-215.872\"/>\n",
       "<text text-anchor=\"middle\" x=\"57.5\" y=\"-186.8\" font-family=\"Times,serif\" font-size=\"14.00\">784</text>\n",
       "</g>\n",
       "<!-- relu1 -->\n",
       "<g id=\"node4\" class=\"node\"><title>relu1</title>\n",
       "<polygon fill=\"#ffffb3\" stroke=\"black\" points=\"94,-382 -7.10543e-15,-382 -7.10543e-15,-324 94,-324 94,-382\"/>\n",
       "<text text-anchor=\"middle\" x=\"47\" y=\"-355.8\" font-family=\"Times,serif\" font-size=\"14.00\">Activation</text>\n",
       "<text text-anchor=\"middle\" x=\"47\" y=\"-341.8\" font-family=\"Times,serif\" font-size=\"14.00\">relu</text>\n",
       "</g>\n",
       "<!-- relu1&#45;&gt;fc1 -->\n",
       "<g id=\"edge3\" class=\"edge\"><title>relu1&#45;&gt;fc1</title>\n",
       "<path fill=\"none\" stroke=\"black\" d=\"M47,-313.757C47,-300.713 47,-286.374 47,-274.259\"/>\n",
       "<polygon fill=\"black\" stroke=\"black\" points=\"47,-323.872 42.5001,-313.872 47,-318.872 47.0001,-313.872 47.0001,-313.872 47.0001,-313.872 47,-318.872 51.5001,-313.872 47,-323.872 47,-323.872\"/>\n",
       "<text text-anchor=\"middle\" x=\"57.5\" y=\"-294.8\" font-family=\"Times,serif\" font-size=\"14.00\">128</text>\n",
       "</g>\n",
       "<!-- fc2 -->\n",
       "<g id=\"node5\" class=\"node\"><title>fc2</title>\n",
       "<polygon fill=\"#fb8072\" stroke=\"black\" points=\"94,-490 -7.10543e-15,-490 -7.10543e-15,-432 94,-432 94,-490\"/>\n",
       "<text text-anchor=\"middle\" x=\"47\" y=\"-463.8\" font-family=\"Times,serif\" font-size=\"14.00\">FullyConnected</text>\n",
       "<text text-anchor=\"middle\" x=\"47\" y=\"-449.8\" font-family=\"Times,serif\" font-size=\"14.00\">64</text>\n",
       "</g>\n",
       "<!-- fc2&#45;&gt;relu1 -->\n",
       "<g id=\"edge4\" class=\"edge\"><title>fc2&#45;&gt;relu1</title>\n",
       "<path fill=\"none\" stroke=\"black\" d=\"M47,-421.757C47,-408.713 47,-394.374 47,-382.259\"/>\n",
       "<polygon fill=\"black\" stroke=\"black\" points=\"47,-431.872 42.5001,-421.872 47,-426.872 47.0001,-421.872 47.0001,-421.872 47.0001,-421.872 47,-426.872 51.5001,-421.872 47,-431.872 47,-431.872\"/>\n",
       "<text text-anchor=\"middle\" x=\"57.5\" y=\"-402.8\" font-family=\"Times,serif\" font-size=\"14.00\">128</text>\n",
       "</g>\n",
       "<!-- relu2 -->\n",
       "<g id=\"node6\" class=\"node\"><title>relu2</title>\n",
       "<polygon fill=\"#ffffb3\" stroke=\"black\" points=\"94,-598 -7.10543e-15,-598 -7.10543e-15,-540 94,-540 94,-598\"/>\n",
       "<text text-anchor=\"middle\" x=\"47\" y=\"-571.8\" font-family=\"Times,serif\" font-size=\"14.00\">Activation</text>\n",
       "<text text-anchor=\"middle\" x=\"47\" y=\"-557.8\" font-family=\"Times,serif\" font-size=\"14.00\">relu</text>\n",
       "</g>\n",
       "<!-- relu2&#45;&gt;fc2 -->\n",
       "<g id=\"edge5\" class=\"edge\"><title>relu2&#45;&gt;fc2</title>\n",
       "<path fill=\"none\" stroke=\"black\" d=\"M47,-529.757C47,-516.713 47,-502.374 47,-490.259\"/>\n",
       "<polygon fill=\"black\" stroke=\"black\" points=\"47,-539.872 42.5001,-529.872 47,-534.872 47.0001,-529.872 47.0001,-529.872 47.0001,-529.872 47,-534.872 51.5001,-529.872 47,-539.872 47,-539.872\"/>\n",
       "<text text-anchor=\"middle\" x=\"54\" y=\"-510.8\" font-family=\"Times,serif\" font-size=\"14.00\">64</text>\n",
       "</g>\n",
       "<!-- fc3 -->\n",
       "<g id=\"node7\" class=\"node\"><title>fc3</title>\n",
       "<polygon fill=\"#fb8072\" stroke=\"black\" points=\"94,-706 -7.10543e-15,-706 -7.10543e-15,-648 94,-648 94,-706\"/>\n",
       "<text text-anchor=\"middle\" x=\"47\" y=\"-679.8\" font-family=\"Times,serif\" font-size=\"14.00\">FullyConnected</text>\n",
       "<text text-anchor=\"middle\" x=\"47\" y=\"-665.8\" font-family=\"Times,serif\" font-size=\"14.00\">10</text>\n",
       "</g>\n",
       "<!-- fc3&#45;&gt;relu2 -->\n",
       "<g id=\"edge6\" class=\"edge\"><title>fc3&#45;&gt;relu2</title>\n",
       "<path fill=\"none\" stroke=\"black\" d=\"M47,-637.757C47,-624.713 47,-610.374 47,-598.259\"/>\n",
       "<polygon fill=\"black\" stroke=\"black\" points=\"47,-647.872 42.5001,-637.872 47,-642.872 47.0001,-637.872 47.0001,-637.872 47.0001,-637.872 47,-642.872 51.5001,-637.872 47,-647.872 47,-647.872\"/>\n",
       "<text text-anchor=\"middle\" x=\"54\" y=\"-618.8\" font-family=\"Times,serif\" font-size=\"14.00\">64</text>\n",
       "</g>\n",
       "<!-- softmax_label -->\n",
       "<g id=\"node8\" class=\"node\"><title>softmax_label</title>\n",
       "<ellipse fill=\"#8dd3c7\" stroke=\"black\" cx=\"159\" cy=\"-677\" rx=\"47\" ry=\"29\"/>\n",
       "<text text-anchor=\"middle\" x=\"159\" y=\"-672.8\" font-family=\"Times,serif\" font-size=\"14.00\">softmax_label</text>\n",
       "</g>\n",
       "<!-- softmax -->\n",
       "<g id=\"node9\" class=\"node\"><title>softmax</title>\n",
       "<polygon fill=\"#fccde5\" stroke=\"black\" points=\"170,-814 76,-814 76,-756 170,-756 170,-814\"/>\n",
       "<text text-anchor=\"middle\" x=\"123\" y=\"-780.8\" font-family=\"Times,serif\" font-size=\"14.00\">softmax</text>\n",
       "</g>\n",
       "<!-- softmax&#45;&gt;fc3 -->\n",
       "<g id=\"edge7\" class=\"edge\"><title>softmax&#45;&gt;fc3</title>\n",
       "<path fill=\"none\" stroke=\"black\" d=\"M96.9621,-747.684C87.2503,-734.139 76.3777,-718.974 67.2613,-706.259\"/>\n",
       "<polygon fill=\"black\" stroke=\"black\" points=\"102.833,-755.872 93.3489,-750.367 99.9195,-751.809 97.006,-747.745 97.006,-747.745 97.006,-747.745 99.9195,-751.809 100.663,-745.123 102.833,-755.872 102.833,-755.872\"/>\n",
       "<text text-anchor=\"middle\" x=\"97\" y=\"-726.8\" font-family=\"Times,serif\" font-size=\"14.00\">10</text>\n",
       "</g>\n",
       "<!-- softmax&#45;&gt;softmax_label -->\n",
       "<g id=\"edge8\" class=\"edge\"><title>softmax&#45;&gt;softmax_label</title>\n",
       "<path fill=\"none\" stroke=\"black\" d=\"M135.778,-746.376C140.353,-732.905 145.421,-717.983 149.652,-705.525\"/>\n",
       "<polygon fill=\"black\" stroke=\"black\" points=\"132.553,-755.872 131.508,-744.956 134.161,-751.138 135.769,-746.403 135.769,-746.403 135.769,-746.403 134.161,-751.138 140.03,-747.851 132.553,-755.872 132.553,-755.872\"/>\n",
       "</g>\n",
       "</g>\n",
       "</svg>\n"
      ],
      "text/plain": [
       "<graphviz.dot.Digraph at 0x12a3091d0>"
      ]
     },
     "execution_count": 6,
     "metadata": {},
     "output_type": "execute_result"
    }
   ],
   "source": [
    "# Create a place holder variable for the input data\n",
    "data = mx.sym.Variable('data')\n",
    "# Flatten the data from 4-D shape (batch_size, num_channel, width, height) \n",
    "# into 2-D (batch_size, num_channel*width*height)\n",
    "data = mx.sym.Flatten(data=data)\n",
    "print(type(data))\n",
    "# The first fully-connected layer\n",
    "fc1  = mx.sym.FullyConnected(data=data, name='fc1', num_hidden=128)\n",
    "# Apply relu to the output of the first fully-connnected layer\n",
    "act1 = mx.sym.Activation(data=fc1, name='relu1', act_type=\"relu\")\n",
    "\n",
    "# The second fully-connected layer and the according activation function\n",
    "fc2  = mx.sym.FullyConnected(data=act1, name='fc2', num_hidden = 64)\n",
    "act2 = mx.sym.Activation(data=fc2, name='relu2', act_type=\"relu\")\n",
    "\n",
    "# The thrid fully-connected layer, note that the hidden size should be 10, which is the number of unique digits\n",
    "fc3  = mx.sym.FullyConnected(data=act2, name='fc3', num_hidden=10)\n",
    "# The softmax and loss layer\n",
    "mlp  = mx.sym.SoftmaxOutput(data=fc3, name='softmax')\n",
    "\n",
    "# We visualize the network structure with output size (the batch_size is ignored.)\n",
    "shape = {\"data\" : (batch_size, 1, 28, 28)}\n",
    "mx.viz.plot_network(symbol=mlp, shape=shape)"
   ]
  },
  {
   "cell_type": "markdown",
   "metadata": {},
   "source": [
    "Now both the network definition and data iterators are ready. We can start training. "
   ]
  },
  {
   "cell_type": "code",
   "execution_count": 9,
   "metadata": {},
   "outputs": [
    {
     "name": "stderr",
     "output_type": "stream",
     "text": [
      "/Users/sai/anaconda/envs/python35/lib/python3.5/site-packages/ipykernel_launcher.py:9: DeprecationWarning: \u001b[91mmxnet.model.FeedForward has been deprecated. Please use mxnet.mod.Module instead.\u001b[0m\n",
      "  if __name__ == '__main__':\n",
      "/Users/sai/anaconda/envs/python35/lib/python3.5/site-packages/mxnet/model.py:547: DeprecationWarning: \u001b[91mCalling initializer with init(str, NDArray) has been deprecated.please use init(mx.init.InitDesc(...), NDArray) instead.\u001b[0m\n",
      "  self.initializer(k, v)\n",
      "INFO:root:Start training with [cpu(0)]\n",
      "INFO:root:Epoch[0] Batch [200]\tSpeed: 60039.14 samples/sec\taccuracy=0.111100\n",
      "INFO:root:Epoch[0] Batch [400]\tSpeed: 71764.12 samples/sec\taccuracy=0.111500\n",
      "INFO:root:Epoch[0] Batch [600]\tSpeed: 70313.12 samples/sec\taccuracy=0.164150\n",
      "INFO:root:Epoch[0] Resetting Data Iterator\n",
      "INFO:root:Epoch[0] Time cost=0.901\n",
      "INFO:root:Epoch[0] Validation-accuracy=0.296400\n",
      "INFO:root:Epoch[1] Batch [200]\tSpeed: 71136.92 samples/sec\taccuracy=0.641800\n",
      "INFO:root:Epoch[1] Batch [400]\tSpeed: 74123.50 samples/sec\taccuracy=0.802000\n",
      "INFO:root:Epoch[1] Batch [600]\tSpeed: 72460.57 samples/sec\taccuracy=0.845050\n",
      "INFO:root:Epoch[1] Resetting Data Iterator\n",
      "INFO:root:Epoch[1] Time cost=0.832\n",
      "INFO:root:Epoch[1] Validation-accuracy=0.852800\n",
      "INFO:root:Epoch[2] Batch [200]\tSpeed: 63134.47 samples/sec\taccuracy=0.877150\n",
      "INFO:root:Epoch[2] Batch [400]\tSpeed: 36062.41 samples/sec\taccuracy=0.896750\n",
      "INFO:root:Epoch[2] Batch [600]\tSpeed: 62874.30 samples/sec\taccuracy=0.910950\n",
      "INFO:root:Epoch[2] Resetting Data Iterator\n",
      "INFO:root:Epoch[2] Time cost=1.197\n",
      "INFO:root:Epoch[2] Validation-accuracy=0.920000\n",
      "INFO:root:Epoch[3] Batch [200]\tSpeed: 52314.53 samples/sec\taccuracy=0.922300\n",
      "INFO:root:Epoch[3] Batch [400]\tSpeed: 39532.71 samples/sec\taccuracy=0.930350\n",
      "INFO:root:Epoch[3] Batch [600]\tSpeed: 74087.75 samples/sec\taccuracy=0.936650\n",
      "INFO:root:Epoch[3] Resetting Data Iterator\n",
      "INFO:root:Epoch[3] Time cost=1.166\n",
      "INFO:root:Epoch[3] Validation-accuracy=0.943500\n",
      "INFO:root:Epoch[4] Batch [200]\tSpeed: 72037.00 samples/sec\taccuracy=0.942200\n",
      "INFO:root:Epoch[4] Batch [400]\tSpeed: 73090.03 samples/sec\taccuracy=0.947850\n",
      "INFO:root:Epoch[4] Batch [600]\tSpeed: 79516.19 samples/sec\taccuracy=0.951050\n",
      "INFO:root:Epoch[4] Resetting Data Iterator\n",
      "INFO:root:Epoch[4] Time cost=0.809\n",
      "INFO:root:Epoch[4] Validation-accuracy=0.953000\n",
      "INFO:root:Epoch[5] Batch [200]\tSpeed: 44944.81 samples/sec\taccuracy=0.953400\n",
      "INFO:root:Epoch[5] Batch [400]\tSpeed: 80293.20 samples/sec\taccuracy=0.956750\n",
      "INFO:root:Epoch[5] Batch [600]\tSpeed: 71428.82 samples/sec\taccuracy=0.960450\n",
      "INFO:root:Epoch[5] Resetting Data Iterator\n",
      "INFO:root:Epoch[5] Time cost=0.980\n",
      "INFO:root:Epoch[5] Validation-accuracy=0.958200\n",
      "INFO:root:Epoch[6] Batch [200]\tSpeed: 77792.88 samples/sec\taccuracy=0.962350\n",
      "INFO:root:Epoch[6] Batch [400]\tSpeed: 79763.28 samples/sec\taccuracy=0.963500\n",
      "INFO:root:Epoch[6] Batch [600]\tSpeed: 78755.11 samples/sec\taccuracy=0.966900\n",
      "INFO:root:Epoch[6] Resetting Data Iterator\n",
      "INFO:root:Epoch[6] Time cost=0.767\n",
      "INFO:root:Epoch[6] Validation-accuracy=0.963000\n",
      "INFO:root:Epoch[7] Batch [200]\tSpeed: 76958.58 samples/sec\taccuracy=0.968200\n",
      "INFO:root:Epoch[7] Batch [400]\tSpeed: 78423.71 samples/sec\taccuracy=0.968550\n",
      "INFO:root:Epoch[7] Batch [600]\tSpeed: 78452.32 samples/sec\taccuracy=0.970650\n",
      "INFO:root:Epoch[7] Resetting Data Iterator\n",
      "INFO:root:Epoch[7] Time cost=0.780\n",
      "INFO:root:Epoch[7] Validation-accuracy=0.965700\n",
      "INFO:root:Epoch[8] Batch [200]\tSpeed: 78687.51 samples/sec\taccuracy=0.972800\n",
      "INFO:root:Epoch[8] Batch [400]\tSpeed: 69045.28 samples/sec\taccuracy=0.972350\n",
      "INFO:root:Epoch[8] Batch [600]\tSpeed: 37595.48 samples/sec\taccuracy=0.974400\n",
      "INFO:root:Epoch[8] Resetting Data Iterator\n",
      "INFO:root:Epoch[8] Time cost=1.084\n",
      "INFO:root:Epoch[8] Validation-accuracy=0.967700\n",
      "INFO:root:Epoch[9] Batch [200]\tSpeed: 76590.81 samples/sec\taccuracy=0.976350\n",
      "INFO:root:Epoch[9] Batch [400]\tSpeed: 68781.24 samples/sec\taccuracy=0.976150\n",
      "INFO:root:Epoch[9] Batch [600]\tSpeed: 65770.00 samples/sec\taccuracy=0.978550\n",
      "INFO:root:Epoch[9] Resetting Data Iterator\n",
      "INFO:root:Epoch[9] Time cost=0.862\n",
      "INFO:root:Epoch[9] Validation-accuracy=0.968900\n"
     ]
    }
   ],
   "source": [
    "# @@@ AUTOTEST_OUTPUT_IGNORED_CELL\n",
    "import logging\n",
    "logging.getLogger().setLevel(logging.DEBUG)\n",
    "\n",
    "model = mx.model.FeedForward(\n",
    "#model = mx.model.Module(\n",
    "    symbol = mlp,       # network structure\n",
    "    num_epoch = 10,     # number of data passes for training \n",
    "    learning_rate = 0.1 # learning rate of SGD \n",
    ")\n",
    "model.fit(\n",
    "    X=train_iter,       # training data\n",
    "    eval_data=val_iter, # validation data\n",
    "    batch_end_callback = mx.callback.Speedometer(batch_size, 200) # output progress for each 200 data batches\n",
    ")"
   ]
  },
  {
   "cell_type": "markdown",
   "metadata": {
    "collapsed": true
   },
   "source": [
    "After training is done, we can predict a single image. "
   ]
  },
  {
   "cell_type": "code",
   "execution_count": 20,
   "metadata": {},
   "outputs": [
    {
     "data": {
      "image/png": "[encoded data removed]",
      "text/plain": [
       "<matplotlib.figure.Figure at 0x1197fd5c0>"
      ]
     },
     "metadata": {},
     "output_type": "display_data"
    },
    {
     "name": "stdout",
     "output_type": "stream",
     "text": [
      "Classified as 7 with probability 0.999897\n",
      "[  1.38351473e-08   4.50559234e-09   3.68898727e-05   4.07818843e-05\n",
      "   1.57646354e-10   7.75999975e-09   7.35040369e-15   9.99897480e-01\n",
      "   4.68094839e-07   2.43327067e-05]\n"
     ]
    }
   ],
   "source": [
    "# @@@ AUTOTEST_OUTPUT_IGNORED_CELL\n",
    "plt.imshow(val_img[0], cmap='Greys_r')\n",
    "plt.axis('off')\n",
    "plt.show()\n",
    "prob = model.predict(val_img[0:1].astype(np.float32)/255)[0]\n",
    "assert max(prob) > 0.99, \"Low prediction accuracy.\"\n",
    "print(\"Classified as %d with probability %f\" %(prob.argmax(), max(prob)))\n",
    "print(prob)"
   ]
  },
  {
   "cell_type": "markdown",
   "metadata": {},
   "source": [
    "We can also evaluate the accuracy given a data iterator. "
   ]
  },
  {
   "cell_type": "code",
   "execution_count": 21,
   "metadata": {},
   "outputs": [
    {
     "name": "stdout",
     "output_type": "stream",
     "text": [
      "Validation accuracy: 96.890000%\n"
     ]
    }
   ],
   "source": [
    "# @@@ AUTOTEST_OUTPUT_IGNORED_CELL\n",
    "valid_acc = model.score(val_iter)\n",
    "print('Validation accuracy: %f%%' % (valid_acc *100,))\n",
    "assert valid_acc > 0.95, \"Low validation accuracy.\""
   ]
  },
  {
   "cell_type": "markdown",
   "metadata": {},
   "source": [
    "Even more, we can recognizes the digit written on the below box. "
   ]
  },
  {
   "cell_type": "code",
   "execution_count": 22,
   "metadata": {},
   "outputs": [
    {
     "data": {
      "text/html": [
       "\n",
       "<style type=\"text/css\">\n",
       "  canvas { border: 1px solid black; }\n",
       "</style>\n",
       "\n",
       "<div id=\"board\">\n",
       "\n",
       "  <canvas id=\"myCanvas\" width=\"100px\" height=\"100px\">\n",
       "    Sorry, your browser doesn't support canvas technology.\n",
       "  </canvas>\n",
       "\n",
       "  <p>\n",
       "\n",
       "    <button id=\"classify\" onclick=\"classify()\">\n",
       "      Classify\n",
       "    </button>\n",
       "\n",
       "    <button id=\"clear\" onclick=\"myClear()\">\n",
       "      Clear\n",
       "    </button>\n",
       "    Result: \n",
       "    <input type=\"text\" id=\"result_output\" size=\"5\" value=\"\">\n",
       "\n",
       "  </p>\n",
       "\n",
       "</div>\n",
       "\n",
       "<script type = \"text/JavaScript\" src = \"https://ajax.googleapis.com/ajax/libs/jquery/1.4.2/jquery.min.js?ver=1.4.2\" > </script>\n",
       "\n",
       "<script type = \"text/javascript\" >\n",
       "\n",
       "    function init() {\n",
       "        var myCanvas = document.getElementById(\"myCanvas\");\n",
       "        var curColor = $('#selectColor option:selected').val();\n",
       "        if (myCanvas) {\n",
       "            var isDown = false;\n",
       "            var ctx = myCanvas.getContext(\"2d\");\n",
       "            var canvasX, canvasY;\n",
       "            ctx.lineWidth = 8;\n",
       "            $(myCanvas).mousedown(function(e) {\n",
       "                isDown = true;\n",
       "                ctx.beginPath();\n",
       "                var parentOffset = $(this).parent().offset();\n",
       "                canvasX = e.pageX - parentOffset.left;\n",
       "                canvasY = e.pageY - parentOffset.top;\n",
       "                ctx.moveTo(canvasX, canvasY);\n",
       "            }).mousemove(function(e) {\n",
       "                if (isDown != false) {\n",
       "                    var parentOffset = $(this).parent().offset();\n",
       "                    canvasX = e.pageX - parentOffset.left;\n",
       "                    canvasY = e.pageY - parentOffset.top;\n",
       "                    ctx.lineTo(canvasX, canvasY);\n",
       "                    ctx.strokeStyle = curColor;\n",
       "                    ctx.stroke();\n",
       "                }\n",
       "            }).mouseup(function(e) {\n",
       "                isDown = false;\n",
       "                ctx.closePath();\n",
       "            });\n",
       "        }\n",
       "        $('#selectColor').change(function() {\n",
       "            curColor = $('#selectColor option:selected').val();\n",
       "        });\n",
       "    }\n",
       "init();\n",
       "\n",
       "function handle_output(out) {\n",
       "    document.getElementById(\"result_output\").value = out.content.data[\"text/plain\"];\n",
       "}\n",
       "\n",
       "function classify() {\n",
       "    var kernel = IPython.notebook.kernel;\n",
       "    var myCanvas = document.getElementById(\"myCanvas\");\n",
       "    data = myCanvas.toDataURL('image/png');\n",
       "    document.getElementById(\"result_output\").value = \"\";\n",
       "    kernel.execute(\"classify('\" + data + \"')\", {\n",
       "        'iopub': {\n",
       "            'output': handle_output\n",
       "        }\n",
       "    }, {\n",
       "        silent: false\n",
       "    });\n",
       "}\n",
       "\n",
       "function myClear() {\n",
       "    var myCanvas = document.getElementById(\"myCanvas\");\n",
       "    myCanvas.getContext(\"2d\").clearRect(0, 0, myCanvas.width, myCanvas.height);\n",
       "}\n",
       "\n",
       "\n",
       "</script>\n"
      ],
      "text/plain": [
       "<IPython.core.display.HTML object>"
      ]
     },
     "execution_count": 22,
     "metadata": {},
     "output_type": "execute_result"
    }
   ],
   "source": [
    "from IPython.display import HTML\n",
    "import cv2\n",
    "import numpy as np\n",
    "\n",
    "def classify(img):\n",
    "    img = img[len('data:image/png;base64,'):].decode('base64')\n",
    "    img = cv2.imdecode(np.fromstring(img, np.uint8), -1)\n",
    "    img = cv2.resize(img[:,:,3], (28,28))\n",
    "    img = img.astype(np.float32).reshape((1,1,28,28))/255.0\n",
    "    return model.predict(img)[0].argmax()\n",
    "\n",
    "'''\n",
    "To see the model in action, run the demo notebook at\n",
    "https://github.com/dmlc/mxnet-notebooks/blob/master/python/tutorials/mnist.ipynb.\n",
    "'''\n",
    "HTML(filename=\"mnist_demo.html\")"
   ]
  },
  {
   "cell_type": "markdown",
   "metadata": {},
   "source": [
    "## Convolutional Neural Networks\n",
    "\n",
    "Note that the previous fully-connected layer simply reshapes the image into a vector during training. It ignores the spatial information that pixels are correlated on both horizontal and vertical dimensions. The convolutional layer aims to improve this drawback by using a more structural weight $W$. Instead of simply matrix-matrix multiplication, it uses 2-D convolution to obtain the output. "
   ]
  },
  {
   "cell_type": "markdown",
   "metadata": {},
   "source": [
    "<img src=\"https://thatindiandude.github.io/images/conv.png\" style=\"height: 75%; width: 75%;\">"
   ]
  },
  {
   "cell_type": "markdown",
   "metadata": {},
   "source": [
    "We can also have multiple feature maps, each with their own weight matrices, to capture different features: \n",
    "<img src=\"https://thatindiandude.github.io/images/filters.png\" style=\"height: 75%; width: 75%;\">"
   ]
  },
  {
   "cell_type": "markdown",
   "metadata": {},
   "source": [
    "Besides the convolutional layer, another major change of the convolutional neural network is the adding of pooling layers. A pooling layer reduce a $n\\times m$ (often called kernal size) image patch into a single value to make the network less sensitive to the spatial location.\n",
    "\n",
    "<img src=\"https://thatindiandude.github.io/images/pooling.png\" style=\"height: 75%; width: 75%;\">"
   ]
  },
  {
   "cell_type": "code",
   "execution_count": 23,
   "metadata": {},
   "outputs": [
    {
     "data": {
      "image/svg+xml": [
       "<?xml version=\"1.0\" encoding=\"UTF-8\" standalone=\"no\"?>\n",
       "<!DOCTYPE svg PUBLIC \"-//W3C//DTD SVG 1.1//EN\"\n",
       " \"http://www.w3.org/Graphics/SVG/1.1/DTD/svg11.dtd\">\n",
       "<!-- Generated by graphviz version 2.38.0 (20140413.2041)\n",
       " -->\n",
       "<!-- Title: plot Pages: 1 -->\n",
       "<svg width=\"214pt\" height=\"1254pt\"\n",
       " viewBox=\"0.00 0.00 214.00 1254.00\" xmlns=\"http://www.w3.org/2000/svg\" xmlns:xlink=\"http://www.w3.org/1999/xlink\">\n",
       "<g id=\"graph0\" class=\"graph\" transform=\"scale(1 1) rotate(0) translate(4 1250)\">\n",
       "<title>plot</title>\n",
       "<polygon fill=\"white\" stroke=\"none\" points=\"-4,4 -4,-1250 210,-1250 210,4 -4,4\"/>\n",
       "<!-- data -->\n",
       "<g id=\"node1\" class=\"node\"><title>data</title>\n",
       "<ellipse fill=\"#8dd3c7\" stroke=\"black\" cx=\"47\" cy=\"-29\" rx=\"47\" ry=\"29\"/>\n",
       "<text text-anchor=\"middle\" x=\"47\" y=\"-24.8\" font-family=\"Times,serif\" font-size=\"14.00\">data</text>\n",
       "</g>\n",
       "<!-- convolution0 -->\n",
       "<g id=\"node2\" class=\"node\"><title>convolution0</title>\n",
       "<polygon fill=\"#fb8072\" stroke=\"black\" points=\"94,-166 -7.10543e-15,-166 -7.10543e-15,-108 94,-108 94,-166\"/>\n",
       "<text text-anchor=\"middle\" x=\"47\" y=\"-139.8\" font-family=\"Times,serif\" font-size=\"14.00\">Convolution</text>\n",
       "<text text-anchor=\"middle\" x=\"47\" y=\"-125.8\" font-family=\"Times,serif\" font-size=\"14.00\">5x5/1, 20</text>\n",
       "</g>\n",
       "<!-- convolution0&#45;&gt;data -->\n",
       "<g id=\"edge1\" class=\"edge\"><title>convolution0&#45;&gt;data</title>\n",
       "<path fill=\"none\" stroke=\"black\" d=\"M47,-97.7568C47,-84.7134 47,-70.3744 47,-58.2592\"/>\n",
       "<polygon fill=\"black\" stroke=\"black\" points=\"47,-107.872 42.5001,-97.8722 47,-102.872 47.0001,-97.8722 47.0001,-97.8722 47.0001,-97.8722 47,-102.872 51.5001,-97.8723 47,-107.872 47,-107.872\"/>\n",
       "<text text-anchor=\"middle\" x=\"71.5\" y=\"-78.8\" font-family=\"Times,serif\" font-size=\"14.00\">1x28x28</text>\n",
       "</g>\n",
       "<!-- activation0 -->\n",
       "<g id=\"node3\" class=\"node\"><title>activation0</title>\n",
       "<polygon fill=\"#ffffb3\" stroke=\"black\" points=\"94,-274 -7.10543e-15,-274 -7.10543e-15,-216 94,-216 94,-274\"/>\n",
       "<text text-anchor=\"middle\" x=\"47\" y=\"-247.8\" font-family=\"Times,serif\" font-size=\"14.00\">Activation</text>\n",
       "<text text-anchor=\"middle\" x=\"47\" y=\"-233.8\" font-family=\"Times,serif\" font-size=\"14.00\">tanh</text>\n",
       "</g>\n",
       "<!-- activation0&#45;&gt;convolution0 -->\n",
       "<g id=\"edge2\" class=\"edge\"><title>activation0&#45;&gt;convolution0</title>\n",
       "<path fill=\"none\" stroke=\"black\" d=\"M47,-205.757C47,-192.713 47,-178.374 47,-166.259\"/>\n",
       "<polygon fill=\"black\" stroke=\"black\" points=\"47,-215.872 42.5001,-205.872 47,-210.872 47.0001,-205.872 47.0001,-205.872 47.0001,-205.872 47,-210.872 51.5001,-205.872 47,-215.872 47,-215.872\"/>\n",
       "<text text-anchor=\"middle\" x=\"75\" y=\"-186.8\" font-family=\"Times,serif\" font-size=\"14.00\">20x24x24</text>\n",
       "</g>\n",
       "<!-- pooling0 -->\n",
       "<g id=\"node4\" class=\"node\"><title>pooling0</title>\n",
       "<polygon fill=\"#80b1d3\" stroke=\"black\" points=\"94,-382 -7.10543e-15,-382 -7.10543e-15,-324 94,-324 94,-382\"/>\n",
       "<text text-anchor=\"middle\" x=\"47\" y=\"-355.8\" font-family=\"Times,serif\" font-size=\"14.00\">Pooling</text>\n",
       "<text text-anchor=\"middle\" x=\"47\" y=\"-341.8\" font-family=\"Times,serif\" font-size=\"14.00\">max, 2x2/2x2</text>\n",
       "</g>\n",
       "<!-- pooling0&#45;&gt;activation0 -->\n",
       "<g id=\"edge3\" class=\"edge\"><title>pooling0&#45;&gt;activation0</title>\n",
       "<path fill=\"none\" stroke=\"black\" d=\"M47,-313.757C47,-300.713 47,-286.374 47,-274.259\"/>\n",
       "<polygon fill=\"black\" stroke=\"black\" points=\"47,-323.872 42.5001,-313.872 47,-318.872 47.0001,-313.872 47.0001,-313.872 47.0001,-313.872 47,-318.872 51.5001,-313.872 47,-323.872 47,-323.872\"/>\n",
       "<text text-anchor=\"middle\" x=\"75\" y=\"-294.8\" font-family=\"Times,serif\" font-size=\"14.00\">20x24x24</text>\n",
       "</g>\n",
       "<!-- convolution1 -->\n",
       "<g id=\"node5\" class=\"node\"><title>convolution1</title>\n",
       "<polygon fill=\"#fb8072\" stroke=\"black\" points=\"94,-490 -7.10543e-15,-490 -7.10543e-15,-432 94,-432 94,-490\"/>\n",
       "<text text-anchor=\"middle\" x=\"47\" y=\"-463.8\" font-family=\"Times,serif\" font-size=\"14.00\">Convolution</text>\n",
       "<text text-anchor=\"middle\" x=\"47\" y=\"-449.8\" font-family=\"Times,serif\" font-size=\"14.00\">5x5/1, 50</text>\n",
       "</g>\n",
       "<!-- convolution1&#45;&gt;pooling0 -->\n",
       "<g id=\"edge4\" class=\"edge\"><title>convolution1&#45;&gt;pooling0</title>\n",
       "<path fill=\"none\" stroke=\"black\" d=\"M47,-421.757C47,-408.713 47,-394.374 47,-382.259\"/>\n",
       "<polygon fill=\"black\" stroke=\"black\" points=\"47,-431.872 42.5001,-421.872 47,-426.872 47.0001,-421.872 47.0001,-421.872 47.0001,-421.872 47,-426.872 51.5001,-421.872 47,-431.872 47,-431.872\"/>\n",
       "<text text-anchor=\"middle\" x=\"75\" y=\"-402.8\" font-family=\"Times,serif\" font-size=\"14.00\">20x12x12</text>\n",
       "</g>\n",
       "<!-- activation1 -->\n",
       "<g id=\"node6\" class=\"node\"><title>activation1</title>\n",
       "<polygon fill=\"#ffffb3\" stroke=\"black\" points=\"94,-598 -7.10543e-15,-598 -7.10543e-15,-540 94,-540 94,-598\"/>\n",
       "<text text-anchor=\"middle\" x=\"47\" y=\"-571.8\" font-family=\"Times,serif\" font-size=\"14.00\">Activation</text>\n",
       "<text text-anchor=\"middle\" x=\"47\" y=\"-557.8\" font-family=\"Times,serif\" font-size=\"14.00\">tanh</text>\n",
       "</g>\n",
       "<!-- activation1&#45;&gt;convolution1 -->\n",
       "<g id=\"edge5\" class=\"edge\"><title>activation1&#45;&gt;convolution1</title>\n",
       "<path fill=\"none\" stroke=\"black\" d=\"M47,-529.757C47,-516.713 47,-502.374 47,-490.259\"/>\n",
       "<polygon fill=\"black\" stroke=\"black\" points=\"47,-539.872 42.5001,-529.872 47,-534.872 47.0001,-529.872 47.0001,-529.872 47.0001,-529.872 47,-534.872 51.5001,-529.872 47,-539.872 47,-539.872\"/>\n",
       "<text text-anchor=\"middle\" x=\"68\" y=\"-510.8\" font-family=\"Times,serif\" font-size=\"14.00\">50x8x8</text>\n",
       "</g>\n",
       "<!-- pooling1 -->\n",
       "<g id=\"node7\" class=\"node\"><title>pooling1</title>\n",
       "<polygon fill=\"#80b1d3\" stroke=\"black\" points=\"94,-706 -7.10543e-15,-706 -7.10543e-15,-648 94,-648 94,-706\"/>\n",
       "<text text-anchor=\"middle\" x=\"47\" y=\"-679.8\" font-family=\"Times,serif\" font-size=\"14.00\">Pooling</text>\n",
       "<text text-anchor=\"middle\" x=\"47\" y=\"-665.8\" font-family=\"Times,serif\" font-size=\"14.00\">max, 2x2/2x2</text>\n",
       "</g>\n",
       "<!-- pooling1&#45;&gt;activation1 -->\n",
       "<g id=\"edge6\" class=\"edge\"><title>pooling1&#45;&gt;activation1</title>\n",
       "<path fill=\"none\" stroke=\"black\" d=\"M47,-637.757C47,-624.713 47,-610.374 47,-598.259\"/>\n",
       "<polygon fill=\"black\" stroke=\"black\" points=\"47,-647.872 42.5001,-637.872 47,-642.872 47.0001,-637.872 47.0001,-637.872 47.0001,-637.872 47,-642.872 51.5001,-637.872 47,-647.872 47,-647.872\"/>\n",
       "<text text-anchor=\"middle\" x=\"68\" y=\"-618.8\" font-family=\"Times,serif\" font-size=\"14.00\">50x8x8</text>\n",
       "</g>\n",
       "<!-- flatten2 -->\n",
       "<g id=\"node8\" class=\"node\"><title>flatten2</title>\n",
       "<polygon fill=\"#fdb462\" stroke=\"black\" points=\"94,-814 -7.10543e-15,-814 -7.10543e-15,-756 94,-756 94,-814\"/>\n",
       "<text text-anchor=\"middle\" x=\"47\" y=\"-780.8\" font-family=\"Times,serif\" font-size=\"14.00\">flatten2</text>\n",
       "</g>\n",
       "<!-- flatten2&#45;&gt;pooling1 -->\n",
       "<g id=\"edge7\" class=\"edge\"><title>flatten2&#45;&gt;pooling1</title>\n",
       "<path fill=\"none\" stroke=\"black\" d=\"M47,-745.757C47,-732.713 47,-718.374 47,-706.259\"/>\n",
       "<polygon fill=\"black\" stroke=\"black\" points=\"47,-755.872 42.5001,-745.872 47,-750.872 47.0001,-745.872 47.0001,-745.872 47.0001,-745.872 47,-750.872 51.5001,-745.872 47,-755.872 47,-755.872\"/>\n",
       "<text text-anchor=\"middle\" x=\"68\" y=\"-726.8\" font-family=\"Times,serif\" font-size=\"14.00\">50x4x4</text>\n",
       "</g>\n",
       "<!-- fullyconnected0 -->\n",
       "<g id=\"node9\" class=\"node\"><title>fullyconnected0</title>\n",
       "<polygon fill=\"#fb8072\" stroke=\"black\" points=\"94,-922 -7.10543e-15,-922 -7.10543e-15,-864 94,-864 94,-922\"/>\n",
       "<text text-anchor=\"middle\" x=\"47\" y=\"-895.8\" font-family=\"Times,serif\" font-size=\"14.00\">FullyConnected</text>\n",
       "<text text-anchor=\"middle\" x=\"47\" y=\"-881.8\" font-family=\"Times,serif\" font-size=\"14.00\">500</text>\n",
       "</g>\n",
       "<!-- fullyconnected0&#45;&gt;flatten2 -->\n",
       "<g id=\"edge8\" class=\"edge\"><title>fullyconnected0&#45;&gt;flatten2</title>\n",
       "<path fill=\"none\" stroke=\"black\" d=\"M47,-853.757C47,-840.713 47,-826.374 47,-814.259\"/>\n",
       "<polygon fill=\"black\" stroke=\"black\" points=\"47,-863.872 42.5001,-853.872 47,-858.872 47.0001,-853.872 47.0001,-853.872 47.0001,-853.872 47,-858.872 51.5001,-853.872 47,-863.872 47,-863.872\"/>\n",
       "<text text-anchor=\"middle\" x=\"57.5\" y=\"-834.8\" font-family=\"Times,serif\" font-size=\"14.00\">800</text>\n",
       "</g>\n",
       "<!-- activation2 -->\n",
       "<g id=\"node10\" class=\"node\"><title>activation2</title>\n",
       "<polygon fill=\"#ffffb3\" stroke=\"black\" points=\"94,-1030 -7.10543e-15,-1030 -7.10543e-15,-972 94,-972 94,-1030\"/>\n",
       "<text text-anchor=\"middle\" x=\"47\" y=\"-1003.8\" font-family=\"Times,serif\" font-size=\"14.00\">Activation</text>\n",
       "<text text-anchor=\"middle\" x=\"47\" y=\"-989.8\" font-family=\"Times,serif\" font-size=\"14.00\">tanh</text>\n",
       "</g>\n",
       "<!-- activation2&#45;&gt;fullyconnected0 -->\n",
       "<g id=\"edge9\" class=\"edge\"><title>activation2&#45;&gt;fullyconnected0</title>\n",
       "<path fill=\"none\" stroke=\"black\" d=\"M47,-961.757C47,-948.713 47,-934.374 47,-922.259\"/>\n",
       "<polygon fill=\"black\" stroke=\"black\" points=\"47,-971.872 42.5001,-961.872 47,-966.872 47.0001,-961.872 47.0001,-961.872 47.0001,-961.872 47,-966.872 51.5001,-961.872 47,-971.872 47,-971.872\"/>\n",
       "<text text-anchor=\"middle\" x=\"57.5\" y=\"-942.8\" font-family=\"Times,serif\" font-size=\"14.00\">500</text>\n",
       "</g>\n",
       "<!-- fullyconnected1 -->\n",
       "<g id=\"node11\" class=\"node\"><title>fullyconnected1</title>\n",
       "<polygon fill=\"#fb8072\" stroke=\"black\" points=\"94,-1138 -7.10543e-15,-1138 -7.10543e-15,-1080 94,-1080 94,-1138\"/>\n",
       "<text text-anchor=\"middle\" x=\"47\" y=\"-1111.8\" font-family=\"Times,serif\" font-size=\"14.00\">FullyConnected</text>\n",
       "<text text-anchor=\"middle\" x=\"47\" y=\"-1097.8\" font-family=\"Times,serif\" font-size=\"14.00\">10</text>\n",
       "</g>\n",
       "<!-- fullyconnected1&#45;&gt;activation2 -->\n",
       "<g id=\"edge10\" class=\"edge\"><title>fullyconnected1&#45;&gt;activation2</title>\n",
       "<path fill=\"none\" stroke=\"black\" d=\"M47,-1069.76C47,-1056.71 47,-1042.37 47,-1030.26\"/>\n",
       "<polygon fill=\"black\" stroke=\"black\" points=\"47,-1079.87 42.5001,-1069.87 47,-1074.87 47.0001,-1069.87 47.0001,-1069.87 47.0001,-1069.87 47,-1074.87 51.5001,-1069.87 47,-1079.87 47,-1079.87\"/>\n",
       "<text text-anchor=\"middle\" x=\"57.5\" y=\"-1050.8\" font-family=\"Times,serif\" font-size=\"14.00\">500</text>\n",
       "</g>\n",
       "<!-- softmax_label -->\n",
       "<g id=\"node12\" class=\"node\"><title>softmax_label</title>\n",
       "<ellipse fill=\"#8dd3c7\" stroke=\"black\" cx=\"159\" cy=\"-1109\" rx=\"47\" ry=\"29\"/>\n",
       "<text text-anchor=\"middle\" x=\"159\" y=\"-1104.8\" font-family=\"Times,serif\" font-size=\"14.00\">softmax_label</text>\n",
       "</g>\n",
       "<!-- softmax -->\n",
       "<g id=\"node13\" class=\"node\"><title>softmax</title>\n",
       "<polygon fill=\"#fccde5\" stroke=\"black\" points=\"170,-1246 76,-1246 76,-1188 170,-1188 170,-1246\"/>\n",
       "<text text-anchor=\"middle\" x=\"123\" y=\"-1212.8\" font-family=\"Times,serif\" font-size=\"14.00\">softmax</text>\n",
       "</g>\n",
       "<!-- softmax&#45;&gt;fullyconnected1 -->\n",
       "<g id=\"edge11\" class=\"edge\"><title>softmax&#45;&gt;fullyconnected1</title>\n",
       "<path fill=\"none\" stroke=\"black\" d=\"M96.9621,-1179.68C87.2503,-1166.14 76.3777,-1150.97 67.2613,-1138.26\"/>\n",
       "<polygon fill=\"black\" stroke=\"black\" points=\"102.833,-1187.87 93.3489,-1182.37 99.9195,-1183.81 97.006,-1179.75 97.006,-1179.75 97.006,-1179.75 99.9195,-1183.81 100.663,-1177.12 102.833,-1187.87 102.833,-1187.87\"/>\n",
       "<text text-anchor=\"middle\" x=\"97\" y=\"-1158.8\" font-family=\"Times,serif\" font-size=\"14.00\">10</text>\n",
       "</g>\n",
       "<!-- softmax&#45;&gt;softmax_label -->\n",
       "<g id=\"edge12\" class=\"edge\"><title>softmax&#45;&gt;softmax_label</title>\n",
       "<path fill=\"none\" stroke=\"black\" d=\"M135.778,-1178.38C140.353,-1164.9 145.421,-1149.98 149.652,-1137.52\"/>\n",
       "<polygon fill=\"black\" stroke=\"black\" points=\"132.553,-1187.87 131.508,-1176.96 134.161,-1183.14 135.769,-1178.4 135.769,-1178.4 135.769,-1178.4 134.161,-1183.14 140.03,-1179.85 132.553,-1187.87 132.553,-1187.87\"/>\n",
       "</g>\n",
       "</g>\n",
       "</svg>\n"
      ],
      "text/plain": [
       "<graphviz.dot.Digraph at 0x119c8d898>"
      ]
     },
     "execution_count": 23,
     "metadata": {},
     "output_type": "execute_result"
    }
   ],
   "source": [
    "data = mx.symbol.Variable('data')\n",
    "# first conv layer\n",
    "conv1 = mx.sym.Convolution(data=data, kernel=(5,5), num_filter=20)\n",
    "tanh1 = mx.sym.Activation(data=conv1, act_type=\"tanh\")\n",
    "pool1 = mx.sym.Pooling(data=tanh1, pool_type=\"max\", kernel=(2,2), stride=(2,2))\n",
    "# second conv layer\n",
    "conv2 = mx.sym.Convolution(data=pool1, kernel=(5,5), num_filter=50)\n",
    "tanh2 = mx.sym.Activation(data=conv2, act_type=\"tanh\")\n",
    "pool2 = mx.sym.Pooling(data=tanh2, pool_type=\"max\", kernel=(2,2), stride=(2,2))\n",
    "# first fullc layer\n",
    "flatten = mx.sym.Flatten(data=pool2)\n",
    "fc1 = mx.symbol.FullyConnected(data=flatten, num_hidden=500)\n",
    "tanh3 = mx.sym.Activation(data=fc1, act_type=\"tanh\")\n",
    "# second fullc\n",
    "fc2 = mx.sym.FullyConnected(data=tanh3, num_hidden=10)\n",
    "# softmax loss\n",
    "lenet = mx.sym.SoftmaxOutput(data=fc2, name='softmax')\n",
    "mx.viz.plot_network(symbol=lenet, shape=shape)"
   ]
  },
  {
   "cell_type": "markdown",
   "metadata": {},
   "source": [
    "Note that LeNet is more complex than the previous multilayer perceptron, so we use GPU instead of CPU for training. "
   ]
  },
  {
   "cell_type": "code",
   "execution_count": 25,
   "metadata": {
    "scrolled": true
   },
   "outputs": [
    {
     "name": "stderr",
     "output_type": "stream",
     "text": [
      "/Users/sai/anaconda/envs/python35/lib/python3.5/site-packages/ipykernel_launcher.py:8: DeprecationWarning: \u001b[91mmxnet.model.FeedForward has been deprecated. Please use mxnet.mod.Module instead.\u001b[0m\n",
      "  \n",
      "/Users/sai/anaconda/envs/python35/lib/python3.5/site-packages/mxnet/model.py:547: DeprecationWarning: \u001b[91mCalling initializer with init(str, NDArray) has been deprecated.please use init(mx.init.InitDesc(...), NDArray) instead.\u001b[0m\n",
      "  self.initializer(k, v)\n",
      "INFO:root:Start training with [cpu(1)]\n",
      "INFO:root:Epoch[0] Batch [200]\tSpeed: 1213.17 samples/sec\taccuracy=0.110700\n",
      "INFO:root:Epoch[0] Batch [400]\tSpeed: 1342.54 samples/sec\taccuracy=0.110000\n",
      "INFO:root:Epoch[0] Batch [600]\tSpeed: 1342.34 samples/sec\taccuracy=0.114400\n",
      "INFO:root:Epoch[0] Resetting Data Iterator\n",
      "INFO:root:Epoch[0] Time cost=46.328\n",
      "INFO:root:Epoch[0] Validation-accuracy=0.113500\n",
      "INFO:root:Epoch[1] Batch [200]\tSpeed: 1349.98 samples/sec\taccuracy=0.226650\n",
      "INFO:root:Epoch[1] Batch [400]\tSpeed: 1344.00 samples/sec\taccuracy=0.848000\n",
      "INFO:root:Epoch[1] Batch [600]\tSpeed: 1317.88 samples/sec\taccuracy=0.919250\n",
      "INFO:root:Epoch[1] Resetting Data Iterator\n",
      "INFO:root:Epoch[1] Time cost=44.911\n",
      "INFO:root:Epoch[1] Validation-accuracy=0.941700\n",
      "INFO:root:Epoch[2] Batch [200]\tSpeed: 1361.77 samples/sec\taccuracy=0.943450\n",
      "INFO:root:Epoch[2] Batch [400]\tSpeed: 1358.79 samples/sec\taccuracy=0.957400\n",
      "INFO:root:Epoch[2] Batch [600]\tSpeed: 1353.51 samples/sec\taccuracy=0.967100\n",
      "INFO:root:Epoch[2] Resetting Data Iterator\n",
      "INFO:root:Epoch[2] Time cost=44.221\n",
      "INFO:root:Epoch[2] Validation-accuracy=0.972700\n",
      "INFO:root:Epoch[3] Batch [200]\tSpeed: 1356.16 samples/sec\taccuracy=0.970500\n",
      "INFO:root:Epoch[3] Batch [400]\tSpeed: 1359.09 samples/sec\taccuracy=0.973150\n",
      "INFO:root:Epoch[3] Batch [600]\tSpeed: 1351.68 samples/sec\taccuracy=0.977950\n",
      "INFO:root:Epoch[3] Resetting Data Iterator\n",
      "INFO:root:Epoch[3] Time cost=44.300\n",
      "INFO:root:Epoch[3] Validation-accuracy=0.980200\n",
      "INFO:root:Epoch[4] Batch [200]\tSpeed: 1225.02 samples/sec\taccuracy=0.978550\n",
      "INFO:root:Epoch[4] Batch [400]\tSpeed: 1285.72 samples/sec\taccuracy=0.980050\n",
      "INFO:root:Epoch[4] Batch [600]\tSpeed: 1382.73 samples/sec\taccuracy=0.982700\n",
      "INFO:root:Epoch[4] Resetting Data Iterator\n",
      "INFO:root:Epoch[4] Time cost=46.389\n",
      "INFO:root:Epoch[4] Validation-accuracy=0.983900\n",
      "INFO:root:Epoch[5] Batch [200]\tSpeed: 1395.00 samples/sec\taccuracy=0.982950\n",
      "INFO:root:Epoch[5] Batch [400]\tSpeed: 1218.54 samples/sec\taccuracy=0.983700\n",
      "INFO:root:Epoch[5] Batch [600]\tSpeed: 1200.68 samples/sec\taccuracy=0.986500\n",
      "INFO:root:Epoch[5] Resetting Data Iterator\n",
      "INFO:root:Epoch[5] Time cost=47.457\n",
      "INFO:root:Epoch[5] Validation-accuracy=0.985600\n",
      "INFO:root:Epoch[6] Batch [200]\tSpeed: 1362.43 samples/sec\taccuracy=0.985850\n",
      "INFO:root:Epoch[6] Batch [400]\tSpeed: 1348.30 samples/sec\taccuracy=0.986700\n",
      "INFO:root:Epoch[6] Batch [600]\tSpeed: 1139.55 samples/sec\taccuracy=0.988750\n",
      "INFO:root:Epoch[6] Resetting Data Iterator\n",
      "INFO:root:Epoch[6] Time cost=47.102\n",
      "INFO:root:Epoch[6] Validation-accuracy=0.987300\n",
      "INFO:root:Epoch[7] Batch [200]\tSpeed: 1295.60 samples/sec\taccuracy=0.987800\n",
      "INFO:root:Epoch[7] Batch [400]\tSpeed: 1297.30 samples/sec\taccuracy=0.988750\n",
      "INFO:root:Epoch[7] Batch [600]\tSpeed: 1253.93 samples/sec\taccuracy=0.990450\n",
      "INFO:root:Epoch[7] Resetting Data Iterator\n",
      "INFO:root:Epoch[7] Time cost=46.855\n",
      "INFO:root:Epoch[7] Validation-accuracy=0.988000\n",
      "INFO:root:Epoch[8] Batch [200]\tSpeed: 1335.80 samples/sec\taccuracy=0.989200\n",
      "INFO:root:Epoch[8] Batch [400]\tSpeed: 1337.98 samples/sec\taccuracy=0.990100\n",
      "INFO:root:Epoch[8] Batch [600]\tSpeed: 1320.71 samples/sec\taccuracy=0.991600\n",
      "INFO:root:Epoch[8] Resetting Data Iterator\n",
      "INFO:root:Epoch[8] Time cost=45.104\n",
      "INFO:root:Epoch[8] Validation-accuracy=0.989000\n",
      "INFO:root:Epoch[9] Batch [200]\tSpeed: 1251.02 samples/sec\taccuracy=0.990650\n",
      "INFO:root:Epoch[9] Batch [400]\tSpeed: 1326.70 samples/sec\taccuracy=0.991150\n",
      "INFO:root:Epoch[9] Batch [600]\tSpeed: 1336.53 samples/sec\taccuracy=0.993000\n",
      "INFO:root:Epoch[9] Resetting Data Iterator\n",
      "INFO:root:Epoch[9] Time cost=46.066\n",
      "INFO:root:Epoch[9] Validation-accuracy=0.989200\n"
     ]
    }
   ],
   "source": [
    "# @@@ AUTOTEST_OUTPUT_IGNORED_CELL\n",
    "model = mx.model.FeedForward(\n",
    "    \n",
    "    #ctx = mx.gpu(0),     # use GPU 0 for training, others are same as before\n",
    "    ctx = mx.cpu(1),\n",
    "    symbol = lenet,       \n",
    "    num_epoch = 10,     \n",
    "    learning_rate = 0.1)\n",
    "model.fit(\n",
    "    X=train_iter,  \n",
    "    eval_data=val_iter, \n",
    "    batch_end_callback = mx.callback.Speedometer(batch_size, 200)\n",
    ") \n",
    "assert model.score(val_iter) > 0.98, \"Low validation accuracy.\""
   ]
  },
  {
   "cell_type": "markdown",
   "metadata": {},
   "source": [
    "Note that, with the same hyper-parameters, LeNet achieves 98.7% validation accuracy, which improves on the previous multilayer perceptron accuracy of 96.6%.\n",
    "\n",
    "Because we rewrite the model parameters in `mod`, now we can try the previous digit recognition box again to check if or not the new CNN model improves the classification accuracy."
   ]
  }
 ],
 "metadata": {
  "anaconda-cloud": {},
  "kernelspec": {
   "display_name": "Python 3.5",
   "language": "python",
   "name": "python35"
  },
  "language_info": {
   "codemirror_mode": {
    "name": "ipython",
    "version": 3
   },
   "file_extension": ".py",
   "mimetype": "text/x-python",
   "name": "python",
   "nbconvert_exporter": "python",
   "pygments_lexer": "ipython3",
   "version": "3.5.4"
  }
 },
 "nbformat": 4,
 "nbformat_minor": 1
}
